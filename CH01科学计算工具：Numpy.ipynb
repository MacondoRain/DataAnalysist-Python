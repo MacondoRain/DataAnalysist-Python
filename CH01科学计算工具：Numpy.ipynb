{
 "cells": [
  {
   "cell_type": "code",
   "execution_count": 1,
   "metadata": {},
   "outputs": [
    {
     "data": {
      "text/plain": [
       "'\\n【课程1.2】  Numpy基础数据结构\\n\\nNumPy数组是一个多维数组对象，称为ndarray。其由两部分组成：\\n① 实际的数据\\n② 描述这些数据的元数据\\n\\n'"
      ]
     },
     "execution_count": 1,
     "metadata": {},
     "output_type": "execute_result"
    }
   ],
   "source": [
    "'''\n",
    "【课程1.2】  Numpy基础数据结构\n",
    "\n",
    "NumPy数组是一个多维数组对象，称为ndarray。其由两部分组成：\n",
    "① 实际的数据\n",
    "② 描述这些数据的元数据\n",
    "\n",
    "'''"
   ]
  },
  {
   "cell_type": "code",
   "execution_count": 18,
   "metadata": {},
   "outputs": [
    {
     "name": "stdout",
     "output_type": "stream",
     "text": [
      "[[1 2 3 4 5]\n",
      " [1 2 3 4 5]\n",
      " [1 2 3 4 5]] <class 'numpy.ndarray'>\n",
      "2\n",
      "(3, 5)\n",
      "15\n",
      "int64\n",
      "8\n",
      "<memory at 0x111c49558>\n"
     ]
    }
   ],
   "source": [
    "import numpy as np\n",
    "\n",
    "ar = np.array([[1,2,3,4,5],[1,2,3,4,5],[1,2,3,4,5]])\n",
    "print (ar, type(ar))\n",
    "\n",
    "print (ar.ndim) # 读取维度   2维数组相当于一个矩阵，3维数组相当于两个矩阵\n",
    "\n",
    "print (ar.shape) # 矩阵的行和列数\n",
    "\n",
    "print (ar.size)  #元素的数量\n",
    "\n",
    "print (ar.dtype) # 数组中数值的数据类型\n",
    "\n",
    "print (ar.itemsize) #每个元素字节的大小\n",
    "\n",
    "print (ar.data) #数据的位置\n"
   ]
  },
  {
   "cell_type": "code",
   "execution_count": 28,
   "metadata": {},
   "outputs": [
    {
     "name": "stdout",
     "output_type": "stream",
     "text": [
      "[0 1 2 3 4 5 6 7 8 9] \n",
      " [0 1 2 3 4 5 6 7 8 9] \n",
      " [1 2 3 4 5]\n"
     ]
    }
   ],
   "source": [
    "# 创建数组\n",
    "\n",
    "ar1 = np.array(range(10))\n",
    "ar2 = np.arange(10)       # arange创建1维数组\n",
    "ar3 = np.array([ 1,2,3,4,5])\n",
    "print (ar1, '\\n', ar2, '\\n', ar3)"
   ]
  },
  {
   "cell_type": "code",
   "execution_count": 34,
   "metadata": {},
   "outputs": [
    {
     "name": "stdout",
     "output_type": "stream",
     "text": [
      "[10.  10.5 11.  11.5 12.  12.5 13.  13.5 14.  14.5 15.  15.5 16.  16.5\n",
      " 17.  17.5 18.  18.5 19.  19.5 20. ]\n",
      "(array([10. , 10.5, 11. , 11.5, 12. , 12.5, 13. , 13.5, 14. , 14.5, 15. ,\n",
      "       15.5, 16. , 16.5, 17. , 17.5, 18. , 18.5, 19. , 19.5, 20. ]), 0.5)\n"
     ]
    }
   ],
   "source": [
    "# 创建数组：linspace():返回在间隔[开始，停止]上计算的num个均匀间隔的样本。\n",
    "\n",
    "print (np.linspace(10,20,num = 21))\n",
    "\n",
    "#print (np.linspace(10,20,num = 21, endpoint = False))\n",
    "\n",
    "print (np.linspace(10,20,num = 21, retstep = True))"
   ]
  },
  {
   "cell_type": "code",
   "execution_count": 43,
   "metadata": {},
   "outputs": [
    {
     "name": "stdout",
     "output_type": "stream",
     "text": [
      "[[0 0 0 0 0]\n",
      " [0 0 0 0 0]]\n",
      "[[ 0  1  2  3  4  5  6  7  8  9]\n",
      " [10 11 12 13 14 15 16 17 18 19]]\n",
      "[[0 0 0 0 0 0 0 0 0 0]\n",
      " [0 0 0 0 0 0 0 0 0 0]]\n",
      "[[1 1 1]\n",
      " [1 1 1]]\n",
      "[[1 1 1 1 1 1 1 1 1 1]\n",
      " [1 1 1 1 1 1 1 1 1 1]]\n"
     ]
    }
   ],
   "source": [
    "# 创建数组：zeros()/zeros_like()/ones()/ones_like()\n",
    "\n",
    "print (np.zeros((2,5), dtype = np.int))\n",
    "\n",
    "ar = np.array([list(range(10)),list(range(10,20))])\n",
    "print (ar)\n",
    "print (np.zeros_like(ar))\n",
    "\n",
    "print (np.ones((2,3), dtype = np.int))\n",
    "print (np.ones_like(ar))"
   ]
  },
  {
   "cell_type": "code",
   "execution_count": 48,
   "metadata": {},
   "outputs": [
    {
     "name": "stdout",
     "output_type": "stream",
     "text": [
      "[[1 0 0 0 0 0 0 0 0 0]\n",
      " [0 1 0 0 0 0 0 0 0 0]\n",
      " [0 0 1 0 0 0 0 0 0 0]\n",
      " [0 0 0 1 0 0 0 0 0 0]\n",
      " [0 0 0 0 1 0 0 0 0 0]\n",
      " [0 0 0 0 0 1 0 0 0 0]\n",
      " [0 0 0 0 0 0 1 0 0 0]\n",
      " [0 0 0 0 0 0 0 1 0 0]\n",
      " [0 0 0 0 0 0 0 0 1 0]\n",
      " [0 0 0 0 0 0 0 0 0 1]]\n"
     ]
    }
   ],
   "source": [
    "print (np.eye(10, dtype = int))\n"
   ]
  },
  {
   "cell_type": "code",
   "execution_count": 68,
   "metadata": {},
   "outputs": [
    {
     "name": "stdout",
     "output_type": "stream",
     "text": [
      "[1 2 'a' 'hello' list([1, 2, 3]) {'two': 200, 'one': 100}] (6,)\n",
      "[['1' '2' '3' '4' '5']\n",
      " ['a' 'b' 'c' 'd' 'e']\n",
      " ['True' 'False' 'True' 'False' 'True']] (3, 5)\n"
     ]
    }
   ],
   "source": [
    "# 1.2 课程作业\n",
    "\n",
    "import numpy as np\n",
    "ar1 = np.array([1, 2, 'a', 'hello', [1,2,3], {'two':200,'one':100}])\n",
    "print (ar1, ar1.shape)\n",
    "\n",
    "ar2 = np.array([[1,2,3,4,5],\n",
    "                ['a','b','c','d','e'],\n",
    "                [True, False, True, False, True]])\n",
    "print (ar2, ar2.shape)\n"
   ]
  },
  {
   "cell_type": "code",
   "execution_count": 72,
   "metadata": {},
   "outputs": [
    {
     "name": "stdout",
     "output_type": "stream",
     "text": [
      "[ 5  6  7  8  9 10 11 12 13 14]\n"
     ]
    }
   ],
   "source": [
    "ar3 = np.linspace(5,15,num = 10, endpoint = False, dtype = int)\n",
    "print (ar3)"
   ]
  },
  {
   "cell_type": "code",
   "execution_count": 76,
   "metadata": {},
   "outputs": [
    {
     "name": "stdout",
     "output_type": "stream",
     "text": [
      "[[0. 0. 0. 0.]\n",
      " [0. 0. 0. 0.]\n",
      " [0. 0. 0. 0.]\n",
      " [0. 0. 0. 0.]]\n"
     ]
    }
   ],
   "source": [
    "print (np.zeros((4,4)))"
   ]
  },
  {
   "cell_type": "code",
   "execution_count": 77,
   "metadata": {},
   "outputs": [
    {
     "name": "stdout",
     "output_type": "stream",
     "text": [
      "[[1. 1. 1.]\n",
      " [1. 1. 1.]]\n"
     ]
    }
   ],
   "source": [
    "print (np.ones((2,3)))"
   ]
  },
  {
   "cell_type": "code",
   "execution_count": 80,
   "metadata": {},
   "outputs": [
    {
     "name": "stdout",
     "output_type": "stream",
     "text": [
      "[[1 0 0]\n",
      " [0 1 0]\n",
      " [0 0 1]]\n"
     ]
    }
   ],
   "source": [
    "print (np.eye(3, dtype = int))"
   ]
  },
  {
   "cell_type": "code",
   "execution_count": 82,
   "metadata": {},
   "outputs": [
    {
     "data": {
      "text/plain": [
       "'\\n【课程1.3】  Numpy通用函数\\n\\n基本操作\\n\\n'"
      ]
     },
     "execution_count": 82,
     "metadata": {},
     "output_type": "execute_result"
    }
   ],
   "source": [
    "'''\n",
    "【课程1.3】  Numpy通用函数\n",
    "\n",
    "基本操作\n",
    "\n",
    "'''"
   ]
  },
  {
   "cell_type": "code",
   "execution_count": 98,
   "metadata": {},
   "outputs": [
    {
     "name": "stdout",
     "output_type": "stream",
     "text": [
      "(10,)\n",
      "(10,)\n",
      "(5, 2) \n",
      " (2, 5)\n",
      "[[0 1 2 3 4]\n",
      " [5 6 7 8 9]]\n",
      "[1. 1. 1. 1. 1. 1. 1. 1. 1. 1.]\n",
      "[[0 1 2 3 4 0 1 2 3 4]\n",
      " [0 1 2 3 4 0 1 2 3 4]]\n"
     ]
    }
   ],
   "source": [
    "ar1 = np.arange(10)\n",
    "ar2 = np.ones((5,2))\n",
    "#print(ar1, '\\n', ar2)\n",
    "\n",
    "print (ar1.shape)\n",
    "print (ar1.T.shape)\n",
    "\n",
    "print (ar2.shape, '\\n', ar2.T.shape)\n",
    "# .T方法：转置，例如原shape为(3,4)/(2,3,4)，转置结果为(4,3)/(4,3,2) → 所以一维数组转置后结果不变\n",
    "\n",
    "ar3 = ar1.reshape(2,5)\n",
    "print (ar3)\n",
    "\n",
    "ar4 = np.reshape(ar2,(10,))\n",
    "# numpy.reshape(a, newshape, order='C')：为数组提供新形状，而不更改其数据，所以元素数量需要一致！！\n",
    "print (ar4)\n",
    "\n",
    "ar5 = np.resize(np.arange(5),(2,10))\n",
    "print (ar5)\n",
    "# numpy.resize(a, new_shape)：返回具有指定形状的新数组，如有必要可重复填充所需数量的元素。\n",
    "# 注意了：.T/.reshape()/.resize()都是生成新的数组！！！"
   ]
  },
  {
   "cell_type": "code",
   "execution_count": 115,
   "metadata": {},
   "outputs": [
    {
     "name": "stdout",
     "output_type": "stream",
     "text": [
      "True\n",
      "[0 1 2 3 4 5 6 7 8 9] [0 1 2 3 4 5 6 7 8 9]\n",
      "[0 6 9 3 4 5 6 7 8 9] [0 6 9 3 4 5 6 7 8 9]\n",
      "False\n",
      "[0 6 0 3 4 5 6 7 8 9] [0 6 9 3 4 5 6 7 8 9]\n"
     ]
    }
   ],
   "source": [
    "# 数组的复制\n",
    "\n",
    "ar = np.arange(10)\n",
    "\n",
    "ar1 = ar\n",
    "\n",
    "print (ar is ar1)\n",
    "print (ar, ar1)\n",
    "ar1[1] = 6\n",
    "ar1[2] = 9\n",
    "print (ar, ar1)\n",
    "\n",
    "ar2 = ar.copy()\n",
    "print (ar2 is ar)\n",
    "ar2[2] = 0\n",
    "print(ar2,ar)"
   ]
  },
  {
   "cell_type": "code",
   "execution_count": 120,
   "metadata": {},
   "outputs": [
    {
     "name": "stdout",
     "output_type": "stream",
     "text": [
      "[0 6 9 3 4 5 6 7 8 9] int64\n"
     ]
    }
   ],
   "source": [
    "# 数组类型转换：.astype()\n",
    "ar3 = ar.astype(np.int64)\n",
    "print(ar3,ar3.dtype)"
   ]
  },
  {
   "cell_type": "code",
   "execution_count": 133,
   "metadata": {},
   "outputs": [
    {
     "name": "stdout",
     "output_type": "stream",
     "text": [
      "[0 1 2 3 4] \n",
      " [5 6 7 8 9]\n",
      "[0 1 2 3 4 5 6 7 8 9]\n",
      "[[0 1 2 3 4]\n",
      " [5 6 7 8 9]]\n",
      "[[0 1 2 3 4 0 1 2 3 4]\n",
      " [5 6 7 8 9 5 6 7 8 9]\n",
      " [0 1 2 3 4 5 6 7 8 9]]\n"
     ]
    }
   ],
   "source": [
    "# 数组堆叠\n",
    "\n",
    "a = np.arange(5)\n",
    "b = np.arange(5,10)\n",
    "print (a, '\\n', b)\n",
    "\n",
    "c = np.hstack((a,b)) #横向拼接\n",
    "print (c)\n",
    "\n",
    "d = np.vstack((a,b))\n",
    "print (d)\n",
    "\n",
    "e = np.hstack((c.reshape(2,5),d))\n",
    "\n",
    "print (np.vstack((e,c)))"
   ]
  },
  {
   "cell_type": "code",
   "execution_count": 140,
   "metadata": {},
   "outputs": [
    {
     "name": "stdout",
     "output_type": "stream",
     "text": [
      "[[0 1 2 3 4]\n",
      " [5 6 7 8 9]]\n",
      "[[0 5]\n",
      " [1 6]\n",
      " [2 7]\n",
      " [3 8]\n",
      " [4 9]]\n",
      "[[0 5]\n",
      " [1 6]\n",
      " [2 7]\n",
      " [3 8]\n",
      " [4 9]]\n",
      "False\n"
     ]
    }
   ],
   "source": [
    "a = np.arange(5)\n",
    "b = np.arange(5,10)\n",
    "ar1 = np.stack((a,b))\n",
    "ar2 = np.stack((a,b), axis = 1)\n",
    "print (ar1)\n",
    "\n",
    "print (ar2)\n",
    "print (ar1.T)\n",
    "print (ar2 is ar1.T)"
   ]
  },
  {
   "cell_type": "code",
   "execution_count": 156,
   "metadata": {},
   "outputs": [
    {
     "name": "stdout",
     "output_type": "stream",
     "text": [
      "[[ 0  1  2  3  4  5  6  7  8]\n",
      " [ 9 10 11 12 13 14 15 16 17]\n",
      " [18 19 20 21 22 23 24 25 26]\n",
      " [27 28 29 30 31 32 33 34 35]\n",
      " [36 37 38 39 40 41 42 43 44]\n",
      " [45 46 47 48 49 50 51 52 53]\n",
      " [54 55 56 57 58 59 60 61 62]\n",
      " [63 64 65 66 67 68 69 70 71]\n",
      " [72 73 74 75 76 77 78 79 80]]\n",
      "[[ 0  1  2  3  4  5  6  7  8]\n",
      " [ 9 10 11 12 13 14 15 16 17]\n",
      " [18 19 20 21 22 23 24 25 26]\n",
      " [27 28 29 30 31 32 33 34 35]\n",
      " [36 37 38 39 40 41 42 43 44]\n",
      " [45 46 47 48 49 50 51 52 53]\n",
      " [54 55 56 57 58 59 60 61 62]\n",
      " [63 64 65 66 67 68 69 70 71]\n",
      " [72 73 74 75 76 77 78 79 80]]\n",
      "[array([[0, 1, 2, 3, 4, 5, 6, 7, 8]]), array([[ 9, 10, 11, 12, 13, 14, 15, 16, 17]]), array([[18, 19, 20, 21, 22, 23, 24, 25, 26]]), array([[27, 28, 29, 30, 31, 32, 33, 34, 35]]), array([[36, 37, 38, 39, 40, 41, 42, 43, 44]]), array([[45, 46, 47, 48, 49, 50, 51, 52, 53]]), array([[54, 55, 56, 57, 58, 59, 60, 61, 62]]), array([[63, 64, 65, 66, 67, 68, 69, 70, 71]]), array([[72, 73, 74, 75, 76, 77, 78, 79, 80]])]\n"
     ]
    }
   ],
   "source": [
    "# 数组拆分\n",
    "ar = np.arange(81).reshape(9,9)\n",
    "print (ar)\n",
    "ar1 = np.hsplit(ar,3) # 拆分得到的几个数组列数必须相等\n",
    "#print (ar1)\n",
    "#print (ar1[1])\n",
    "ar2 = np.vsplit(ar,1) # 分拆得到的几个数组行数必须相等\n",
    "print (ar2[0])\n",
    "#print (ar2[1])\n",
    "#print (ar2[2])\n",
    "ar3 = np.vsplit(ar,ar.shape[0]) #逐行分拆\n",
    "print (ar3)"
   ]
  },
  {
   "cell_type": "code",
   "execution_count": 229,
   "metadata": {},
   "outputs": [
    {
     "name": "stdout",
     "output_type": "stream",
     "text": [
      "[[0 1 2]\n",
      " [3 4 5]]\n",
      "[[2 3 4]\n",
      " [5 6 7]]\n",
      "[[ 0  2  4]\n",
      " [ 6  8 10]]\n",
      "[[0.  0.5 1. ]\n",
      " [1.5 2.  2.5]]\n",
      "[[ 0  1  4]\n",
      " [ 9 16 25]]\n",
      "5\n",
      "0\n",
      "2.5\n",
      "15\n",
      "[3 5 7]\n",
      "[ 3 12]\n",
      "[[ 6  7  8]\n",
      " [ 9 10 11]]\n",
      "[[ 0  7 16]\n",
      " [27 40 55]]\n",
      "[[ 0  1  4]\n",
      " [ 0  4 10]]\n"
     ]
    }
   ],
   "source": [
    "ar = np.arange(6).reshape(2,3)\n",
    "print (ar)\n",
    "print (ar + 2)\n",
    "print (ar *2)\n",
    "print (ar/2)\n",
    "print (ar**2)\n",
    "\n",
    "print(ar.max())\n",
    "print (ar.min())\n",
    "print (ar.mean())\n",
    "print (ar.sum())\n",
    "print (np.sum(ar,axis=0)) # 按列求行\n",
    "print (np.sum(ar,axis=1))\n",
    "\n",
    "\n",
    "\n",
    "ar2 = np.arange(6,12).reshape(2,3)\n",
    "print (ar2)\n",
    "print (ar*ar2) #并不进行矩阵运算，相应位置数字相乘\n",
    "\n",
    "ar1 = np.arange(3).T\n",
    "print (ar*ar1)  #并不进行矩阵运算，每一行乘以一个一维矩阵"
   ]
  },
  {
   "cell_type": "code",
   "execution_count": 233,
   "metadata": {},
   "outputs": [
    {
     "data": {
      "text/plain": [
       "'\\n【课程1.3】作业\\n'"
      ]
     },
     "execution_count": 233,
     "metadata": {},
     "output_type": "execute_result"
    }
   ],
   "source": [
    "'''\n",
    "【课程1.3】作业\n",
    "'''"
   ]
  },
  {
   "cell_type": "code",
   "execution_count": 237,
   "metadata": {},
   "outputs": [
    {
     "name": "stdout",
     "output_type": "stream",
     "text": [
      "[[ 0  1  2  3  4]\n",
      " [ 5  6  7  8  9]\n",
      " [10 11 12 13 14]\n",
      " [15 16 17 18 19]]\n",
      "[[ 0  1  2  3  4  5]\n",
      " [ 6  7  8  9 10 11]\n",
      " [12 13 14 15 16 17]\n",
      " [18 19  0  1  2  3]\n",
      " [ 4  5  6  7  8  9]]\n"
     ]
    }
   ],
   "source": [
    "arr = np.arange(20).reshape(4,5)\n",
    "print (arr)\n",
    "print (np.resize(arr,(5,6)))"
   ]
  },
  {
   "cell_type": "code",
   "execution_count": 240,
   "metadata": {},
   "outputs": [
    {
     "name": "stdout",
     "output_type": "stream",
     "text": [
      "[['0' '1' '2' '3']\n",
      " ['4' '5' '6' '7']\n",
      " ['8' '9' '10' '11']\n",
      " ['12' '13' '14' '15']]\n"
     ]
    }
   ],
   "source": [
    "arr = np.arange(16).reshape((4,4))\n",
    "arr = np.asarray(arr,dtype=str)\n",
    "print (arr)"
   ]
  },
  {
   "cell_type": "code",
   "execution_count": 244,
   "metadata": {},
   "outputs": [
    {
     "name": "stdout",
     "output_type": "stream",
     "text": [
      "[[ 0  1  2  3]\n",
      " [ 4  5  6  7]\n",
      " [ 8  9 10 11]\n",
      " [12 13 14 15]]\n",
      "[[100 110 120 130]\n",
      " [140 150 160 170]\n",
      " [180 190 200 210]\n",
      " [220 230 240 250]]\n",
      "175.0\n",
      "2800\n"
     ]
    }
   ],
   "source": [
    "arr = np.arange(16).reshape(4,4)\n",
    "print (arr)\n",
    "result = arr *10 +100\n",
    "print (result)\n",
    "print (result.mean())\n",
    "print (result.sum())"
   ]
  },
  {
   "cell_type": "code",
   "execution_count": 177,
   "metadata": {},
   "outputs": [
    {
     "data": {
      "text/plain": [
       "'\\n【课程1.4】  Numpy索引及切片\\n\\n核心：基本索引及切片 / 布尔型索引及切片\\n\\n'"
      ]
     },
     "execution_count": 177,
     "metadata": {},
     "output_type": "execute_result"
    }
   ],
   "source": [
    "'''\n",
    "【课程1.4】  Numpy索引及切片\n",
    "\n",
    "核心：基本索引及切片 / 布尔型索引及切片\n",
    "\n",
    "'''"
   ]
  },
  {
   "cell_type": "code",
   "execution_count": 197,
   "metadata": {},
   "outputs": [
    {
     "name": "stdout",
     "output_type": "stream",
     "text": [
      "[[ 0  1  2  3]\n",
      " [ 4  5  6  7]\n",
      " [ 8  9 10 11]\n",
      " [12 13 14 15]]\n",
      "[ 8  9 10 11]\n",
      "[ 3  7 11 15]\n",
      "取2到3行 \n",
      " [[ 4  5  6  7]\n",
      " [ 8  9 10 11]]\n",
      "取2到3列 \n",
      " [[ 1  2]\n",
      " [ 5  6]\n",
      " [ 9 10]\n",
      " [13 14]]\n",
      "取第3行，第4个数值 11\n",
      "取前3行，后3列\n",
      " [[ 1  2  3]\n",
      " [ 5  6  7]\n",
      " [ 9 10 11]]\n"
     ]
    }
   ],
   "source": [
    "# 基本索引及切片\n",
    "\n",
    "ar = np.arange(10)\n",
    "#print (ar[9])\n",
    "#print (ar[:5])\n",
    "# 一维数组的索引与切片\n",
    "\n",
    "ar = np.arange(16).reshape(4,4)\n",
    "print (ar)\n",
    "print(ar[2]) #取第3行\n",
    "print(ar[:,3])# 取第4列\n",
    "\n",
    "print('取2到3行 \\n',ar[1:3]) \n",
    "print ('取2到3列 \\n', ar[:,1:3])\n",
    "\n",
    "print ('取第3行，第4个数值', ar[2,3])\n",
    "print('取前3行，后3列\\n',ar[:3,1:])"
   ]
  },
  {
   "cell_type": "code",
   "execution_count": 215,
   "metadata": {},
   "outputs": [
    {
     "name": "stdout",
     "output_type": "stream",
     "text": [
      "[[[ 0  1  2]\n",
      "  [ 3  4  5]]\n",
      "\n",
      " [[ 6  7  8]\n",
      "  [ 9 10 11]]\n",
      "\n",
      " [[12 13 14]\n",
      "  [15 16 17]]\n",
      "\n",
      " [[18 19 20]\n",
      "  [21 22 23]]] <class 'numpy.ndarray'> (4, 2, 3)\n",
      "取下一个维度的第2个元素\n",
      " [[ 6  7  8]\n",
      " [ 9 10 11]]\n",
      "取第2个元素的第1行 [[6 7 8]]\n",
      "取第2个元素第2行的第二个元素\n",
      " 10\n"
     ]
    }
   ],
   "source": [
    "ar = np.arange(24).reshape(4,2,3) #重新排成4个2*3的数组，得到的是一个数组\n",
    "print (ar, type(ar),np.shape(ar))\n",
    "\n",
    "print ('取下一个维度的第2个元素\\n', ar[1])\n",
    "print ('取第2个元素的第1行', ar[1][:1])\n",
    "print ('取第2个元素第2行的第二个元素\\n', ar[1][1][1])"
   ]
  },
  {
   "cell_type": "code",
   "execution_count": 245,
   "metadata": {},
   "outputs": [
    {
     "name": "stdout",
     "output_type": "stream",
     "text": [
      "[[ 0  1  2  3]\n",
      " [ 4  5  6  7]\n",
      " [ 8  9 10 11]]\n",
      "[[ 0  1  2  3]\n",
      " [ 8  9 10 11]]\n",
      "[[ 0  2]\n",
      " [ 4  6]\n",
      " [ 8 10]]\n",
      "---\n",
      "[[[ 0  1  2]\n",
      "  [ 3  4  5]]\n",
      "\n",
      " [[ 6  7  8]\n",
      "  [ 9 10 11]]\n",
      "\n",
      " [[12 13 14]\n",
      "  [15 16 17]]\n",
      "\n",
      " [[18 19 20]\n",
      "  [21 22 23]]]\n",
      "[[[ 0  1  2]\n",
      "  [ 3  4  5]]\n",
      "\n",
      " [[12 13 14]\n",
      "  [15 16 17]]]\n",
      "[[ 0  1  2]\n",
      " [12 13 14]] (2, 3)\n"
     ]
    }
   ],
   "source": [
    "# 布尔型索引及切片\n",
    "\n",
    "ar = np.arange(12).reshape(3,4)\n",
    "i = np.array([True, False, True])\n",
    "j = np.array([True, False, True, False])\n",
    "\n",
    "print (ar)\n",
    "print (ar[i,:]) #在第1个维度里做判断，只保留True的行，：其他维度都取\n",
    "print (ar[:,j]) #在第2个维度里做判断，只保留True的列\n",
    "\n",
    "ar = np.arange(24).reshape(4,2,3)\n",
    "print('---')\n",
    "print (ar)\n",
    "o = np.array([True, False, True, False])\n",
    "print (ar[o,:])\n",
    "\n",
    "i = np.array([True,False])\n",
    "print(ar[o,i,:], np.shape(ar[o,i,:]))"
   ]
  },
  {
   "cell_type": "code",
   "execution_count": 246,
   "metadata": {},
   "outputs": [
    {
     "data": {
      "text/plain": [
       "'\\n【课程1.4】作业\\n'"
      ]
     },
     "execution_count": 246,
     "metadata": {},
     "output_type": "execute_result"
    }
   ],
   "source": [
    "'''\n",
    "【课程1.4】作业\n",
    "'''"
   ]
  },
  {
   "cell_type": "code",
   "execution_count": 251,
   "metadata": {},
   "outputs": [
    {
     "name": "stdout",
     "output_type": "stream",
     "text": [
      "[[ 0  1  2  3  4]\n",
      " [ 5  6  7  8  9]\n",
      " [10 11 12 13 14]\n",
      " [15 16 17 18 19]\n",
      " [20 21 22 23 24]]\n",
      "[20 21 22 23 24]\n",
      "[[3 4]\n",
      " [8 9]]\n",
      "17\n"
     ]
    }
   ],
   "source": [
    "ar = np.arange(25).reshape(5,5)\n",
    "print (ar)\n",
    "print (ar[4])\n",
    "print (ar[:2,3:])\n",
    "print (ar[3][2])"
   ]
  },
  {
   "cell_type": "code",
   "execution_count": 261,
   "metadata": {},
   "outputs": [
    {
     "name": "stdout",
     "output_type": "stream",
     "text": [
      "[[0 1 2 3 4]\n",
      " [5 6 7 8 9]]\n",
      "2\n",
      "6\n",
      "7\n",
      "8\n",
      "9\n",
      "[6, 7, 8, 9]\n",
      "[6 7 8 9]\n"
     ]
    }
   ],
   "source": [
    "ar = np.arange(10).reshape(2,5)\n",
    "print (ar)\n",
    "lst = []\n",
    "print (ar.shape[0])\n",
    "for i in range(ar.shape[0]):\n",
    "    for j in ar[i]:\n",
    "        if j > 5:\n",
    "            print (j)\n",
    "            lst.append(j)\n",
    "print (lst)\n",
    "ar_new = np.array(lst)\n",
    "print (ar_new)\n",
    "        "
   ]
  },
  {
   "cell_type": "code",
   "execution_count": 269,
   "metadata": {},
   "outputs": [
    {
     "name": "stdout",
     "output_type": "stream",
     "text": [
      "[[0 1 2 3 4]\n",
      " [5 6 7 8 9]]\n",
      "[6 7 8 9]\n",
      "[0 1 2 3]\n"
     ]
    }
   ],
   "source": [
    "ar = np.arange(10).reshape(2,5)\n",
    "print (ar)\n",
    "print (ar[ar>5]) #不用遍历，[]中直接写条件就行\n",
    "\n",
    "print (ar[ar<4])"
   ]
  },
  {
   "cell_type": "code",
   "execution_count": 270,
   "metadata": {},
   "outputs": [
    {
     "data": {
      "text/plain": [
       "'\\n【课程1.5】  Numpy随机数\\n\\nnumpy.random包含多种概率分布的随机样本，是数据分析辅助的重点工具之一\\n\\n'"
      ]
     },
     "execution_count": 270,
     "metadata": {},
     "output_type": "execute_result"
    }
   ],
   "source": [
    "'''\n",
    "【课程1.5】  Numpy随机数\n",
    "\n",
    "numpy.random包含多种概率分布的随机样本，是数据分析辅助的重点工具之一\n",
    "\n",
    "'''"
   ]
  },
  {
   "cell_type": "code",
   "execution_count": 2,
   "metadata": {},
   "outputs": [
    {
     "name": "stdout",
     "output_type": "stream",
     "text": [
      "[[-0.55115939 -0.71292586  0.84206174 -1.84583462]\n",
      " [-0.08904765  0.88157523 -1.15952592 -0.11138617]\n",
      " [-0.41268142 -1.64901809 -0.77941198  0.28666321]\n",
      " [ 0.64436442  0.38081277 -0.72003208  2.24395881]]\n"
     ]
    }
   ],
   "source": [
    "import numpy as np\n",
    "samples = np.random.normal(size=(4,4))  # Normal正态分布\n",
    "print (samples)"
   ]
  },
  {
   "cell_type": "code",
   "execution_count": 22,
   "metadata": {},
   "outputs": [
    {
     "name": "stdout",
     "output_type": "stream",
     "text": [
      "0.8540828353392735 <class 'float'>\n",
      "[0.54711449 0.39539085 0.71547162 0.93293818] <class 'numpy.ndarray'>\n",
      "[[0.96661775 0.9656693  0.50454999]\n",
      " [0.98640595 0.17343865 0.05263526]] <class 'numpy.ndarray'>\n"
     ]
    },
    {
     "data": {
      "text/plain": [
       "<matplotlib.collections.PathCollection at 0x11702f2e8>"
      ]
     },
     "execution_count": 22,
     "metadata": {},
     "output_type": "execute_result"
    },
    {
     "data": {
      "image/png": "[encoded data removed]",
      "text/plain": [
       "<matplotlib.figure.Figure at 0x116d5b5f8>"
      ]
     },
     "metadata": {},
     "output_type": "display_data"
    }
   ],
   "source": [
    "# numpy.random.rand(d0, d1, ..., dn)：生成一个[0,1)之间的随机浮点数或N维浮点数组 —— 均匀分布\n",
    "import matplotlib.pyplot as plt\n",
    "% matplotlib inline\n",
    "\n",
    "a = np.random.rand()\n",
    "print (a, type(a))\n",
    "\n",
    "b = np.random.rand(4)\n",
    "print(b,type(b))\n",
    "\n",
    "c = np.random.rand(2,3)\n",
    "print(c,type(c))\n",
    "\n",
    "samples1 = np.random.rand(1000)\n",
    "samples2 = np.random.rand(1000)\n",
    "plt.scatter(samples1, samples2)  #均匀分布\n",
    "\n"
   ]
  },
  {
   "cell_type": "code",
   "execution_count": 24,
   "metadata": {},
   "outputs": [
    {
     "data": {
      "text/plain": [
       "<matplotlib.collections.PathCollection at 0x1171a05f8>"
      ]
     },
     "execution_count": 24,
     "metadata": {},
     "output_type": "execute_result"
    },
    {
     "data": {
      "image/png": "[encoded data removed]",
      "text/plain": [
       "<matplotlib.figure.Figure at 0x11704ceb8>"
      ]
     },
     "metadata": {},
     "output_type": "display_data"
    }
   ],
   "source": [
    "data1 = np.random.randn(5000)\n",
    "#print (data1)\n",
    "data2 = np.random.randn(5000)\n",
    "plt.scatter(data1,data2)  # 正太分布"
   ]
  },
  {
   "cell_type": "code",
   "execution_count": 31,
   "metadata": {},
   "outputs": [
    {
     "name": "stdout",
     "output_type": "stream",
     "text": [
      "0 <class 'int'>\n",
      "7\n",
      "[4 5 0 2 6] <class 'numpy.ndarray'>\n",
      "[[3 7 3]\n",
      " [7 8 7]] <class 'numpy.ndarray'>\n"
     ]
    }
   ],
   "source": [
    "# numpy.random.randint(low, high=None, size=None, dtype='l')：生成一个整数或N维整数数组\n",
    "\n",
    "aa = np.random.randint(2)  #0到2之间，不包括2，取一个整数\n",
    "print (aa, type(aa))\n",
    "\n",
    "print (np.random.randint(2,10)) #区间内取一个整数\n",
    "\n",
    "bb = np.random.randint(9,size = 5) # 取0到9之内的5个整数，组成一个ndarray\n",
    "print(bb,type(bb))\n",
    "\n",
    "cc = np.random.randint(2,9,size=(2,3)) # 随机组成数组\n",
    "print(cc,type(cc))"
   ]
  },
  {
   "cell_type": "code",
   "execution_count": 32,
   "metadata": {},
   "outputs": [
    {
     "data": {
      "text/plain": [
       "'\\n【1.5】课程作业\\n'"
      ]
     },
     "execution_count": 32,
     "metadata": {},
     "output_type": "execute_result"
    }
   ],
   "source": [
    "'''\n",
    "【1.5】课程作业\n",
    "'''"
   ]
  },
  {
   "cell_type": "code",
   "execution_count": 67,
   "metadata": {},
   "outputs": [
    {
     "name": "stdout",
     "output_type": "stream",
     "text": [
      "[[ 0.  1.  2.  3.  4.]\n",
      " [ 5.  6.  7.  8.  9.]\n",
      " [10. 11. 12. 13. 14.]\n",
      " [15. 16. 17. 18. 19.]\n",
      " [20. 21. 22. 23. 24.]] <class 'numpy.ndarray'>\n",
      "[[ 0.19547868  0.78890454  2.          3.          4.        ]\n",
      " [ 0.18271923  0.31621218  7.          8.          9.        ]\n",
      " [10.         11.         12.         13.         14.        ]\n",
      " [15.         16.         17.         18.         19.        ]\n",
      " [20.         21.         22.         23.         24.        ]] <class 'numpy.ndarray'>\n"
     ]
    }
   ],
   "source": [
    "import numpy as np\n",
    "ar = np.arange(25,dtype=float).reshape(5,5)\n",
    "print (ar,type(ar))\n",
    "\n",
    "#print (ar[:2,:2])\n",
    "ss = np.random.rand(2,2)\n",
    "#print(ss)\n",
    "\n",
    "ar[:2,:2] = ss\n",
    "\n",
    "#print(ar[:2,:2])\n",
    "print(ar,type(ar))"
   ]
  },
  {
   "cell_type": "code",
   "execution_count": 70,
   "metadata": {},
   "outputs": [
    {
     "name": "stdout",
     "output_type": "stream",
     "text": [
      "[[ 2.8109517   0.41068168  0.92614351 -1.22998895 -0.67958638]\n",
      " [ 2.60598971 -2.0729403  -0.84922532 -0.3576225   1.62423472]]\n"
     ]
    }
   ],
   "source": [
    "arr = np.random.randn(2,5)\n",
    "print (arr)"
   ]
  },
  {
   "cell_type": "code",
   "execution_count": 71,
   "metadata": {},
   "outputs": [
    {
     "data": {
      "text/plain": [
       "'\\n【课程1.6】  Numpy数据的输入输出\\n\\nnumpy读取/写入数组数据、文本数据\\n\\n'"
      ]
     },
     "execution_count": 71,
     "metadata": {},
     "output_type": "execute_result"
    }
   ],
   "source": [
    "'''\n",
    "【课程1.6】  Numpy数据的输入输出\n",
    "\n",
    "numpy读取/写入数组数据、文本数据\n",
    "\n",
    "'''"
   ]
  },
  {
   "cell_type": "code",
   "execution_count": 76,
   "metadata": {},
   "outputs": [
    {
     "name": "stdout",
     "output_type": "stream",
     "text": [
      "[[0.49567254 0.69764749 0.73044013 0.03639757 0.92505937]\n",
      " [0.44522791 0.7557332  0.89067113 0.8086316  0.36512456]\n",
      " [0.08544033 0.39914508 0.96968654 0.88074495 0.17682033]\n",
      " [0.98298168 0.94359636 0.25358167 0.08782694 0.68582342]\n",
      " [0.22495    0.39451301 0.5521074  0.42170898 0.98044754]]\n"
     ]
    }
   ],
   "source": [
    "import os\n",
    "os.getcwd()\n",
    "os.chdir('/Users/KevinTang/DataAnalysist/CLASSDATA_ch03重点工具掌握：数据解析核心技巧')\n",
    "\n",
    "ar = np.random.rand(5,5)\n",
    "print (ar)\n",
    "np.save('arraydata.npy',ar)  #数组储存为npy格式文件"
   ]
  },
  {
   "cell_type": "code",
   "execution_count": 79,
   "metadata": {},
   "outputs": [
    {
     "name": "stdout",
     "output_type": "stream",
     "text": [
      "[[0.49567254 0.69764749 0.73044013 0.03639757 0.92505937]\n",
      " [0.44522791 0.7557332  0.89067113 0.8086316  0.36512456]\n",
      " [0.08544033 0.39914508 0.96968654 0.88074495 0.17682033]\n",
      " [0.98298168 0.94359636 0.25358167 0.08782694 0.68582342]\n",
      " [0.22495    0.39451301 0.5521074  0.42170898 0.98044754]]\n"
     ]
    }
   ],
   "source": [
    "ar_load = np.load('arraydata.npy')  #读取npy文件\n",
    "print(ar_load)"
   ]
  },
  {
   "cell_type": "code",
   "execution_count": 88,
   "metadata": {},
   "outputs": [
    {
     "name": "stdout",
     "output_type": "stream",
     "text": [
      "[[1.   0.1  0.07 0.45 0.32 0.17 0.96 0.53 0.84 0.67]\n",
      " [0.   0.48 0.78 0.98 0.24 0.27 0.88 0.74 0.18 0.06]\n",
      " [0.68 0.4  0.82 0.5  0.26 0.2  0.75 0.11 0.77 0.72]\n",
      " [0.09 0.77 0.44 0.75 0.29 0.46 0.71 0.32 0.   0.6 ]\n",
      " [0.94 0.19 0.85 0.97 0.39 0.28 0.5  0.55 0.7  0.74]\n",
      " [0.23 0.22 0.97 0.15 0.25 0.14 0.54 0.41 0.64 0.03]\n",
      " [0.48 0.78 0.19 0.84 0.57 0.03 0.26 0.16 0.3  0.86]\n",
      " [0.76 0.92 0.36 0.69 0.42 0.54 0.35 0.3  0.48 0.06]\n",
      " [0.15 0.18 0.39 0.93 0.7  0.77 0.68 0.83 0.83 0.4 ]\n",
      " [0.59 0.63 0.28 0.13 1.   0.89 0.88 0.12 0.73 0.31]] float64\n"
     ]
    }
   ],
   "source": [
    "#储存读取文本文件\n",
    "\n",
    "ar = np.random.rand(10,10)\n",
    "np.savetxt('array.txt',ar,fmt='%.2f',delimiter=',')\n",
    "# np.savetxt(fname, X, fmt='%.18e', delimiter=' ', newline='\\n', header='', footer='', comments='# ')：存储为文本txt文件\n",
    "\n",
    "ar_loadtxt = np.loadtxt('array.txt', delimiter=',')\n",
    "print (ar_loadtxt,ar_loadtxt.dtype)"
   ]
  },
  {
   "cell_type": "code",
   "execution_count": 89,
   "metadata": {},
   "outputs": [
    {
     "data": {
      "text/plain": [
       "'\\n【1.6】课程作业\\n'"
      ]
     },
     "execution_count": 89,
     "metadata": {},
     "output_type": "execute_result"
    }
   ],
   "source": [
    "'''\n",
    "【1.6】课程作业\n",
    "'''"
   ]
  },
  {
   "cell_type": "code",
   "execution_count": 94,
   "metadata": {},
   "outputs": [
    {
     "name": "stdout",
     "output_type": "stream",
     "text": [
      "[[15 16 59 68 24 92 85 75 60 17]\n",
      " [29 22 21 13 14 89  1 54 82 99]\n",
      " [96 11 51  4 11 54 51 44 22 82]\n",
      " [88 67  4 12 19 84 87  3 75 96]\n",
      " [60  9 76 43 58 17  1 14 85 52]\n",
      " [63 76 53 32  2 70 14 26 38 88]\n",
      " [35  3 54 20 77  6 25 16 53 84]\n",
      " [82 82 34 65 32 43 51  0 82 35]\n",
      " [45 37 65  1 58 66 14 10 84  7]\n",
      " [11 91 96 45 70 90 25 51  6 18]]\n"
     ]
    }
   ],
   "source": [
    "import numpy as np\n",
    "ar = np.random.randint(0,100,size=(10,10))\n",
    "print(ar)\n",
    "\n",
    "import os\n",
    "os.chdir('/Users/KevinTang/DataAnalysist/CLASSDATA_ch03重点工具掌握：数据解析核心技巧')\n",
    "np.savetxt('sample.txt',ar,fmt='%.i',delimiter=',')"
   ]
  }
 ],
 "metadata": {
  "kernelspec": {
   "display_name": "Python 3",
   "language": "python",
   "name": "python3"
  },
  "language_info": {
   "codemirror_mode": {
    "name": "ipython",
    "version": 3
   },
   "file_extension": ".py",
   "mimetype": "text/x-python",
   "name": "python",
   "nbconvert_exporter": "python",
   "pygments_lexer": "ipython3",
   "version": "3.6.4"
  }
 },
 "nbformat": 4,
 "nbformat_minor": 2
}
