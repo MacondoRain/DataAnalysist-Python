{
 "cells": [
  {
   "cell_type": "code",
   "execution_count": 1,
   "metadata": {},
   "outputs": [
    {
     "data": {
      "text/plain": [
       "'\\n【课程2.1】  数据类型概述\\n\\nPython标准数据类型：Numbers数字，String字符串，List列表，Tuple元祖，Dict字典\\n\\n'"
      ]
     },
     "execution_count": 1,
     "metadata": {},
     "output_type": "execute_result"
    }
   ],
   "source": [
    "'''\n",
    "【课程2.1】  数据类型概述\n",
    "\n",
    "Python标准数据类型：Numbers数字，String字符串，List列表，Tuple元祖，Dict字典\n",
    "\n",
    "'''"
   ]
  },
  {
   "cell_type": "code",
   "execution_count": 2,
   "metadata": {},
   "outputs": [
    {
     "name": "stdout",
     "output_type": "stream",
     "text": [
      "10 10.1\n",
      "<class 'int'> <class 'float'>\n"
     ]
    }
   ],
   "source": [
    "# Number数字分为： int整数， float浮点\n",
    "\n",
    "x1 = 10\n",
    "x2 = 10.1\n",
    "print (x1, x2)\n",
    "print (type(x1),type(x2))\n",
    "#print ()"
   ]
  },
  {
   "cell_type": "code",
   "execution_count": 3,
   "metadata": {},
   "outputs": [
    {
     "name": "stdout",
     "output_type": "stream",
     "text": [
      "hello world\n",
      "hehe\n",
      "a\n",
      "b\n",
      "c\n",
      "\n",
      "<class 'str'>\n"
     ]
    }
   ],
   "source": [
    "# 字符串\n",
    "\n",
    "x3 = 'hello world'\n",
    "x4 = 'hehe'\n",
    "x5 = '''a\n",
    "b\n",
    "c\n",
    "'''\n",
    "print(x3)\n",
    "print(x4)\n",
    "print(x5)\n",
    "\n",
    "print (type(x3))\n"
   ]
  },
  {
   "cell_type": "code",
   "execution_count": 9,
   "metadata": {},
   "outputs": [
    {
     "name": "stdout",
     "output_type": "stream",
     "text": [
      "True\n",
      "True\n",
      "False\n",
      "True\n"
     ]
    }
   ],
   "source": [
    "# bool 布尔型\n",
    "\n",
    "a = True\n",
    "b = False\n",
    "print(a == 1)\n",
    "print(b == 0)\n",
    "\n",
    "print(3>4)\n",
    "print(3>2)"
   ]
  },
  {
   "cell_type": "code",
   "execution_count": 17,
   "metadata": {},
   "outputs": [
    {
     "name": "stdout",
     "output_type": "stream",
     "text": [
      "[1, 2, 3, 4, 5] <class 'list'>\n",
      "hello <class 'str'>\n"
     ]
    }
   ],
   "source": [
    "# list 列表，用[]表示，有序对象\n",
    "\n",
    "lst = [1,2,3,4,5]\n",
    "print(lst, type(lst))\n",
    "lst2 = [1, 2.5, 'hello',[1,2,3]]\n",
    "print(lst2[2], type(lst2[2]))"
   ]
  },
  {
   "cell_type": "code",
   "execution_count": 20,
   "metadata": {},
   "outputs": [
    {
     "name": "stdout",
     "output_type": "stream",
     "text": [
      "[100, 2, 3, 4, 5]\n"
     ]
    },
    {
     "ename": "TypeError",
     "evalue": "'tuple' object does not support item assignment",
     "output_type": "error",
     "traceback": [
      "\u001b[0;31m---------------------------------------------------------------------------\u001b[0m",
      "\u001b[0;31mTypeError\u001b[0m                                 Traceback (most recent call last)",
      "\u001b[0;32m<ipython-input-20-82cdbd58a336>\u001b[0m in \u001b[0;36m<module>\u001b[0;34m()\u001b[0m\n\u001b[1;32m      5\u001b[0m \u001b[0mlst\u001b[0m\u001b[0;34m[\u001b[0m\u001b[0;36m0\u001b[0m\u001b[0;34m]\u001b[0m \u001b[0;34m=\u001b[0m \u001b[0;36m100\u001b[0m\u001b[0;34m\u001b[0m\u001b[0m\n\u001b[1;32m      6\u001b[0m \u001b[0mprint\u001b[0m\u001b[0;34m(\u001b[0m\u001b[0mlst\u001b[0m\u001b[0;34m)\u001b[0m\u001b[0;34m\u001b[0m\u001b[0m\n\u001b[0;32m----> 7\u001b[0;31m \u001b[0mtup\u001b[0m\u001b[0;34m[\u001b[0m\u001b[0;36m0\u001b[0m\u001b[0;34m]\u001b[0m\u001b[0;34m=\u001b[0m\u001b[0;36m10\u001b[0m\u001b[0;34m\u001b[0m\u001b[0m\n\u001b[0m",
      "\u001b[0;31mTypeError\u001b[0m: 'tuple' object does not support item assignment"
     ]
    }
   ],
   "source": [
    "# 元祖 Tuple, 元素不可修改\n",
    "\n",
    "tup = (1,2,3,4,5)\n",
    "lst = [1,2,3,4,5]\n",
    "lst[0] = 100\n",
    "print(lst)\n",
    "#tup[0]=10"
   ]
  },
  {
   "cell_type": "code",
   "execution_count": 22,
   "metadata": {},
   "outputs": [
    {
     "name": "stdout",
     "output_type": "stream",
     "text": [
      "{'name': 'fatbird', 'city': 'shanghai', 'tel': 10001000} <class 'dict'>\n"
     ]
    }
   ],
   "source": [
    "# 字典 dict,用{}标识，有索引（key）和它对应的值value组成，无序对象\n",
    "\n",
    "x7 = {\"name\":\"fatbird\", \"city\":\"shanghai\", \"tel\": 10001000}\n",
    "print(x7, type(x7))\n"
   ]
  },
  {
   "cell_type": "code",
   "execution_count": 24,
   "metadata": {},
   "outputs": [
    {
     "name": "stdout",
     "output_type": "stream",
     "text": [
      "10 <class 'int'>\n",
      "10.0 <class 'float'>\n",
      "10 <class 'str'>\n",
      "2\n",
      "2\n"
     ]
    }
   ],
   "source": [
    "# 数据类型转换方法\n",
    "\n",
    "val = 10\n",
    "print(val, type(val))\n",
    "\n",
    "val2 = float(val)\n",
    "print(val2, type(val2))\n",
    "\n",
    "val3 = str(val)\n",
    "print(val3, type(val3))\n",
    "\n",
    "val4 = 2.456\n",
    "print(int(val4))\n",
    "\n",
    "val5 = 2.787\n",
    "print(int(val5))\n",
    "# 并不是si'she'w"
   ]
  },
  {
   "cell_type": "code",
   "execution_count": 26,
   "metadata": {},
   "outputs": [
    {
     "data": {
      "text/plain": [
       "'\\n【课程2.2】  认识变量\\n\\n什么是变量？ —— 方程式“=”左边的，就是变量\\n1、给变量赋值即创建该变量，并且同时赋予该变量\\n① 变量名\\n② 变量类型\\n等号（=）用来给变量赋值\\n\\n2、变量命名规则：\\n① 变量名第一个字符必须是字母（大小写均可）或者下划线（“_”），不能数字开头；\\n② 变量名不能和常用功能性名字重合，例如print，if，for\\n③ 不要有空格\\n\\n'"
      ]
     },
     "execution_count": 26,
     "metadata": {},
     "output_type": "execute_result"
    }
   ],
   "source": [
    "'''\n",
    "【课程2.2】  认识变量\n",
    "\n",
    "什么是变量？ —— 方程式“=”左边的，就是变量\n",
    "1、给变量赋值即创建该变量，并且同时赋予该变量\n",
    "① 变量名\n",
    "② 变量类型\n",
    "等号（=）用来给变量赋值\n",
    "\n",
    "2、变量命名规则：\n",
    "① 变量名第一个字符必须是字母（大小写均可）或者下划线（“_”），不能数字开头；\n",
    "② 变量名不能和常用功能性名字重合，例如print，if，for\n",
    "③ 不要有空格\n",
    "\n",
    "'''"
   ]
  },
  {
   "cell_type": "code",
   "execution_count": 27,
   "metadata": {},
   "outputs": [
    {
     "name": "stdout",
     "output_type": "stream",
     "text": [
      "<class 'int'>\n"
     ]
    }
   ],
   "source": [
    "b = 10\n",
    "print(type(b))"
   ]
  },
  {
   "cell_type": "code",
   "execution_count": 28,
   "metadata": {},
   "outputs": [
    {
     "data": {
      "text/plain": [
       "'\\n【课程2.3】  运算符\\n\\n什么是运算符？\\n1 +2 = 3 的例子中，1 和 2 被称为操作数，\"+\" 称为运算符\\n'"
      ]
     },
     "execution_count": 28,
     "metadata": {},
     "output_type": "execute_result"
    }
   ],
   "source": [
    "'''\n",
    "【课程2.3】  运算符\n",
    "\n",
    "什么是运算符？\n",
    "1 +2 = 3 的例子中，1 和 2 被称为操作数，\"+\" 称为运算符\n",
    "'''"
   ]
  },
  {
   "cell_type": "code",
   "execution_count": 41,
   "metadata": {},
   "outputs": [
    {
     "name": "stdout",
     "output_type": "stream",
     "text": [
      "a取b的模是 1\n",
      "16\n",
      "4\n"
     ]
    }
   ],
   "source": [
    "# 数学运算\n",
    "\n",
    "a, b, c = 21, 10, 0\n",
    "\n",
    "# c = a % b #取模，余数\n",
    "print('a取b的模是', a%b)\n",
    "\n",
    "print(2**4) # 2的4次方\n",
    "print(9//2) # 取整除\n"
   ]
  },
  {
   "cell_type": "code",
   "execution_count": 45,
   "metadata": {},
   "outputs": [
    {
     "name": "stdout",
     "output_type": "stream",
     "text": [
      "False\n",
      "False\n",
      "True\n"
     ]
    }
   ],
   "source": [
    "# 比较运算符\n",
    "\n",
    "a, b = 30, 20\n",
    "print(a==b)\n",
    "print(a<b)\n",
    "print(a>b)"
   ]
  },
  {
   "cell_type": "code",
   "execution_count": 52,
   "metadata": {},
   "outputs": [
    {
     "name": "stdout",
     "output_type": "stream",
     "text": [
      "False\n",
      "True\n",
      "False\n",
      "True\n",
      "True\n",
      "True False True\n"
     ]
    }
   ],
   "source": [
    "# 逻辑运算符\n",
    "# and 且\n",
    "# or 或\n",
    "# not 非\n",
    "\n",
    "print(2>1 and 3>4)\n",
    "print(2>1 or 3>4)\n",
    "print(not 2>1)\n",
    "print(True == 1)\n",
    "print(False == 0)\n",
    "\n",
    "a, b, c = 10.1, 0, 'Hello'\n",
    "print(bool(a), bool(b), bool(c))\n",
    "\n",
    "# bool()函数：将值转换为布尔型，其中只有以下情况bool()返回False: 0, 0.0, None, '', [], {}. 其他情况都返回True."
   ]
  },
  {
   "cell_type": "code",
   "execution_count": 58,
   "metadata": {},
   "outputs": [
    {
     "name": "stdout",
     "output_type": "stream",
     "text": [
      "True\n",
      "True\n",
      "True\n"
     ]
    }
   ],
   "source": [
    "# 成员运算符： in / not in\n",
    "\n",
    "lst = [1, 2, 3, 4]\n",
    "dic = {'a':1, 'b':2, 'c':3}\n",
    "st = 'adcdef'\n",
    "print(1 in lst)\n",
    "print('d' not in dic)\n",
    "print('f' in st)"
   ]
  },
  {
   "cell_type": "code",
   "execution_count": null,
   "metadata": {},
   "outputs": [],
   "source": []
  }
 ],
 "metadata": {
  "kernelspec": {
   "display_name": "Python 3",
   "language": "python",
   "name": "python3"
  },
  "language_info": {
   "codemirror_mode": {
    "name": "ipython",
    "version": 3
   },
   "file_extension": ".py",
   "mimetype": "text/x-python",
   "name": "python",
   "nbconvert_exporter": "python",
   "pygments_lexer": "ipython3",
   "version": "3.6.4"
  }
 },
 "nbformat": 4,
 "nbformat_minor": 2
}
