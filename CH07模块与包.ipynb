{
 "cells": [
  {
   "cell_type": "code",
   "execution_count": 15,
   "metadata": {},
   "outputs": [
    {
     "name": "stdout",
     "output_type": "stream",
     "text": [
      "/Users/KevinTang/anaconda3/lib/python3.6/site-packages/pandas/__init__.py\n",
      "hello\n",
      "9\n"
     ]
    }
   ],
   "source": [
    "import pandas\n",
    "print (pandas.__file__)\n",
    "\n",
    "# 寻找模块的文件路径\n",
    "\n",
    "import sys \n",
    "sys.path.append('/Users/KevinTang/PycharmProjects/Modeltest/')\n",
    "# 添加文件路径\n",
    "\n",
    "import modeltest\n",
    "modeltest.sayhello()\n",
    "print (modeltest.f(3))\n",
    "\n"
   ]
  },
  {
   "cell_type": "code",
   "execution_count": 19,
   "metadata": {},
   "outputs": [
    {
     "name": "stdout",
     "output_type": "stream",
     "text": [
      "6\n",
      "[1, 2, 3, 4]\n",
      "10\n"
     ]
    }
   ],
   "source": [
    "# 导入模块|\n",
    "import sys\n",
    "sys.path.append('/Users/KevinTang/Downloads/')\n",
    "\n",
    "import modeltest2\n",
    "\n",
    "print (modeltest2.f1(3))\n",
    "print (modeltest2.f2([1,2,3,4,5],5))\n",
    "print (modeltest2.f3(2,2,3))"
   ]
  },
  {
   "cell_type": "code",
   "execution_count": 20,
   "metadata": {},
   "outputs": [],
   "source": [
    "# import .. as ..\n",
    "\n",
    "import modeltest as ts\n",
    "import numpy as np\n",
    "import pandas as pd\n",
    "\n",
    "#简化模块名\n"
   ]
  },
  {
   "cell_type": "code",
   "execution_count": 26,
   "metadata": {},
   "outputs": [
    {
     "name": "stdout",
     "output_type": "stream",
     "text": [
      "6\n",
      "[1, 2]\n"
     ]
    }
   ],
   "source": [
    "# 调用模块中的部分语句\n",
    "from modeltest2 import f1\n",
    "\n",
    "print (f1(3))\n",
    "# print (f2([1,2,3,4,5],5))\n",
    "\n",
    "import modeltest2\n",
    "\n",
    "print (modeltest2.f2([1,2,3],3))"
   ]
  },
  {
   "cell_type": "code",
   "execution_count": 27,
   "metadata": {},
   "outputs": [
    {
     "name": "stdout",
     "output_type": "stream",
     "text": [
      "120\n"
     ]
    }
   ],
   "source": [
    "import modeltest2 as mt2\n",
    "\n",
    "print (mt2.f1(5))\n",
    "\n",
    "# 简化模块名"
   ]
  },
  {
   "cell_type": "code",
   "execution_count": 48,
   "metadata": {},
   "outputs": [
    {
     "name": "stdout",
     "output_type": "stream",
     "text": [
      "0.09742422134983664\n",
      "3\n",
      "0\n",
      "e\n",
      "[41, 62, 93, 48, 23, 38, 71, 12, 59, 87]\n",
      "[12, 23, 38, 41, 48, 59, 62, 71, 87, 93]\n",
      "[93, 71, 48, 87, 59, 12, 38, 23, 62, 41]\n"
     ]
    }
   ],
   "source": [
    "# 随机数\n",
    "\n",
    "import random\n",
    "\n",
    "x =random.random()\n",
    "y =random.randint(1,3)\n",
    "print (x)\n",
    "print (y)\n",
    "# 随机一个0-1的数\n",
    "\n",
    "str1 = random.choice(list(range(10)))\n",
    "print (str1)\n",
    "\n",
    "str11 = 'abcedfghijklmn'\n",
    "str2 = random.choice(str11)\n",
    "print (str2)\n",
    "# 随机挑选一个元素\n",
    "\n",
    "lst = list(range(100))\n",
    "lst1 = random.sample(lst,10)\n",
    "print (lst1)\n",
    "\n",
    "lst2 = sorted(lst1)\n",
    "print (lst2)\n",
    "random.shuffle(lst2)\n",
    "print (lst2)"
   ]
  },
  {
   "cell_type": "code",
   "execution_count": 55,
   "metadata": {},
   "outputs": [
    {
     "name": "stdout",
     "output_type": "stream",
     "text": [
      "hell world\n",
      "hell world\n",
      "hell world\n",
      "hell world\n",
      "hell world\n",
      "Mon Jun  4 15:05:25 2018 <class 'str'>\n",
      "time.struct_time(tm_year=2018, tm_mon=6, tm_mday=4, tm_hour=15, tm_min=5, tm_sec=25, tm_wday=0, tm_yday=155, tm_isdst=0) <class 'time.struct_time'>\n",
      "2018-06-04 15:05:25\n"
     ]
    }
   ],
   "source": [
    "# time 模块\n",
    "\n",
    "import time\n",
    "\n",
    "for i in range(5):\n",
    "    print ('hell world')\n",
    "    time.sleep(0.1)\n",
    "\n",
    "print (time.ctime(), type(time.ctime()))\n",
    "print (time.localtime(), type(time.localtime()))\n",
    "print (time.strftime('%Y-%m-%d %H:%M:%S', time.localtime()))"
   ]
  },
  {
   "cell_type": "code",
   "execution_count": null,
   "metadata": {},
   "outputs": [],
   "source": []
  },
  {
   "cell_type": "code",
   "execution_count": null,
   "metadata": {},
   "outputs": [],
   "source": []
  },
  {
   "cell_type": "code",
   "execution_count": null,
   "metadata": {},
   "outputs": [],
   "source": []
  },
  {
   "cell_type": "code",
   "execution_count": null,
   "metadata": {},
   "outputs": [],
   "source": []
  },
  {
   "cell_type": "code",
   "execution_count": null,
   "metadata": {},
   "outputs": [],
   "source": []
  },
  {
   "cell_type": "code",
   "execution_count": null,
   "metadata": {},
   "outputs": [],
   "source": []
  },
  {
   "cell_type": "code",
   "execution_count": null,
   "metadata": {},
   "outputs": [],
   "source": []
  },
  {
   "cell_type": "code",
   "execution_count": null,
   "metadata": {},
   "outputs": [],
   "source": []
  },
  {
   "cell_type": "code",
   "execution_count": null,
   "metadata": {},
   "outputs": [],
   "source": []
  },
  {
   "cell_type": "code",
   "execution_count": null,
   "metadata": {},
   "outputs": [],
   "source": []
  },
  {
   "cell_type": "code",
   "execution_count": null,
   "metadata": {},
   "outputs": [],
   "source": []
  },
  {
   "cell_type": "code",
   "execution_count": null,
   "metadata": {},
   "outputs": [],
   "source": []
  },
  {
   "cell_type": "code",
   "execution_count": null,
   "metadata": {},
   "outputs": [],
   "source": []
  },
  {
   "cell_type": "code",
   "execution_count": null,
   "metadata": {},
   "outputs": [],
   "source": []
  },
  {
   "cell_type": "code",
   "execution_count": null,
   "metadata": {},
   "outputs": [],
   "source": []
  },
  {
   "cell_type": "code",
   "execution_count": null,
   "metadata": {},
   "outputs": [],
   "source": []
  },
  {
   "cell_type": "code",
   "execution_count": null,
   "metadata": {},
   "outputs": [],
   "source": []
  },
  {
   "cell_type": "code",
   "execution_count": null,
   "metadata": {},
   "outputs": [],
   "source": []
  },
  {
   "cell_type": "code",
   "execution_count": null,
   "metadata": {},
   "outputs": [],
   "source": []
  },
  {
   "cell_type": "code",
   "execution_count": null,
   "metadata": {},
   "outputs": [],
   "source": []
  },
  {
   "cell_type": "code",
   "execution_count": null,
   "metadata": {},
   "outputs": [],
   "source": []
  },
  {
   "cell_type": "code",
   "execution_count": null,
   "metadata": {},
   "outputs": [],
   "source": []
  },
  {
   "cell_type": "code",
   "execution_count": null,
   "metadata": {},
   "outputs": [],
   "source": []
  },
  {
   "cell_type": "code",
   "execution_count": null,
   "metadata": {},
   "outputs": [],
   "source": []
  },
  {
   "cell_type": "code",
   "execution_count": null,
   "metadata": {},
   "outputs": [],
   "source": []
  },
  {
   "cell_type": "code",
   "execution_count": null,
   "metadata": {},
   "outputs": [],
   "source": []
  },
  {
   "cell_type": "code",
   "execution_count": null,
   "metadata": {},
   "outputs": [],
   "source": []
  },
  {
   "cell_type": "code",
   "execution_count": null,
   "metadata": {},
   "outputs": [],
   "source": []
  },
  {
   "cell_type": "code",
   "execution_count": null,
   "metadata": {},
   "outputs": [],
   "source": []
  },
  {
   "cell_type": "code",
   "execution_count": null,
   "metadata": {},
   "outputs": [],
   "source": []
  },
  {
   "cell_type": "code",
   "execution_count": null,
   "metadata": {},
   "outputs": [],
   "source": []
  },
  {
   "cell_type": "code",
   "execution_count": null,
   "metadata": {},
   "outputs": [],
   "source": []
  },
  {
   "cell_type": "code",
   "execution_count": null,
   "metadata": {},
   "outputs": [],
   "source": []
  }
 ],
 "metadata": {
  "kernelspec": {
   "display_name": "Python 3",
   "language": "python",
   "name": "python3"
  },
  "language_info": {
   "codemirror_mode": {
    "name": "ipython",
    "version": 3
   },
   "file_extension": ".py",
   "mimetype": "text/x-python",
   "name": "python",
   "nbconvert_exporter": "python",
   "pygments_lexer": "ipython3",
   "version": "3.6.4"
  }
 },
 "nbformat": 4,
 "nbformat_minor": 2
}
