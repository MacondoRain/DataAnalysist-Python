{
 "cells": [
  {
   "cell_type": "code",
   "execution_count": 2,
   "metadata": {},
   "outputs": [
    {
     "data": {
      "text/plain": [
       "'\\n【课程3.2】  序列通用操作\\n\\n序列分类：可变序列list，不可变序列tuple、str\\n\\n'"
      ]
     },
     "execution_count": 2,
     "metadata": {},
     "output_type": "execute_result"
    }
   ],
   "source": [
    "'''\n",
    "【课程3.2】  序列通用操作\n",
    "\n",
    "序列分类：可变序列list，不可变序列tuple、str\n",
    "\n",
    "'''"
   ]
  },
  {
   "cell_type": "code",
   "execution_count": 3,
   "metadata": {},
   "outputs": [
    {
     "name": "stdout",
     "output_type": "stream",
     "text": [
      "True\n",
      "False\n",
      "False\n"
     ]
    }
   ],
   "source": [
    "# 判断是否属于序列\n",
    "\n",
    "lst = [1,2,3,4,5,6,7,8]\n",
    "a, b, c = 1, 2.0, 9\n",
    "print(a in lst)\n",
    "print(b not in lst)\n",
    "print(c in lst)"
   ]
  },
  {
   "cell_type": "code",
   "execution_count": 5,
   "metadata": {},
   "outputs": [
    {
     "name": "stdout",
     "output_type": "stream",
     "text": [
      "[1, 2, 3, 2, 3, 4]\n",
      "[1, 2, 3, [2, 3, 4]]\n",
      "[1, 2, 3, [2, 3, 4], 1, 2, 3, [2, 3, 4], 1, 2, 3, [2, 3, 4]]\n"
     ]
    }
   ],
   "source": [
    "# 序列的链接与重复\n",
    "\n",
    "lst1 = [1,2,3]\n",
    "lst2 = [2,3,4]\n",
    "print(lst1 + lst2)\n",
    "lst1.append(lst2)\n",
    "print(lst1)\n",
    "print(lst1*3)"
   ]
  },
  {
   "cell_type": "code",
   "execution_count": 10,
   "metadata": {},
   "outputs": [
    {
     "name": "stdout",
     "output_type": "stream",
     "text": [
      "[1, 2, 3, 4, 5, 6, 7, 8]\n",
      "3\n",
      "8\n",
      "6\n"
     ]
    }
   ],
   "source": [
    " # 下标索引\n",
    "print(lst)\n",
    "print(lst[2])\n",
    "print(lst[-1])\n",
    "print(lst[-3])"
   ]
  },
  {
   "cell_type": "code",
   "execution_count": 14,
   "metadata": {},
   "outputs": [
    {
     "name": "stdout",
     "output_type": "stream",
     "text": [
      "[1, 2, 3, 4, 5, 6, 7, 8]\n",
      "[1, 2]\n",
      "[2, 3, 4, 5, 6, 7]\n"
     ]
    }
   ],
   "source": [
    "# 切片\n",
    "print(lst)\n",
    "print(lst[0:2])  # 相当于区间【0，2），左包括，右不包括\n",
    "print(lst[1:-1])"
   ]
  },
  {
   "cell_type": "code",
   "execution_count": 23,
   "metadata": {},
   "outputs": [
    {
     "name": "stdout",
     "output_type": "stream",
     "text": [
      "what the fuck do you want?\n",
      "httefc oyuwn\n",
      "wt\n",
      "h eu  ua?\n"
     ]
    }
   ],
   "source": [
    "# 步长\n",
    "lst = \"what the fuck do you want?\"\n",
    "print(lst)\n",
    "print(lst[1:-1:2])  # 第二个冒号后面为步长，前面两个数值是范围\n",
    "print(lst[:6:3])\n",
    "print(lst[1::3])"
   ]
  },
  {
   "cell_type": "code",
   "execution_count": 32,
   "metadata": {},
   "outputs": [
    {
     "name": "stdout",
     "output_type": "stream",
     "text": [
      "11\n",
      "9 0 47\n",
      "9\n",
      "2\n",
      "1\n"
     ]
    }
   ],
   "source": [
    "# 序列的基本内置全局函数\n",
    "\n",
    "lst = [1,2,3,4,5,6,7,8,9,0,2]\n",
    "print(len(lst)) # 列表元素个数\n",
    "print(max(lst), min(lst), sum(lst))  #最大，最小和求和\n",
    "print(lst.index(0)) # 返回元素“0”在列表中的索引，即元素0的索引是9\n",
    "print(lst.count(2))\n",
    "print(lst.index(2)) # index返回元素第一次出现时的索引"
   ]
  },
  {
   "cell_type": "code",
   "execution_count": 34,
   "metadata": {},
   "outputs": [
    {
     "data": {
      "text/plain": [
       "'\\n【课程3.3】  列表list常用操作\\n\\n序列是Python中最基本的数据结构，它支持字符，数字，字符串甚至可以包含列表（即嵌套）\\n列表用 [ ] 标识，是 python 最通用的复合数据类型。\\n列表中值的切片也可以用到变量 [头下标:尾下标] ，就可以截取相应的列表，从左到右索引默认 0 开始，从右到左索引默认 -1 开始，下标可以为空表示取到头或尾。\\n加号 + 是列表连接运算符，星号 * 是重复操作\\n\\n'"
      ]
     },
     "execution_count": 34,
     "metadata": {},
     "output_type": "execute_result"
    }
   ],
   "source": [
    "'''\n",
    "【课程3.3】  列表list常用操作\n",
    "\n",
    "序列是Python中最基本的数据结构，它支持字符，数字，字符串甚至可以包含列表（即嵌套）\n",
    "列表用 [ ] 标识，是 python 最通用的复合数据类型。\n",
    "列表中值的切片也可以用到变量 [头下标:尾下标] ，就可以截取相应的列表，从左到右索引默认 0 开始，从右到左索引默认 -1 开始，下标可以为空表示取到头或尾。\n",
    "加号 + 是列表连接运算符，星号 * 是重复操作\n",
    "\n",
    "'''"
   ]
  },
  {
   "cell_type": "code",
   "execution_count": 36,
   "metadata": {},
   "outputs": [
    {
     "name": "stdout",
     "output_type": "stream",
     "text": [
      "Hello\n"
     ]
    }
   ],
   "source": [
    "lst1 = [1,2,3,'a','b','c',[1,2,\"Hello\"]]\n",
    "print(lst1[-1][-1])"
   ]
  },
  {
   "cell_type": "code",
   "execution_count": 47,
   "metadata": {},
   "outputs": [
    {
     "name": "stdout",
     "output_type": "stream",
     "text": [
      "['a', '小a', '团支书']\n",
      "5.5 3\n"
     ]
    }
   ],
   "source": [
    "lst = [100, 89, 78]\n",
    "name = ['a', '小a']\n",
    "name.append(\"团支书\")\n",
    "print(name)\n",
    "m=[3.1,5.5,4,3,77,8]\n",
    "print(m[1], m[3])"
   ]
  },
  {
   "cell_type": "code",
   "execution_count": 57,
   "metadata": {},
   "outputs": [
    {
     "name": "stdout",
     "output_type": "stream",
     "text": [
      "range(0, 5) <class 'range'>\n",
      "[0, 2, 4]\n",
      "2 9 5\n",
      "10\n"
     ]
    }
   ],
   "source": [
    "print(range(5), type(range(5)))\n",
    "#range()是生成器，指向了一个范围\n",
    "# range(5)代表指向了0，1，2，3，4这几个值\n",
    "# range(2,4)代表指向了2，3折这两个值，注意这里不适用冒号:\n",
    "# range(0,10,2)代表了0，2，4，6，8，最后一个2代表步长\n",
    "\n",
    "lst = list(range(0,5,2))\n",
    "print(lst)\n",
    "\n",
    "m = range(10)\n",
    "print(m[2],m[-1],m[5])\n",
    "print(len(range(10)))"
   ]
  },
  {
   "cell_type": "code",
   "execution_count": 65,
   "metadata": {},
   "outputs": [
    {
     "name": "stdout",
     "output_type": "stream",
     "text": [
      "[0, 1, 2, 3, 4, 5, 6, 7, 8, 9, 'a']\n",
      "[1, 2, 3, [3, 4, 5]]\n",
      "[1, 2, 3, 3, 4, 5]\n"
     ]
    }
   ],
   "source": [
    "# 添加元素\n",
    "\n",
    "lst = list(range(10))\n",
    "lst.append(\"a\")\n",
    "print(lst)\n",
    "\n",
    "a = [1,2,3]\n",
    "b = [3,4,5]\n",
    "a.append(b)\n",
    "print(a)\n",
    "a = [1,2,3]\n",
    "a.extend(b)\n",
    "print(a)"
   ]
  },
  {
   "cell_type": "code",
   "execution_count": 69,
   "metadata": {},
   "outputs": [
    {
     "name": "stdout",
     "output_type": "stream",
     "text": [
      "[0, 1, 2, 3, 4, 5, 6, 7, 8, 9]\n",
      "[0, 1, 2, 4, 5, 6, 7, 8, 9]\n",
      "[0, 1, 5, 6, 7, 8, 9]\n",
      "[]\n"
     ]
    }
   ],
   "source": [
    "# 删除元素\n",
    "\n",
    "lst = list(range(10))\n",
    "print(lst)\n",
    "lst.remove(3)\n",
    "print(lst)\n",
    "\n",
    "del lst[2:4]\n",
    "print(lst)\n",
    "\n",
    "lst.clear()\n",
    "print(lst)"
   ]
  },
  {
   "cell_type": "code",
   "execution_count": 73,
   "metadata": {},
   "outputs": [
    {
     "name": "stdout",
     "output_type": "stream",
     "text": [
      "[0, 1, 'b', 2, 3, 4, 5, 6, 7, 8, 9]\n",
      "['hello', 0, 1, 'b', 2, 3, 4, 5, 6, 7, 8, 9]\n"
     ]
    }
   ],
   "source": [
    "# 插入元素\n",
    "\n",
    "lst = list(range(10))\n",
    "lst.insert(2,'b')\n",
    "print(lst)\n",
    "lst.insert(0,'hello')\n",
    "print(lst)"
   ]
  },
  {
   "cell_type": "code",
   "execution_count": 103,
   "metadata": {},
   "outputs": [
    {
     "name": "stdout",
     "output_type": "stream",
     "text": [
      "[0, 1, 2, 3, 4, 5, 6, 7, 8, 9]\n",
      "[100, 1, 2, 3, 4, 5, 6, 7, 8, 9]\n",
      "['hello', 1, 2, 3, 4, 5, 6, 7, 8, 9]\n",
      "[100, 1, 2, 3, 4, 5, 6, 7, 8, 9]\n"
     ]
    }
   ],
   "source": [
    "# 复制\n",
    "\n",
    "lst = list(range(10))\n",
    "print(lst)\n",
    "lst1 = lst   # 索引没变\n",
    "lst[0] = 100\n",
    "print(lst1)\n",
    "lst1 = lst.copy(); # 创立一个新的索引，但是与lst相同 \n",
    "lst[0] = 'hello'\n",
    "print(lst)\n",
    "print(lst1)"
   ]
  },
  {
   "cell_type": "code",
   "execution_count": 85,
   "metadata": {},
   "outputs": [
    {
     "name": "stdout",
     "output_type": "stream",
     "text": [
      "[1, 2, 13, 23, 43] ['aei', 'ionoi', 'sef']\n",
      "[43, 23, 13, 2, 1]\n",
      "['sef', 'ionoi', 'aei']\n",
      "[1, 2, 13, 23, 43]\n",
      "[1, 2, 13, 23, 43, 'hello']\n"
     ]
    }
   ],
   "source": [
    "# 排序\n",
    "\n",
    "lst1 = [13,43,23,1,2]\n",
    "lst2 = ['ionoi','aei','sef']\n",
    "lst1.sort() # 数字按升序排列\n",
    "lst2.sort() # 字母按顺序排列\n",
    "print(lst1, lst2)\n",
    "\n",
    "lst1.sort(reverse=True)\n",
    "print(lst1)\n",
    "\n",
    "lst2.sort(reverse=True)\n",
    "print(lst2)\n",
    "\n",
    "lst3 = sorted(lst1)\n",
    "print(lst3)\n",
    "lst3.append('hello')\n",
    "print(lst3)"
   ]
  },
  {
   "cell_type": "code",
   "execution_count": 92,
   "metadata": {},
   "outputs": [
    {
     "name": "stdout",
     "output_type": "stream",
     "text": [
      "1997 ('a', 'b')\n",
      "(1, 2, 3) <class 'tuple'>\n",
      "5\n",
      "('physics', 'chemistry', '1997', 2000, 50)\n",
      "(50, 50, 50)\n",
      "(0, 1, 2, 3, 4, 5, 6, 7, 8, 9)\n"
     ]
    }
   ],
   "source": [
    "# 元祖tuple：不可变的“列表”\n",
    "\n",
    "tup1 = ('physics', 'chemistry', '1997', 2000)\n",
    "tup2 = (1, 2, 3, 4, 5);\n",
    "tup3 = 'a', 'b', 'c', 'd' #可以不加括号\n",
    "tup4 = (50,) # 元祖中只有一个元素时，元素后要加逗号\n",
    "\n",
    "print (tup1[2], tup3[:2])\n",
    "print(tup2[:3], type(tup2[:3]))\n",
    "\n",
    "del tup3 # 元祖不能删除内部元素，但可以del删除整个元祖\n",
    "# print(tup3)\n",
    "\n",
    "print(len(tup2))\n",
    "print(tup1 + tup4)\n",
    "print(tup4 * 3)\n",
    "\n",
    "lst = list(range(10))\n",
    "tup5 = tuple(lst)   # 列表转换成元祖\n",
    "print(tup5)"
   ]
  },
  {
   "cell_type": "code",
   "execution_count": 137,
   "metadata": {},
   "outputs": [
    {
     "name": "stdout",
     "output_type": "stream",
     "text": [
      "howareyoudoing\n",
      "[32, 63, 12, 45, 89, 77]\n",
      "[32, 63, 45, 89, 77]\n",
      "[32, 63, 45, 89]\n",
      "[4, 5, 6, 73, 4, 4]\n"
     ]
    },
    {
     "ename": "TypeError",
     "evalue": "remove() takes exactly one argument (2 given)",
     "output_type": "error",
     "traceback": [
      "\u001b[0;31m---------------------------------------------------------------------------\u001b[0m",
      "\u001b[0;31mTypeError\u001b[0m                                 Traceback (most recent call last)",
      "\u001b[0;32m<ipython-input-137-8ab6459d6165>\u001b[0m in \u001b[0;36m<module>\u001b[0;34m()\u001b[0m\n\u001b[1;32m     21\u001b[0m \u001b[0;31m# i = 1;\u001b[0m\u001b[0;34m\u001b[0m\u001b[0;34m\u001b[0m\u001b[0m\n\u001b[1;32m     22\u001b[0m \u001b[0;31m# while i <=a:\u001b[0m\u001b[0;34m\u001b[0m\u001b[0;34m\u001b[0m\u001b[0m\n\u001b[0;32m---> 23\u001b[0;31m \u001b[0mm\u001b[0m\u001b[0;34m.\u001b[0m\u001b[0mremove\u001b[0m\u001b[0;34m(\u001b[0m\u001b[0;36m4\u001b[0m\u001b[0;34m,\u001b[0m\u001b[0mall\u001b[0m\u001b[0;34m)\u001b[0m\u001b[0;34m;\u001b[0m\u001b[0;34m\u001b[0m\u001b[0m\n\u001b[0m\u001b[1;32m     24\u001b[0m   \u001b[0;31m#  i += 1;\u001b[0m\u001b[0;34m\u001b[0m\u001b[0;34m\u001b[0m\u001b[0m\n\u001b[1;32m     25\u001b[0m \u001b[0mprint\u001b[0m\u001b[0;34m(\u001b[0m\u001b[0mm\u001b[0m\u001b[0;34m)\u001b[0m\u001b[0;34m\u001b[0m\u001b[0m\n",
      "\u001b[0;31mTypeError\u001b[0m: remove() takes exactly one argument (2 given)"
     ]
    }
   ],
   "source": [
    "text = 'howareyoudoing'\n",
    "# text.append('GG')    'str' object has no attribute 'append'\n",
    "text1 = 'iiiii'\n",
    "# text.extend(text1)    'str' object has no attribute 'extend'\n",
    "print(text)\n",
    "\n",
    "s = [32, 45, 63, 12, 45, 89, 77]\n",
    "s.remove(45)\n",
    "print(s)\n",
    "\n",
    "del s[2]\n",
    "print(s)\n",
    "s.pop(4)\n",
    "print(s)\n",
    "\n",
    "m = [4, 5, 6, 73, 4, 4, 2]\n",
    "m.remove(2)\n",
    "print(m)\n",
    "\n",
    "# a = m.count(4)\n",
    "# i = 1;\n",
    "# while i <=a:\n",
    "#m.remove(4);\n",
    "  #  i += 1;\n",
    "print(m)"
   ]
  },
  {
   "cell_type": "code",
   "execution_count": 122,
   "metadata": {},
   "outputs": [
    {
     "name": "stdout",
     "output_type": "stream",
     "text": [
      "asdf oijoi\n",
      "oiuoijkm\n",
      "oijoi\n"
     ]
    }
   ],
   "source": [
    "# 字符串\n",
    "\n",
    "str1 = 'asdf'\n",
    "str2 = '''oijoi\n",
    "oiuoijkm\n",
    "oijoi'''\n",
    "\n",
    "print(str1, str2)"
   ]
  },
  {
   "cell_type": "code",
   "execution_count": 134,
   "metadata": {},
   "outputs": [
    {
     "name": "stdout",
     "output_type": "stream",
     "text": [
      "' \"\n",
      "Hello! \n",
      "how are you doing?\n",
      "\\\n",
      "//\n",
      "c\\user\\windows\n",
      "c\\users\\windows\n"
     ]
    }
   ],
   "source": [
    "# 转义字符\n",
    "\n",
    "print('\\'', '\\\"')  # 分别输出单引号和双引号\n",
    "print('Hello! \\nhow are you doing?')\n",
    "print('\\\\')\n",
    "print('//')\n",
    "print('c\\\\user\\\\windows')  #输出路径\n",
    "print(r'c\\users\\windows')"
   ]
  },
  {
   "cell_type": "code",
   "execution_count": 154,
   "metadata": {},
   "outputs": [
    {
     "name": "stdout",
     "output_type": "stream",
     "text": [
      "I'm handsome\n",
      "I'm ugly\n",
      "heheha\n",
      "['hao', ' nishi', 'nage', 'a']\n",
      "hao_ nishi_nage_a\n",
      "True False\n",
      "ASDOIJOIOGH\n",
      "asdoijoiogh\n",
      "ASDoijoiogh\n",
      "Asdoijoiogh\n",
      "True True\n",
      "sdihn\n"
     ]
    }
   ],
   "source": [
    "# 修改字符串\n",
    "\n",
    "st = \"I'm handsome\"\n",
    "st2 = st.replace(\"handsome\", \"ugly\")\n",
    "print(st)\n",
    "print(st2)\n",
    "\n",
    "str = 'hahaha'\n",
    "str2 = str.replace('ha','he',2)\n",
    "print(str2)\n",
    "\n",
    "# 按照逗号分拆字符串，生产列表\n",
    "str3 = 'hao, nishi,nage,a'\n",
    "lst = str3.split(',')\n",
    "print(lst)\n",
    "\n",
    "#链接字符串\n",
    "m = '_'\n",
    "str4 = m.join(lst)\n",
    "print(str4)\n",
    "\n",
    "#判断是否已某字符开头，或以某字符结尾\n",
    "st = 'abcdefgh'\n",
    "print(st.startswith('a'), st.endswith('f'))\n",
    "\n",
    "#大小写\n",
    "\n",
    "st = 'asdOIJOIOGH'\n",
    "print(st.upper())\n",
    "print(st.lower())\n",
    "\n",
    "print(st.swapcase()) #大小写互换\n",
    "print(st.capitalize()) # 首字符大写\n",
    "\n",
    "# 是否都是数字，是否都是字符\n",
    "\n",
    "st = '1234'\n",
    "st1 = \"sjoifjo\"\n",
    "\n",
    "print(st.isnumeric(), st1.isalpha())\n",
    "\n",
    "# 删除末尾空格\n",
    "\n",
    "st2 ='sdihn     '\n",
    "print(st2.rstrip())"
   ]
  },
  {
   "cell_type": "code",
   "execution_count": 158,
   "metadata": {},
   "outputs": [
    {
     "name": "stdout",
     "output_type": "stream",
     "text": [
      "Kevin is 好人\n",
      "this is 4\n",
      "this is Kevin\n",
      "this is 4.100000\n",
      "小明的成绩是70,小红的成绩是80\n"
     ]
    }
   ],
   "source": [
    "# 格式化字符：在字符串中插入变量\n",
    "\n",
    "name = \"Kevin\"\n",
    "truth = \"%s is 好人\" %name  # %s代表要插入的变量，%name代表插入name这个变量\n",
    "print(truth)\n",
    "\n",
    "x = 4\n",
    "y = 'Kevin'\n",
    "z = 4.1\n",
    "\n",
    "print(\"this is %i\" %x) # %i 插入整型变量\n",
    "print(\"this is %s\" %y) # %s 插入字符串变量\n",
    "print(\"this is %f\" %z) # %f 插入浮点型变量\n",
    "\n",
    "print(\"小明的成绩是%i,小红的成绩是%i\" %(70, 80)) # 插入两个变量\n"
   ]
  },
  {
   "cell_type": "code",
   "execution_count": 169,
   "metadata": {},
   "outputs": [
    {
     "name": "stdout",
     "output_type": "stream",
     "text": [
      "pi is 3.141593\n",
      "pi is 3.14\n",
      "pi is 11\n",
      "pi is 10\n",
      "have fun +100\n",
      "have fun -0.01\n",
      "huave fun 1.24e+06\n",
      "have fun 1.2354E+06\n",
      "this is 9.8e+43\n",
      "this is 2.3\n"
     ]
    }
   ],
   "source": [
    "#格式化字符：数字格式化的坑\n",
    "\n",
    "m = 3.1415926\n",
    "print('pi is %f' %m)\n",
    "print('pi is %.2f' %m)\n",
    "\n",
    "m = 10.6\n",
    "print('pi is %.0f' %m) #四舍五入\n",
    "print('pi is %i' %m)  #直接去掉小数部分\n",
    "\n",
    "m = 100\n",
    "print('have fun %+i' %m)\n",
    "print('have fun %.2f' %-0.011)\n",
    "\n",
    "# 科学计数法\n",
    "\n",
    "m = 1235436.34534\n",
    "print('huave fun %.2e' %m)\n",
    "print('have fun %.4E' %m)\n",
    "\n",
    "m = 97687698679867098709870987906876987698760897\n",
    "p = 2.3\n",
    "print('this is %.2g' %m)  #当数字非常大时，用科学计数法，当数字小时，直接显示\n",
    "print('this is %g' %p)"
   ]
  },
  {
   "cell_type": "code",
   "execution_count": 170,
   "metadata": {},
   "outputs": [
    {
     "name": "stdout",
     "output_type": "stream",
     "text": [
      "user ID is root\n"
     ]
    }
   ],
   "source": [
    "# 更强大的格式化方法 .format\n",
    "\n",
    "print('user ID is {}'.format('root'))"
   ]
  },
  {
   "cell_type": "code",
   "execution_count": 172,
   "metadata": {},
   "outputs": [
    {
     "name": "stdout",
     "output_type": "stream",
     "text": [
      "今年盈利45.00 %\n"
     ]
    }
   ],
   "source": [
    "print('今年盈利%.2f %%' %45) #两个%才显示%"
   ]
  },
  {
   "cell_type": "code",
   "execution_count": 175,
   "metadata": {},
   "outputs": [
    {
     "name": "stdout",
     "output_type": "stream",
     "text": [
      "我的工作是销售,我喜欢编程\n"
     ]
    }
   ],
   "source": [
    "print('我的工作是%s,我喜欢%s' %('销售','编程'))"
   ]
  }
 ],
 "metadata": {
  "kernelspec": {
   "display_name": "Python 3",
   "language": "python",
   "name": "python3"
  },
  "language_info": {
   "codemirror_mode": {
    "name": "ipython",
    "version": 3
   },
   "file_extension": ".py",
   "mimetype": "text/x-python",
   "name": "python",
   "nbconvert_exporter": "python",
   "pygments_lexer": "ipython3",
   "version": "3.6.4"
  }
 },
 "nbformat": 4,
 "nbformat_minor": 2
}
