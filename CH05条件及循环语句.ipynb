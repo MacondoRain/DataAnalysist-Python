{
 "cells": [
  {
   "cell_type": "code",
   "execution_count": 1,
   "metadata": {},
   "outputs": [
    {
     "data": {
      "text/plain": [
       "'\\n【课程5.2】  条件判断：if语句\\n\\nPython条件语句是通过一条或多条语句的执行结果（True或者False）来决定执行的代码块。\\n\\nif 判断条件：\\n    执行语句……\\nelse：\\n    执行语句……\\n    \\n** 开始有缩进的概念\\n\\n'"
      ]
     },
     "execution_count": 1,
     "metadata": {},
     "output_type": "execute_result"
    }
   ],
   "source": [
    "'''\n",
    "【课程5.2】  条件判断：if语句\n",
    "\n",
    "Python条件语句是通过一条或多条语句的执行结果（True或者False）来决定执行的代码块。\n",
    "\n",
    "if 判断条件：\n",
    "    执行语句……\n",
    "else：\n",
    "    执行语句……\n",
    "    \n",
    "** 开始有缩进的概念\n",
    "\n",
    "'''"
   ]
  },
  {
   "cell_type": "code",
   "execution_count": 6,
   "metadata": {},
   "outputs": [
    {
     "name": "stdout",
     "output_type": "stream",
     "text": [
      "[1, 2, 3, 4]\n",
      "[1, 3, 4]\n"
     ]
    }
   ],
   "source": [
    "lst = [1, 2, 3]\n",
    "lst.append(4)\n",
    "print(lst)\n",
    "\n",
    "lst.remove(2)\n",
    "print(lst)\n",
    "\n",
    "import this"
   ]
  },
  {
   "cell_type": "code",
   "execution_count": 8,
   "metadata": {},
   "outputs": [
    {
     "name": "stdout",
     "output_type": "stream",
     "text": [
      "Not adoult\n"
     ]
    }
   ],
   "source": [
    "age = 16\n",
    "if age < 18:\n",
    "    print('Not adoult')\n",
    "    "
   ]
  },
  {
   "cell_type": "code",
   "execution_count": 12,
   "metadata": {},
   "outputs": [
    {
     "name": "stdout",
     "output_type": "stream",
     "text": [
      "Please enter an socre89\n",
      "89\n"
     ]
    }
   ],
   "source": [
    "score = input('Please enter an socre')\n",
    "print(score)\n"
   ]
  },
  {
   "cell_type": "code",
   "execution_count": 16,
   "metadata": {},
   "outputs": [
    {
     "name": "stdout",
     "output_type": "stream",
     "text": [
      "adult\n"
     ]
    }
   ],
   "source": [
    "age = 189\n",
    "if age < 18:\n",
    "    print(\"not an adult\")\n",
    "else:\n",
    "    print('adult')\n",
    "    \n"
   ]
  },
  {
   "cell_type": "code",
   "execution_count": 26,
   "metadata": {},
   "outputs": [
    {
     "name": "stdout",
     "output_type": "stream",
     "text": [
      "please enter a number:\n"
     ]
    },
    {
     "ename": "ValueError",
     "evalue": "invalid literal for int() with base 10: ''",
     "output_type": "error",
     "traceback": [
      "\u001b[0;31m---------------------------------------------------------------------------\u001b[0m",
      "\u001b[0;31mValueError\u001b[0m                                Traceback (most recent call last)",
      "\u001b[0;32m<ipython-input-26-056e922e38c8>\u001b[0m in \u001b[0;36m<module>\u001b[0;34m()\u001b[0m\n\u001b[0;32m----> 1\u001b[0;31m \u001b[0mnum\u001b[0m \u001b[0;34m=\u001b[0m \u001b[0mint\u001b[0m\u001b[0;34m(\u001b[0m\u001b[0minput\u001b[0m\u001b[0;34m(\u001b[0m\u001b[0;34m'please enter a number:'\u001b[0m\u001b[0;34m)\u001b[0m\u001b[0;34m)\u001b[0m\u001b[0;34m\u001b[0m\u001b[0m\n\u001b[0m\u001b[1;32m      2\u001b[0m \u001b[0;34m\u001b[0m\u001b[0m\n\u001b[1;32m      3\u001b[0m \u001b[0;32mif\u001b[0m \u001b[0mnum\u001b[0m \u001b[0;34m==\u001b[0m \u001b[0;36m3\u001b[0m\u001b[0;34m:\u001b[0m\u001b[0;34m\u001b[0m\u001b[0m\n\u001b[1;32m      4\u001b[0m     \u001b[0mprint\u001b[0m\u001b[0;34m(\u001b[0m\u001b[0;34m'three'\u001b[0m\u001b[0;34m)\u001b[0m\u001b[0;34m\u001b[0m\u001b[0m\n\u001b[1;32m      5\u001b[0m \u001b[0;32melif\u001b[0m \u001b[0mnum\u001b[0m \u001b[0;34m==\u001b[0m \u001b[0;36m2\u001b[0m\u001b[0;34m:\u001b[0m\u001b[0;34m\u001b[0m\u001b[0m\n",
      "\u001b[0;31mValueError\u001b[0m: invalid literal for int() with base 10: ''"
     ]
    }
   ],
   "source": [
    "num = int(input('please enter a number:'))\n",
    "\n",
    "if num == 3:\n",
    "    print('three')\n",
    "elif num == 2:\n",
    "    print('two')\n",
    "else:\n",
    "    print('i dont know')\n",
    "    \n",
    "    "
   ]
  },
  {
   "cell_type": "markdown",
   "metadata": {},
   "source": [
    "num = random.randint(0,10)\n",
    "inpt = int(input('Please guss the number'))\n",
    "if inpt == num:\n",
    "    print(\"Bingo!\")\n",
    "else:\n",
    "    inpt = int(input('Try again'))\n",
    "    "
   ]
  },
  {
   "cell_type": "markdown",
   "metadata": {},
   "source": [
    "import random\n",
    "num = random.randint(0,10)\n",
    "inpt = int(input('Please guss the number'))\n",
    "i = 0\n",
    "while i < 3:\n",
    "    if inpt == num:\n",
    "        print('Bingo!')\n",
    "        break\n",
    "    else:\n",
    "        print('not right')\n",
    "        inpt = int(input('Try again'))\n",
    "        i = i + 1\n",
    "\n",
    "    "
   ]
  },
  {
   "cell_type": "code",
   "execution_count": 4,
   "metadata": {},
   "outputs": [
    {
     "name": "stdout",
     "output_type": "stream",
     "text": [
      "1\n",
      "2\n",
      "3\n"
     ]
    }
   ],
   "source": [
    "lst1 = [1,2,3]\n",
    "for i in range(3):\n",
    "    print (lst1[i])\n",
    "    "
   ]
  },
  {
   "cell_type": "code",
   "execution_count": 7,
   "metadata": {},
   "outputs": [
    {
     "name": "stdout",
     "output_type": "stream",
     "text": [
      "h\n",
      "a\n",
      "l\n",
      "i\n",
      "l\n",
      "u\n",
      "y\n",
      "a\n"
     ]
    }
   ],
   "source": [
    "str1 = \"haliluya\"\n",
    "for i in range (len(str1)):\n",
    "    print (str1[i])\n",
    "    "
   ]
  },
  {
   "cell_type": "code",
   "execution_count": 14,
   "metadata": {},
   "outputs": [
    {
     "name": "stdout",
     "output_type": "stream",
     "text": [
      "dict_keys(['guo', 'yi', 'hei']) <class 'dict_keys'>\n",
      "dict_values([4, 3, 2]) <class 'dict_values'>\n",
      "guo\n",
      "yi\n",
      "hei\n",
      "4\n",
      "3\n",
      "2\n"
     ]
    }
   ],
   "source": [
    "dic1 = {\"guo\":4, \"yi\":3, \"hei\":2}\n",
    "print (dic1.keys(),type(dic1.keys()))\n",
    "print (dic1.values(), type(dic1.values()))\n",
    "\n",
    "for key in dic1.keys():\n",
    "    print (key)\n",
    "    \n",
    "for value in dic1.values():\n",
    "    print (value)"
   ]
  },
  {
   "cell_type": "code",
   "execution_count": 25,
   "metadata": {},
   "outputs": [
    {
     "name": "stdout",
     "output_type": "stream",
     "text": [
      "Please enter a number!3\n",
      "hello world\n",
      "hello world\n",
      "hello world\n"
     ]
    }
   ],
   "source": [
    "num = int(input(\"Please enter a number!\"))\n",
    "for i in range(num):\n",
    "    print ('hello world')"
   ]
  },
  {
   "cell_type": "code",
   "execution_count": 28,
   "metadata": {},
   "outputs": [
    {
     "name": "stdout",
     "output_type": "stream",
     "text": [
      "range(0, 3)\n",
      "0\n",
      "1\n",
      "2\n"
     ]
    }
   ],
   "source": [
    "a = range(3)\n",
    "print (a)\n",
    "for i in range(3):\n",
    "    print (i)"
   ]
  },
  {
   "cell_type": "code",
   "execution_count": null,
   "metadata": {},
   "outputs": [],
   "source": [
    "a = int(input('Please enter the first number'))\n",
    "n = int(input('Please enter the number of the progression'))\n",
    "d = int(input('please enter common differnce'))\n",
    "\n",
    "lst1 = []\n",
    "s = 0\n",
    "for i in range(n):\n",
    "    lst1.append(i*d+a)\n",
    "    s = s + lst1[i]\n",
    "print (lst1)\n",
    "print ('The sum of the arithmetic progression = ', s)\n",
    "\n",
    "del lst1[1:2]\n",
    "print (lst1)"
   ]
  },
  {
   "cell_type": "code",
   "execution_count": null,
   "metadata": {},
   "outputs": [],
   "source": []
  },
  {
   "cell_type": "code",
   "execution_count": null,
   "metadata": {},
   "outputs": [],
   "source": []
  },
  {
   "cell_type": "code",
   "execution_count": null,
   "metadata": {},
   "outputs": [],
   "source": []
  },
  {
   "cell_type": "code",
   "execution_count": null,
   "metadata": {},
   "outputs": [],
   "source": []
  },
  {
   "cell_type": "code",
   "execution_count": 43,
   "metadata": {},
   "outputs": [
    {
     "name": "stdout",
     "output_type": "stream",
     "text": [
      "Please enter the first number1\n",
      "Please enter the number of the progression2\n",
      "please enter common differnce5\n",
      "[1, 6]\n",
      "The sum of the arithmetic progression =  7\n",
      "[1]\n"
     ]
    }
   ],
   "source": [
    "a = int(input('Please enter the first number'))\n",
    "n = int(input('Please enter the number of the progression'))\n",
    "d = int(input('please enter common differnce'))\n",
    "\n",
    "lst1 = []\n",
    "s = 0\n",
    "for i in range(n):\n",
    "    lst1.append(i*d+a)\n",
    "    s = s + lst1[i]\n",
    "print (lst1)\n",
    "print ('The sum of the arithmetic progression = ', s)\n",
    "\n",
    "del lst1[1:2]\n",
    "print (lst1)"
   ]
  },
  {
   "cell_type": "code",
   "execution_count": 55,
   "metadata": {},
   "outputs": [
    {
     "name": "stdout",
     "output_type": "stream",
     "text": [
      "[['a', 1], ['b', 2], ['c', 3]]\n",
      "{'a': 1, 'b': 2, 'c': 3}\n"
     ]
    }
   ],
   "source": [
    "lst1 = ['a', 'b', 'c']\n",
    "lst2 = [1, 2, 3]\n",
    "m = []\n",
    "dic2 = {}\n",
    "for i in range(3):\n",
    "    lsti = [lst1[i], lst2[i]]\n",
    "    m.append(lsti)\n",
    "print (m)\n",
    "\n",
    "dic2 = dict(m)\n",
    "print (dic2)"
   ]
  },
  {
   "cell_type": "code",
   "execution_count": 57,
   "metadata": {},
   "outputs": [
    {
     "name": "stdout",
     "output_type": "stream",
     "text": [
      "{'a': 1, 'b': 2, 'c': 3}\n"
     ]
    }
   ],
   "source": [
    "lst1 = ['a', 'b', 'c']\n",
    "lst2 = [1, 2, 3]\n",
    "dic2 = {}\n",
    "\n",
    "for i in range(len(lst1)):\n",
    "    dic2[lst1[i]] =  lst2[i]\n",
    "print (dic2)"
   ]
  },
  {
   "cell_type": "code",
   "execution_count": 60,
   "metadata": {},
   "outputs": [
    {
     "name": "stdout",
     "output_type": "stream",
     "text": [
      "the counst is  0\n",
      "the counst is  1\n",
      "the counst is  2\n",
      "the counst is  3\n",
      "the counst is  4\n",
      "the counst is  5\n",
      "the counst is  6\n",
      "the counst is  7\n",
      "the counst is  8\n"
     ]
    }
   ],
   "source": [
    "count = 0\n",
    "while count<9:\n",
    "    print('the counst is ', count)\n",
    "    count = count +1\n"
   ]
  },
  {
   "cell_type": "code",
   "execution_count": 63,
   "metadata": {},
   "outputs": [
    {
     "name": "stdout",
     "output_type": "stream",
     "text": [
      "0 less than 5\n",
      "1 less than 5\n",
      "2 less than 5\n",
      "3 less than 5\n",
      "4 less than 5\n",
      "5 no less than 5\n"
     ]
    }
   ],
   "source": [
    "count = 0\n",
    "while count < 5: \n",
    "    print (count, 'less than 5')\n",
    "    count += 1\n",
    "else:\n",
    "    print (count, 'no less than 5')"
   ]
  },
  {
   "cell_type": "code",
   "execution_count": 64,
   "metadata": {},
   "outputs": [],
   "source": [
    "# break 打断并跳出循环\n",
    "# continue 跳过此次循环\n",
    "# pass 符合条件时不做任何操作"
   ]
  },
  {
   "cell_type": "code",
   "execution_count": 70,
   "metadata": {},
   "outputs": [
    {
     "name": "stdout",
     "output_type": "stream",
     "text": [
      "190\n"
     ]
    }
   ],
   "source": [
    "# break\n",
    "s = 0\n",
    "n = 1\n",
    "while n > 0:\n",
    "    s = s + n\n",
    "    n+=1\n",
    "    # print(s)\n",
    "    if n == 20:\n",
    "        break\n",
    "print (s)"
   ]
  },
  {
   "cell_type": "code",
   "execution_count": 92,
   "metadata": {},
   "outputs": [
    {
     "name": "stdout",
     "output_type": "stream",
     "text": [
      "[0, 1, 2, 3, 4, 5, 6, 7, 8, 9]\n",
      "0\n",
      "1\n",
      "2\n",
      "3\n",
      "5\n",
      "6\n",
      "7\n",
      "8\n",
      "9\n",
      "41\n"
     ]
    }
   ],
   "source": [
    "lst = []\n",
    "for i in range(10):\n",
    "    lst.append(i)\n",
    "print (lst)\n",
    "\n",
    "s = 0 \n",
    "\n",
    "for i in range(len(lst)):\n",
    "    \n",
    "    if i != 4 :\n",
    "        print(lst[i])\n",
    "        s = s + lst[i]\n",
    "        \n",
    "    else:\n",
    "        continue\n",
    "print(s)"
   ]
  },
  {
   "cell_type": "code",
   "execution_count": 94,
   "metadata": {},
   "outputs": [
    {
     "name": "stdout",
     "output_type": "stream",
     "text": [
      "the present letter is  P\n",
      "the present letter is  y\n",
      "the present letter is  t\n",
      "the present letter is  o\n",
      "the present letter is  n\n",
      "end\n"
     ]
    }
   ],
   "source": [
    "for letter in 'Python':\n",
    "    if letter == 'h':\n",
    "        continue\n",
    "        print (\"it's 'h', but we passed it\")\n",
    "    print (\"the present letter is \", letter)\n",
    "print ('end')"
   ]
  },
  {
   "cell_type": "code",
   "execution_count": 96,
   "metadata": {},
   "outputs": [
    {
     "name": "stdout",
     "output_type": "stream",
     "text": [
      "the present letter is  P\n",
      "the present letter is  y\n",
      "the present letter is  t\n",
      "the present letter is  h\n",
      "the present letter is  o\n",
      "the present letter is  n\n",
      "end\n"
     ]
    }
   ],
   "source": [
    "for letter in 'Python':\n",
    "    if letter == 'h':\n",
    "        pass\n",
    "        # print (\"it's 'h', but we passed it\")\n",
    "    print (\"the present letter is \", letter)\n",
    "print ('end')"
   ]
  }
 ],
 "metadata": {
  "kernelspec": {
   "display_name": "Python 3",
   "language": "python",
   "name": "python3"
  },
  "language_info": {
   "codemirror_mode": {
    "name": "ipython",
    "version": 3
   },
   "file_extension": ".py",
   "mimetype": "text/x-python",
   "name": "python",
   "nbconvert_exporter": "python",
   "pygments_lexer": "ipython3",
   "version": "3.6.4"
  }
 },
 "nbformat": 4,
 "nbformat_minor": 2
}
