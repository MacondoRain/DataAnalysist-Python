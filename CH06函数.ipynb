{
 "cells": [
  {
   "cell_type": "code",
   "execution_count": 2,
   "metadata": {},
   "outputs": [
    {
     "name": "stdout",
     "output_type": "stream",
     "text": [
      "100\n"
     ]
    }
   ],
   "source": [
    "# function\n",
    "# print()\n",
    "# int()\n",
    "\n",
    "print(abs(-100))\n"
   ]
  },
  {
   "cell_type": "code",
   "execution_count": 3,
   "metadata": {},
   "outputs": [],
   "source": [
    "# 定义函数\n",
    "\n"
   ]
  },
  {
   "cell_type": "code",
   "execution_count": 16,
   "metadata": {},
   "outputs": [
    {
     "name": "stdout",
     "output_type": "stream",
     "text": [
      "请输入一个字符串hello world\n"
     ]
    },
    {
     "data": {
      "text/plain": [
       "['h', 'e', 'l', 'l', 'o', ' ', 'w', 'o', 'r', 'l', 'd']"
      ]
     },
     "execution_count": 16,
     "metadata": {},
     "output_type": "execute_result"
    }
   ],
   "source": [
    "# 函数f（x），输入一个字符串，分别print出每个字母\n",
    "\n",
    "def f(x):\n",
    "    x = str(x)\n",
    "    lst = []\n",
    "    for letter in x:\n",
    "        lst.append(letter)\n",
    "    return lst        \n",
    "    print (lst)\n",
    "st_input = str(input('请输入一个字符串'))\n",
    "f(st_input)"
   ]
  },
  {
   "cell_type": "code",
   "execution_count": 15,
   "metadata": {},
   "outputs": [
    {
     "name": "stdout",
     "output_type": "stream",
     "text": [
      "-4608\n"
     ]
    }
   ],
   "source": [
    "# f(x,y,z),函数内部算法：生成 ((x+y)(x-y))*z\n",
    "def f(x,y,z):\n",
    "    d = ((x+y)*(x-y))*z\n",
    "    return d\n",
    "print (f(2,4,2) * f(10,2,2))"
   ]
  },
  {
   "cell_type": "code",
   "execution_count": 20,
   "metadata": {},
   "outputs": [
    {
     "name": "stdout",
     "output_type": "stream",
     "text": [
      "(1, 2, 3) <class 'tuple'>\n"
     ]
    },
    {
     "data": {
      "text/plain": [
       "2.0"
      ]
     },
     "execution_count": 20,
     "metadata": {},
     "output_type": "execute_result"
    }
   ],
   "source": [
    "#编写一个求平均值的函数 f(*m)\n",
    "\n",
    "def f(*m): \n",
    "    d = sum(m)/len(m)\n",
    "    print (m, type(m))\n",
    "    return d\n",
    "f(1,2,3)"
   ]
  },
  {
   "cell_type": "code",
   "execution_count": 30,
   "metadata": {},
   "outputs": [
    {
     "name": "stdout",
     "output_type": "stream",
     "text": [
      "6\n",
      "12.56\n"
     ]
    }
   ],
   "source": [
    "# 定义一个函数，用于求矩形面积、圆形面积\n",
    "def area_squire(length, width):\n",
    "    area = length * width\n",
    "    return area\n",
    "\n",
    "def area_circle(R):\n",
    "    area = 3.14 * R **2\n",
    "    return area\n",
    "\n",
    "    \n",
    "print (area_squire(2,3))\n",
    "print (area_circle(2))\n"
   ]
  },
  {
   "cell_type": "code",
   "execution_count": 1,
   "metadata": {},
   "outputs": [
    {
     "data": {
      "text/plain": [
       "{1: 0, 2: 0, 'hell': 0}"
      ]
     },
     "execution_count": 1,
     "metadata": {},
     "output_type": "execute_result"
    }
   ],
   "source": [
    "# 定义一个函数，函数的作用是把输入的列表变成一连串字典的key，并生成字典，需要用input输入\n",
    "\n",
    "def lst_to_dic(*m):\n",
    "    lst = list(m)\n",
    "    dic = {}\n",
    "    for i in lst:\n",
    "        dic[i] = 0\n",
    "    return dic\n",
    "\n",
    "lst_to_dic(1,2,'hell')"
   ]
  },
  {
   "cell_type": "code",
   "execution_count": 3,
   "metadata": {},
   "outputs": [
    {
     "name": "stdout",
     "output_type": "stream",
     "text": [
      "3\n"
     ]
    }
   ],
   "source": [
    "# 用lambda创建一个求元素个数的匿名函数\n",
    "f = lambda lst : len(lst)\n",
    "print (f([1,2,3]))"
   ]
  },
  {
   "cell_type": "code",
   "execution_count": 28,
   "metadata": {
    "scrolled": true
   },
   "outputs": [
    {
     "name": "stdout",
     "output_type": "stream",
     "text": [
      "[7, 1, 4, 20, 100, 0, 0.1] <class 'list'>\n",
      "(7, 1, 4, 20, 100, 0, 0.1) <class 'tuple'>\n"
     ]
    },
    {
     "data": {
      "text/plain": [
       "[100, 20, 7, 4, 1, 0.1, 0]"
      ]
     },
     "execution_count": 28,
     "metadata": {},
     "output_type": "execute_result"
    }
   ],
   "source": [
    "# 定义一个函数，可将输入的所有数字从大到小依次排序\n",
    "def sort_number(*numbers):\n",
    "    lst = list (numbers)\n",
    "    print (lst, type(lst))\n",
    "    print (numbers, type(numbers))\n",
    "    lst_sorted = sorted(lst, reverse = True)\n",
    "    return (lst_sorted)\n",
    "\n",
    "sort_number(7,1,4,20,100,0,0.1)"
   ]
  },
  {
   "cell_type": "code",
   "execution_count": 45,
   "metadata": {},
   "outputs": [
    {
     "name": "stdout",
     "output_type": "stream",
     "text": [
      "please enter the score or end70\n",
      "please enter the score or end60\n",
      "please enter the score or end30\n",
      "please enter the score or end90\n",
      "please enter the score or endend\n",
      "[70, 60, 30, 90]\n"
     ]
    },
    {
     "data": {
      "text/plain": [
       "['B', 'B', 'C', 'A', 'Average score is 62.500000']"
      ]
     },
     "execution_count": 45,
     "metadata": {},
     "output_type": "execute_result"
    }
   ],
   "source": [
    "# 定义一个函数，随机输入一个学生的成绩后，学习成绩>=90分的同学用A表示，60-89分之间的用B表示，60分以下的用C表示，最后输出成绩评分\n",
    "def rating(scores_lst):\n",
    "    rate_lst =[]\n",
    "    for i in range (len(scores_lst)):\n",
    "        if scores_lst[i] >= 90:\n",
    "            rate_lst.append(\"A\")\n",
    "        elif scores_lst[i] >= 60:\n",
    "            rate_lst.append(\"B\")\n",
    "        else:\n",
    "            rate_lst.append(\"C\")\n",
    "    aver = sum(scores_lst)/len(scores_lst)\n",
    "    rate_lst.append(\"Average score is %f\" % aver)\n",
    "    return rate_lst\n",
    "\n",
    "\n",
    "scores_lst = []\n",
    "score = input(\"please enter the score or end\")\n",
    "while score != \"end\":\n",
    "    scores_lst.append(int(score))\n",
    "    score = input(\"please enter the score or end\")\n",
    "    \n",
    "print (scores_lst)\n",
    "rating (scores_lst)"
   ]
  },
  {
   "cell_type": "code",
   "execution_count": 52,
   "metadata": {},
   "outputs": [
    {
     "name": "stdout",
     "output_type": "stream",
     "text": [
      "Please enter any stringhell 123\n",
      "hell 123\n",
      "['The number of letters in the string is 4', 'The number of spaces in the string is 1', 'The number of digits in the string is 3']\n"
     ]
    }
   ],
   "source": [
    "# 定义一个函数，可统计出输入任意的字符中英文字母、空格、数字和其它字符的个数\n",
    "\n",
    "def str_counting(str_in):\n",
    "    letter_count = 0\n",
    "    space_count = 0\n",
    "    digit_count = 0\n",
    "    for i in str_in:\n",
    "        if i.isalpha() == True:\n",
    "            letter_count +=1\n",
    "        elif i.isspace() == True:\n",
    "            space_count +=1\n",
    "        elif i.isdigit() == True:\n",
    "            digit_count +=1\n",
    "    return ['The number of letters in the string is %i' % letter_count, \\\n",
    "            'The number of spaces in the string is %i' % space_count, \\\n",
    "            'The number of digits in the string is %i' % digit_count]\n",
    "str1 = str(input('Please enter any string'))\n",
    "print (str1)\n",
    "print (str_counting(str1))      "
   ]
  }
 ],
 "metadata": {
  "kernelspec": {
   "display_name": "Python 3",
   "language": "python",
   "name": "python3"
  },
  "language_info": {
   "codemirror_mode": {
    "name": "ipython",
    "version": 3
   },
   "file_extension": ".py",
   "mimetype": "text/x-python",
   "name": "python",
   "nbconvert_exporter": "python",
   "pygments_lexer": "ipython3",
   "version": "3.6.4"
  }
 },
 "nbformat": 4,
 "nbformat_minor": 2
}
