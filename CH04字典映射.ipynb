{
 "cells": [
  {
   "cell_type": "code",
   "execution_count": 1,
   "metadata": {},
   "outputs": [
    {
     "data": {
      "text/plain": [
       "'\\n【课程4.1】  字典dict基本概念\\n\\n字典是另一种可变容器模型，且可存储任意类型对象。\\n字典的每个键值(key=>value)对用冒号(:)分割，每个对之间用逗号(,)分割，整个字典包括在花括号({})中 \\n\\n键必须是唯一的，但值则不必。\\n\\n'"
      ]
     },
     "execution_count": 1,
     "metadata": {},
     "output_type": "execute_result"
    }
   ],
   "source": [
    "'''\n",
    "【课程4.1】  字典dict基本概念\n",
    "\n",
    "字典是另一种可变容器模型，且可存储任意类型对象。\n",
    "字典的每个键值(key=>value)对用冒号(:)分割，每个对之间用逗号(,)分割，整个字典包括在花括号({})中 \n",
    "\n",
    "键必须是唯一的，但值则不必。\n",
    "\n",
    "'''"
   ]
  },
  {
   "cell_type": "code",
   "execution_count": 4,
   "metadata": {},
   "outputs": [],
   "source": [
    "name = ['大头儿子','小头爸爸','隔壁老王']\n",
    "dic = {'大头儿子':6, 'Hellen':45,'John':23}"
   ]
  },
  {
   "cell_type": "code",
   "execution_count": 8,
   "metadata": {},
   "outputs": [
    {
     "name": "stdout",
     "output_type": "stream",
     "text": [
      "{'Tom': 12}\n"
     ]
    }
   ],
   "source": [
    "# 键值对必须成对出现,如果成对出现，后面那个值会被记录\n",
    "#键必须是字符串，值可以是任何类型\n",
    "dic = {'Tom':18,'Tom':12}\n",
    "print (dic)"
   ]
  },
  {
   "cell_type": "code",
   "execution_count": 14,
   "metadata": {},
   "outputs": [
    {
     "name": "stdout",
     "output_type": "stream",
     "text": [
      "{'Jack': 12, 'Tom': 23, 'Yack': 32}\n",
      "{'Jack': 12, 'Tom': 23, 'Yack': 32, 'Jucy': 15}\n",
      "{'Jack': 0, 'Tom': 23, 'Yack': 32, 'Jucy': 15}\n",
      "{'Jack': 0, 'Yack': 32, 'Jucy': 15}\n"
     ]
    }
   ],
   "source": [
    "dic = {'Jack':12,'Tom':23,'Yack':32}\n",
    "print(dic)\n",
    "dic['Jucy']=15\n",
    "print(dic)\n",
    "dic['Jack']=0\n",
    "print(dic)\n",
    "del dic['Tom']\n",
    "print(dic)"
   ]
  },
  {
   "cell_type": "code",
   "execution_count": 25,
   "metadata": {},
   "outputs": [
    {
     "name": "stdout",
     "output_type": "stream",
     "text": [
      "{'hey': 1, 'you': 2, 'love': 1000}\n",
      "{'jack': 13, 'marry': 12}\n",
      "{'jack': [1, 2], 'mary': [2, 3]}\n",
      "{'a': 0, 'b': 0, 'c': 0}\n"
     ]
    }
   ],
   "source": [
    "#声明一个字典\n",
    "dic = {\"hey\":1, 'you':2, 'love':1000}\n",
    "print (dic)\n",
    "\n",
    "dic = dict(jack=13, marry = 12)\n",
    "print(dic)\n",
    "\n",
    "lst1 = [('jack', 1), ('mary', 2)]\n",
    "dic1= dict(lst1)\n",
    "\n",
    "lst2 = [('jack',[1,2]), ('mary', [2,3])]\n",
    "dic2 = dict(lst2)\n",
    "print(dic2)\n",
    "\n",
    "keys = ['a', 'b', 'c']\n",
    "dic3 = dict.fromkeys(keys,0)\n",
    "print (dic3)"
   ]
  },
  {
   "cell_type": "code",
   "execution_count": 28,
   "metadata": {},
   "outputs": [
    {
     "name": "stdout",
     "output_type": "stream",
     "text": [
      "{'语文': 80, '数学': 90, '物理': 60}\n"
     ]
    }
   ],
   "source": [
    "lst = [('语文',80), ('数学',90),('物理',60)]\n",
    "dic = dict(lst)\n",
    "print(dic)"
   ]
  },
  {
   "cell_type": "code",
   "execution_count": 29,
   "metadata": {},
   "outputs": [
    {
     "data": {
      "text/plain": [
       "'\\n【课程4.2】  字典常用操作\\n\\n字典内置函数&方法\\n\\n'"
      ]
     },
     "execution_count": 29,
     "metadata": {},
     "output_type": "execute_result"
    }
   ],
   "source": [
    "'''\n",
    "【课程4.2】  字典常用操作\n",
    "\n",
    "字典内置函数&方法\n",
    "\n",
    "'''"
   ]
  },
  {
   "cell_type": "code",
   "execution_count": 37,
   "metadata": {},
   "outputs": [
    {
     "name": "stdout",
     "output_type": "stream",
     "text": [
      "{'a': 1, 'b': 2, 'c': 3}\n",
      "{'c': 3}\n",
      "{'a': 1, 'b': 2, 'c': 3, 'j': 0} {'a': 1, 'b': 2, 'c': 3, 'j': 0}\n",
      "{'a': 1, 'b': 2, 'c': 3, 'j': 0, 'h': 100} {'a': 1, 'b': 2, 'c': 3, 'j': 0}\n",
      "True\n",
      "False\n"
     ]
    }
   ],
   "source": [
    "#更新或者合并字典\n",
    "\n",
    "dic1 = {'a':1, 'b':2}\n",
    "dic2 = {'c':3}\n",
    "dic1.update(dic2)\n",
    "print(dic1)\n",
    "print(dic2)\n",
    "dic3 = dic1 #dic3指向dic1所代表的值\n",
    "dic1.update({'j':0}) #更新了dic1的值\n",
    "print(dic1, dic3) #dic1和dic3都指向了同样的值\n",
    "\n",
    "dic4 = dic1.copy() # dic4复制了一个新的与dic1相同的值\n",
    "dic1.update({'h':100}) #更新了dic1对应的值，但是没有更新dic4对应的值\n",
    "print(dic1, dic4) #因此，dic1被改变了,dic4没有被改变\n",
    "\n",
    "\n",
    "print('a' in dic1) #用key判断是否包含，返回ture\n",
    "print (2 in dic1)  #用value判断是否包含，返回flase\n"
   ]
  },
  {
   "cell_type": "code",
   "execution_count": 42,
   "metadata": {},
   "outputs": [
    {
     "name": "stdout",
     "output_type": "stream",
     "text": [
      "Jack\n",
      "David\n",
      "Tom\n"
     ]
    }
   ],
   "source": [
    "data = [{'name': 'Jack', 'age':18},\n",
    "        {'name': 'David', 'age':15},\n",
    "        {'name': 'Tom', 'age':13}]\n",
    "\n",
    "for i in data:\n",
    "    print(i['name']) #按标签显示数据"
   ]
  },
  {
   "cell_type": "code",
   "execution_count": 43,
   "metadata": {},
   "outputs": [
    {
     "data": {
      "text/plain": [
       "'\\n【课程4.3】  字典的元素访问及遍历\\n\\n如何读取字典？\\n\\n'"
      ]
     },
     "execution_count": 43,
     "metadata": {},
     "output_type": "execute_result"
    }
   ],
   "source": [
    "'''\n",
    "【课程4.3】  字典的元素访问及遍历\n",
    "\n",
    "如何读取字典？\n",
    "\n",
    "'''"
   ]
  },
  {
   "cell_type": "code",
   "execution_count": 46,
   "metadata": {},
   "outputs": [
    {
     "name": "stdout",
     "output_type": "stream",
     "text": [
      "1\n"
     ]
    }
   ],
   "source": [
    "dic = {'a':1, 'b':2}\n",
    "print(dic['a'])"
   ]
  },
  {
   "cell_type": "code",
   "execution_count": 64,
   "metadata": {},
   "outputs": [
    {
     "name": "stdout",
     "output_type": "stream",
     "text": [
      "13\n",
      "2\n",
      "Not in the dic\n",
      "None\n",
      "dict_keys(['a', 'b']) <class 'dict_keys'>\n",
      "['a', 'b']\n",
      "dict_values([1, 2]) <class 'dict_values'>\n",
      "[1, 2]\n",
      "dict_items([('a', 1), ('b', 2)])\n",
      "[('a', 1), ('b', 2)]\n",
      "a\n",
      "b\n",
      "-----\n",
      "1\n",
      "2\n",
      "----\n",
      "1\n",
      "2\n",
      "----\n",
      "key为： a, value为 1\n",
      "key为： b, value为 2\n",
      "-----\n"
     ]
    }
   ],
   "source": [
    "data = [{'name': 'Jack', 'age':18},\n",
    "        {'name': 'David', 'age':15},\n",
    "        {'name': 'Tom', 'age':13}]\n",
    "print(data[2]['age'])  #data[2]找到列表data中第3个元素，是一个字典，打印字典中key为age的值。\n",
    "\n",
    "dic1 = {'a':1, 'b':2}\n",
    "print(dic1.get('b'))\n",
    "print(dic1.get('c',print('Not in the dic')))\n",
    "print(dic1.keys(),type(dic1.keys()))\n",
    "print(list(dic1.keys()))\n",
    "\n",
    "print(dic1.values(), type(dic1.values()))\n",
    "print(list(dic1.values()))\n",
    "\n",
    "print(dic1.items())\n",
    "print(list(dic1.items()))\n",
    "\n",
    "for keys in dic1:\n",
    "    print(keys)\n",
    "print('-----')\n",
    "\n",
    "for values in dic1.values():\n",
    "    print(values)\n",
    "print('----')\n",
    "\n",
    "for keys in dic1:\n",
    "    print(dic1[keys])\n",
    "print('----')\n",
    "\n",
    "for (k,v) in dic1.items():\n",
    "    print('key为： %s, value为 %i' %(k,v))\n",
    "print('-----')"
   ]
  }
 ],
 "metadata": {
  "kernelspec": {
   "display_name": "Python 3",
   "language": "python",
   "name": "python3"
  },
  "language_info": {
   "codemirror_mode": {
    "name": "ipython",
    "version": 3
   },
   "file_extension": ".py",
   "mimetype": "text/x-python",
   "name": "python",
   "nbconvert_exporter": "python",
   "pygments_lexer": "ipython3",
   "version": "3.6.4"
  }
 },
 "nbformat": 4,
 "nbformat_minor": 2
}
