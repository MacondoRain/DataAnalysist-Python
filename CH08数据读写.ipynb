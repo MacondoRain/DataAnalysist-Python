{
 "cells": [
  {
   "cell_type": "code",
   "execution_count": 1,
   "metadata": {},
   "outputs": [
    {
     "data": {
      "text/plain": [
       "'\\n【课程8.1】  文件对象声明及基本操作\\n\\n另一种数据格式：文件/文档\\n\\n'"
      ]
     },
     "execution_count": 1,
     "metadata": {},
     "output_type": "execute_result"
    }
   ],
   "source": [
    "'''\n",
    "【课程8.1】  文件对象声明及基本操作\n",
    "\n",
    "另一种数据格式：文件/文档\n",
    "\n",
    "'''"
   ]
  },
  {
   "cell_type": "code",
   "execution_count": 3,
   "metadata": {},
   "outputs": [
    {
     "name": "stdout",
     "output_type": "stream",
     "text": [
      "/Users/KevinTang/DataAnalysist/Python/test.txt <class 'str'>\n"
     ]
    }
   ],
   "source": [
    "path1 = '/Users/KevinTang/DataAnalysist/Python/test.txt'\n",
    "path2 = '\\\\Users\\\\KevinTang\\\\DataAnalysist\\\\Python\\\\test.txt'\n",
    "\n",
    "print (path1, type(path1))"
   ]
  },
  {
   "cell_type": "code",
   "execution_count": 14,
   "metadata": {},
   "outputs": [
    {
     "name": "stdout",
     "output_type": "stream",
     "text": [
      "<_io.TextIOWrapper name='/Users/KevinTang/DataAnalysist/Python/test.txt' mode='r' encoding='utf8'> <class '_io.TextIOWrapper'>\n",
      "Beautiful is better than ugly.\n",
      "Explicit is better than implicit.\n",
      "Simple is better than complex.\n",
      "Complex is better than complicated.\n",
      "Flat is better than nested.\n",
      "Sparse is better than dense.\n",
      "Readability counts.\n",
      "Special cases aren't special enough to break the rules.\n",
      "Although practicality beats purity.\n",
      "Errors should never pass silently.\n",
      "Unless explicitly silenced.\n",
      "In the face of ambiguity, refuse the temptation to guess.\n",
      "There should be one-- and preferably only one --obvious way to do it.\n",
      "Although that way may not be obvious at first unless you're Dutch.\n",
      "Now is better than never.\n",
      "Although never is often better than *right* now.\n",
      "If the implementation is hard to explain, it's a bad idea.\n",
      "If the implementation is easy to explain, it may be a good idea.\n",
      "Namespaces are one honking great idea -- let's do more of those!\n",
      "\n",
      "第二次读取\n",
      "Beautiful is better than ugly.\n",
      "Explicit is better than implicit.\n",
      "Simple is better than complex.\n",
      "Complex is better than complicated.\n",
      "Flat is better than nested.\n",
      "Sparse is better than dense.\n",
      "Readability counts.\n",
      "Special cases aren't special enough to break the rules.\n",
      "Although practicality beats purity.\n",
      "Errors should never pass silently.\n",
      "Unless explicitly silenced.\n",
      "In the face of ambiguity, refuse the temptation to guess.\n",
      "There should be one-- and preferably only one --obvious way to do it.\n",
      "Although that way may not be obvious at first unless you're Dutch.\n",
      "Now is better than never.\n",
      "Although never is often better than *right* now.\n",
      "If the implementation is hard to explain, it's a bad idea.\n",
      "If the implementation is easy to explain, it may be a good idea.\n",
      "Namespaces are one honking great idea -- let's do more of those!\n",
      "\n"
     ]
    }
   ],
   "source": [
    "import sys\n",
    "sys.path.append('/Users/KevinTang/DataAnalysist/Python/')\n",
    "path = '/Users/KevinTang/DataAnalysist/Python/test.txt'\n",
    "\n",
    "f = open(path, 'r', encoding = 'utf8')\n",
    "# open (路径，‘模式’，endcoding = '编码')\n",
    "# 模式： r 为read, w 为write\n",
    "# 编码模式：含中文 utf8\n",
    "# 简答的读取方法：.read() → 读取后，光标将会留在读取末尾\n",
    "\n",
    "print (f, type (f))\n",
    "# f被定义为一个文件\n",
    "\n",
    "print (f.read())\n",
    "# 读取文件f\n",
    "\n",
    "f.seek(0)    # 将光标放到最前面\n",
    "print ('第二次读取')\n",
    "print (f.read())\n",
    "\n",
    "f.close()\n"
   ]
  },
  {
   "cell_type": "code",
   "execution_count": 15,
   "metadata": {},
   "outputs": [
    {
     "data": {
      "text/plain": [
       "'\\n【课程8.2】  系统模块下的路径操作\\n\\nos 模块：提供了非常丰富的方法用来处理文件和目录\\n\\n'"
      ]
     },
     "execution_count": 15,
     "metadata": {},
     "output_type": "execute_result"
    }
   ],
   "source": [
    "'''\n",
    "【课程8.2】  系统模块下的路径操作\n",
    "\n",
    "os 模块：提供了非常丰富的方法用来处理文件和目录\n",
    "\n",
    "'''"
   ]
  },
  {
   "cell_type": "code",
   "execution_count": 29,
   "metadata": {},
   "outputs": [
    {
     "name": "stdout",
     "output_type": "stream",
     "text": [
      "posix\n",
      "/Users/KevinTang/DataAnalysist/Python\n",
      "['.DS_Store', 'CH08数据读写.ipynb', '课程笔记', 'CH02变量及数据类型.ipynb', 'CH06函数.ipynb', '.ipynb_checkpoints', 'CH03序列及通用操作.ipynb', 'CH07模块与包.ipynb', 'CH04字典映射.ipynb', 'CH05条件及循环语句.ipynb', 'test.ipynb']\n",
      "['.DS_Store', 'CH08数据读写.ipynb', '课程笔记', 'CH02变量及数据类型.ipynb', 'CH06函数.ipynb', '.ipynb_checkpoints', 'CH03序列及通用操作.ipynb', 'CH07模块与包.ipynb', 'CH04字典映射.ipynb', 'CH05条件及循环语句.ipynb', 'test.ipynb']\n",
      "('/Users/KevinTang/DataAnalysist/Python', 'test.ipynb')\n",
      "<class 'tuple'>\n",
      "True\n",
      "False\n"
     ]
    }
   ],
   "source": [
    "import os\n",
    "\n",
    "print (os.name)\n",
    "print (os.getcwd())\n",
    "print (os.listdir())\n",
    "\n",
    "# os.remove('test.txt') #删除一个文件\n",
    "print (os.listdir())\n",
    "\n",
    "print (os.path.split('/Users/KevinTang/DataAnalysist/Python/test.ipynb')) #获取路径和文件名\n",
    "print (type(os.path.split('/Users/KevinTang/DataAnalysist/Python/test.ipynb'))) # 得到的是元祖\n",
    "\n",
    "print (os.path.exists('/Users/KevinTang/DataAnalysist/Python/test.ipynb'))\n",
    "print (os.path.exists('/Users/KevinTang/DataAnalysist/Python/hehe.ipynb'))\n",
    "# 用来检验给出的路径是否真地存在，这里不存在改文件故False，但路径存在故True"
   ]
  },
  {
   "cell_type": "code",
   "execution_count": 30,
   "metadata": {},
   "outputs": [
    {
     "data": {
      "text/plain": [
       "'\\n【课程8.3】  文件的读取与写入\\n\\nos 模块：提供了非常丰富的方法用来处理文件和目录\\n\\n'"
      ]
     },
     "execution_count": 30,
     "metadata": {},
     "output_type": "execute_result"
    }
   ],
   "source": [
    "'''\n",
    "【课程8.3】  文件的读取与写入\n",
    "\n",
    "os 模块：提供了非常丰富的方法用来处理文件和目录\n",
    "\n",
    "'''"
   ]
  },
  {
   "cell_type": "code",
   "execution_count": 55,
   "metadata": {},
   "outputs": [
    {
     "name": "stdout",
     "output_type": "stream",
     "text": [
      "Beautiful is better than ugly.\n",
      "Explicit is better than implicit.\n",
      "Simple is better than complex.\n",
      "Complex is better than complicated.\n",
      "Flat is better than nested.\n",
      "Sparse is better than dense.\n",
      "Readability counts.\n",
      "Special cases aren't special enough to break the rules.\n",
      "Although practicality beats purity.\n",
      "Errors should never pass silently.\n",
      "Unless explicitly silenced.\n",
      "In the face of ambiguity, refuse the temptation to guess.\n",
      "There should be one-- and preferably only one --obvious way to do it.\n",
      "Although that way may not be obvious at first unless you're Dutch.\n",
      "Now is better than never.\n",
      "Although never is often better than *right* now.\n",
      "If the implementation is hard to explain, it's a bad idea.\n",
      "If the implementation is easy to explain, it may be a good idea.\n",
      "Namespaces are one honking great idea -- let's do more of those!\n",
      "\n",
      "Beaut\n",
      "Beautiful is better than ugly.\n",
      "\n",
      "Beaut\n",
      "['Beautiful is better than ugly.\\n', 'Explicit is better than implicit.\\n', 'Simple is better than complex.\\n', 'Complex is better than complicated.\\n', 'Flat is better than nested.\\n', 'Sparse is better than dense.\\n', 'Readability counts.\\n', \"Special cases aren't special enough to break the rules.\\n\", 'Although practicality beats purity.\\n', 'Errors should never pass silently.\\n', 'Unless explicitly silenced.\\n', 'In the face of ambiguity, refuse the temptation to guess.\\n', 'There should be one-- and preferably only one --obvious way to do it.\\n', \"Although that way may not be obvious at first unless you're Dutch.\\n\", 'Now is better than never.\\n', 'Although never is often better than *right* now.\\n', \"If the implementation is hard to explain, it's a bad idea.\\n\", 'If the implementation is easy to explain, it may be a good idea.\\n', \"Namespaces are one honking great idea -- let's do more of those!\\n\"]\n"
     ]
    }
   ],
   "source": [
    "import sys\n",
    "sys.path.append('/Users/KevinTang/DataAnalysist/Python/')\n",
    "\n",
    "f = open('test.txt', 'r', encoding = 'utf8')  # 含中文，编码utf8; ANSI编码:gbk\n",
    "print (f.read())\n",
    "f.seek(0)\n",
    "\n",
    "print (f.read(5))  # 读取5个字符\n",
    "f.seek(0)\n",
    "\n",
    "print (f.readline())\n",
    "f.seek(0)\n",
    "\n",
    "print (f.readline(5)) # 读取一行的前5个字符\n",
    "\n",
    "\n"
   ]
  },
  {
   "cell_type": "code",
   "execution_count": 59,
   "metadata": {},
   "outputs": [
    {
     "name": "stdout",
     "output_type": "stream",
     "text": [
      "['Beautiful is better than ugly.\\n', 'Explicit is better than implicit.\\n', 'Simple is better than complex.\\n', 'Complex is better than complicated.\\n', 'Flat is better than nested.\\n', 'Sparse is better than dense.\\n', 'Readability counts.\\n', \"Special cases aren't special enough to break the rules.\\n\", 'Although practicality beats purity.\\n', 'Errors should never pass silently.\\n', 'Unless explicitly silenced.\\n', 'In the face of ambiguity, refuse the temptation to guess.\\n', 'There should be one-- and preferably only one --obvious way to do it.\\n', \"Although that way may not be obvious at first unless you're Dutch.\\n\", 'Now is better than never.\\n', 'Although never is often better than *right* now.\\n', \"If the implementation is hard to explain, it's a bad idea.\\n\", 'If the implementation is easy to explain, it may be a good idea.\\n', \"Namespaces are one honking great idea -- let's do more of those!\\n\"]\n",
      "<class 'str'> Beautiful is better than ugly.\n",
      "\n",
      "<class 'str'> Explicit is better than implicit.\n",
      "\n",
      "<class 'str'> Simple is better than complex.\n",
      "\n",
      "<class 'str'> Complex is better than complicated.\n",
      "\n",
      "<class 'str'> Flat is better than nested.\n",
      "\n",
      "<class 'str'> Sparse is better than dense.\n",
      "\n",
      "<class 'str'> Readability counts.\n",
      "\n",
      "<class 'str'> Special cases aren't special enough to break the rules.\n",
      "\n",
      "<class 'str'> Although practicality beats purity.\n",
      "\n",
      "<class 'str'> Errors should never pass silently.\n",
      "\n",
      "<class 'str'> Unless explicitly silenced.\n",
      "\n",
      "<class 'str'> In the face of ambiguity, refuse the temptation to guess.\n",
      "\n",
      "<class 'str'> There should be one-- and preferably only one --obvious way to do it.\n",
      "\n",
      "<class 'str'> Although that way may not be obvious at first unless you're Dutch.\n",
      "\n",
      "<class 'str'> Now is better than never.\n",
      "\n",
      "<class 'str'> Although never is often better than *right* now.\n",
      "\n",
      "<class 'str'> If the implementation is hard to explain, it's a bad idea.\n",
      "\n",
      "<class 'str'> If the implementation is easy to explain, it may be a good idea.\n",
      "\n",
      "<class 'str'> Namespaces are one honking great idea -- let's do more of those!\n",
      "\n"
     ]
    }
   ],
   "source": [
    "f.seek(0)\n",
    "print (f.readlines())\n",
    "\n",
    "f.seek(0)\n",
    "for line in f.readlines():\n",
    "    print (type(line), line)\n",
    "    "
   ]
  },
  {
   "cell_type": "code",
   "execution_count": 72,
   "metadata": {},
   "outputs": [
    {
     "name": "stdout",
     "output_type": "stream",
     "text": [
      "外滩18号:121.49618,31.244099,中山东一路18\n",
      "\n",
      "[{'Name': 'Light酒吧', 'Longitude': 121.453435, 'Latitude': 31.211903, 'Address': '衡山路10号甲欧登大夏2-3楼'}, {'Name': 'speak low', 'Longitude': 121.472243, 'Latitude': 31.220875, 'Address': '黄浦区复兴中路579号(近瑞金二路)'}, {'Name': 'Dr.Beer(静安店)', 'Longitude': 121.456901, 'Latitude': 31.22696, 'Address': '上海市静安区富民路83号(近延安中路)'}, {'Name': 'zapata’s', 'Longitude': 121.455773, 'Latitude': 31.214576, 'Address': '衡山路5号'}, {'Name': 'KARTEL', 'Longitude': 121.460768, 'Latitude': 31.2272, 'Address': '襄阳北路1号5楼'}, {'Name': 'TZ House 弹指之间音乐酒吧(镇宁店)', 'Longitude': 121.441528, 'Latitude': 31.230571, 'Address': '上海市长宁区镇宁路525号新东纺大酒店1楼(万航渡路口)'}, {'Name': 'M1NT', 'Longitude': 121.490882, 'Latitude': 31.240288, 'Address': '上海黄浦区福州路318号浦汇大厦24楼'}, {'Name': 'Bar Rouge', 'Longitude': 121.496388, 'Latitude': 31.244132, 'Address': '上海黄浦区中山东一路18号外滩十八号7楼(近南京东路)'}, {'Name': '芭芭露莎酒吧', 'Longitude': 121.478407, 'Latitude': 31.237303, 'Address': '上海市黄浦区南京西路231号人民公园内'}, {'Name': 'Lava酒吧(五角场店)', 'Longitude': 121.521209, 'Latitude': 31.308631, 'Address': '淞沪路98号平盛大厦2楼'}, {'Name': '萨莎花园', 'Longitude': 121.456043, 'Latitude': 31.214673, 'Address': '上海市徐汇区东平路11号(近衡山路)'}, {'Name': '尚上酒吧(丰庄路)', 'Longitude': 121.371012, 'Latitude': 31.255042, 'Address': '丰庄路515号2楼'}, {'Name': 'BAR NO.3', 'Longitude': 121.444162, 'Latitude': 31.211133, 'Address': '兴国路277-1临'}, {'Name': '夜魅COCO顶级酒吧(黄浦2店)', 'Longitude': 121.486669, 'Latitude': 31.23081, 'Address': '淮海中路1号柳林大厦5F602'}, {'Name': 'The Camel Sports Bar(岳阳路)', 'Longitude': 121.458533, 'Latitude': 31.215244, 'Address': '上海市徐汇区岳阳路1号'}, {'Name': '环球风暴酒吧', 'Longitude': 121.70415, 'Latitude': 31.199698, 'Address': '川沙路4932号（近南桥路）'}, {'Name': 'Kee Club(淮海中路店)', 'Longitude': 121.469051, 'Latitude': 31.225011, 'Address': '淮海中路796号3楼'}, {'Name': '缪斯酒吧(同乐坊店)', 'Longitude': 121.44924, 'Latitude': 31.242964, 'Address': '上海市静安区余姚路74号'}, {'Name': '奢居会', 'Longitude': 121.51244, 'Latitude': 31.224587, 'Address': '中山南路505号老码头13号楼7楼'}, {'Name': '外滩二十二号Bund22', 'Longitude': 121.500329, 'Latitude': 31.236287, 'Address': '中山东二路22号115-116(新永安路口)'}, {'Name': '东安路十五号', 'Longitude': 121.45732, 'Latitude': 31.204925, 'Address': '上海徐汇区东安路15号1楼'}, {'Name': '非常时髦酒吧', 'Longitude': 121.499881, 'Latitude': 31.250982, 'Address': '虹口区黄浦路199号上海外滩茂悦大酒店西楼32-33楼(近武昌路)'}, {'Name': '棉花酒吧(安亭路)', 'Longitude': 121.454271, 'Latitude': 31.208024, 'Address': '安亭路132号'}, {'Name': 'maru玛露音乐餐厅酒吧', 'Longitude': 121.518905, 'Latitude': 31.310175, 'Address': '杨浦区淞沪路303号一楼(政民路'}, {'Name': 'heyday jazz bar', 'Longitude': 121.443428, 'Latitude': 31.212145, 'Address': '上海市长宁区泰安路50-1号'}, {'Name': 'Dr Beer(徐家汇店)', 'Longitude': 121.449362, 'Latitude': 31.198888, 'Address': '辛耕路117号(上海银行对面)'}, {'Name': '嘉里大酒店-大堂酒廊', 'Longitude': 121.570252, 'Latitude': 31.21944, 'Address': '上海市浦东新区花木路1388号嘉里大酒店1楼（近芳甸路）'}, {'Name': 'LOTUS Lounge', 'Longitude': 121.514007, 'Latitude': 31.22262, 'Address': '上海黄浦区外马路667号(近老码头)'}, {'Name': '杰克的酒窝', 'Longitude': 121.48902, 'Latitude': 31.222824, 'Address': '上海黄浦区肇周路76号'}, {'Name': 'UVA wine bar', 'Longitude': 121.45522, 'Latitude': 31.241929, 'Address': '陕西北路819号（近康定路）'}, {'Name': 'Cest La Vie 酒吧(八佰伴店)', 'Longitude': 121.527072, 'Latitude': 31.23405, 'Address': '上海市浦东新区张扬路640号B1楼'}, {'Name': 'tavern酒吧', 'Longitude': 121.446993, 'Latitude': 31.203312, 'Address': '上海徐汇区衡山路840号(近天平路)'}, {'Name': 'X酒吧', 'Longitude': 121.217605, 'Latitude': 31.048667, 'Address': '新松江路1292弄36号3层'}, {'Name': 'THE GLAMOUR BAR', 'Longitude': 121.497251, 'Latitude': 31.240104, 'Address': '广东路20外滩5号6层'}, {'Name': '海若慢摇酒吧(鹤望路)', 'Longitude': 121.327502, 'Latitude': 31.250407, 'Address': '鹤望路578号3楼'}, {'Name': '星期五餐厅·酒吧(陆家嘴滨江店)', 'Longitude': 121.504455, 'Latitude': 31.241528, 'Address': '上海市浦东新区拾步街9号富都世界富城路休闲街B1'}, {'Name': 'judy’s', 'Longitude': 121.455909, 'Latitude': 31.233695, 'Address': '上海市静安区铜仁路331号-1(近南阳路)'}, {'Name': 'BigBamboo(南阳路)', 'Longitude': 121.457783, 'Latitude': 31.234559, 'Address': '上海市静安区南阳路132号'}, {'Name': '蓝堡酒吧(金一东路)', 'Longitude': 121.344428, 'Latitude': 30.718241, 'Address': '上海市金山区石化一村11'}, {'Name': '艾比尔啤酒坊(七宝店)', 'Longitude': 121.365072, 'Latitude': 31.147572, 'Address': '七莘路2233号'}, {'Name': '外滩1288', 'Longitude': 121.510391, 'Latitude': 31.212969, 'Address': '外马路1288号综合楼1楼'}, {'Name': 'MTclub酒吧', 'Longitude': 121.368172, 'Latitude': 31.141087, 'Address': '上海市闵行区七莘路1839号明泉财富108广场5层'}, {'Name': '101国际酒吧(新大陆店)', 'Longitude': 121.525988, 'Latitude': 31.235038, 'Address': '上海市浦东新区南泉北路528号新大陆广场(北楼)3层305室'}, {'Name': 'Mokkos', 'Longitude': 121.44001, 'Latitude': 31.231375, 'Address': '武定西路1245号103室'}, {'Name': '霞飞路酒吧', 'Longitude': 121.457658, 'Latitude': 31.212043, 'Address': '上海徐汇区永嘉路570号永嘉庭5号楼1楼'}, {'Name': '昨天·今天·明天', 'Longitude': 121.44264, 'Latitude': 31.2184, 'Address': '上海长宁区华山路1038弄183号(曹家堰路口)'}, {'Name': 'The Mansion嚎宅', 'Longitude': 121.369589, 'Latitude': 31.19154, 'Address': '长宁区虹井路851号皇朝别墅B18(近动物园)'}, {'Name': 'DAGA BREWPUB', 'Longitude': 121.444134, 'Latitude': 31.212105, 'Address': '上海市徐汇区泰安路37号(近兴国路)'}, {'Name': '三利酒吧', 'Longitude': 121.507153, 'Latitude': 31.181102, 'Address': '昌里路113号二楼'}, {'Name': 'Wolfgang Puck Bar & Grill', 'Longitude': 121.481431, 'Latitude': 31.226772, 'Address': '上海市黄浦区太仓路181弄16号01a'}, {'Name': '老船长酒吧', 'Longitude': 121.509372, 'Latitude': 31.256325, 'Address': '上海市虹口区高阳路136号'}, {'Name': '酒池星座(永嘉路店)', 'Longitude': 121.470177, 'Latitude': 31.216906, 'Address': '永嘉路31号2楼'}, {'Name': '好梦酒吧', 'Longitude': 121.495203, 'Latitude': 31.388642, 'Address': '同济路311号3楼'}, {'Name': 'Barules', 'Longitude': 121.460954, 'Latitude': 31.217807, 'Address': '上海市徐汇区汾阳路44号'}, {'Name': 'Mokkos bar(延平路店)', 'Longitude': 121.445136, 'Latitude': 31.238718, 'Address': '延平路348号(康定路)'}, {'Name': '上海中航虹桥机场-泊悦酒店', 'Longitude': 121.334239, 'Latitude': 31.198386, 'Address': '上海市闵行区虹桥路2550号上海虹桥国际机场T2航站楼F3'}, {'Name': 'inferno', 'Longitude': 121.480672, 'Latitude': 31.199555, 'Address': '打浦路658弄1号绿地海外滩广场1楼6-103'}, {'Name': '凯博西餐酒吧(新天地北里店)', 'Longitude': 121.481735, 'Latitude': 31.227078, 'Address': '太仓路181弄上海新天地北里5号楼1层'}, {'Name': '艾比之路酒吧', 'Longitude': 121.457487, 'Latitude': 31.215288, 'Address': '桃江路3号'}, {'Name': 'RICE BAR', 'Longitude': 121.430951, 'Latitude': 31.211241, 'Address': '上海市长宁区法华镇路532-2临'}, {'Name': '03 vip bar', 'Longitude': 121.353993, 'Latitude': 31.162132, 'Address': '七莘路3033临星钻城4层'}, {'Name': 'Listen Live House', 'Longitude': 121.44902, 'Latitude': 31.288563, 'Address': '万荣路700号C6(灵石路红灯口全家超市旁-正门入口)'}, {'Name': 'Sidebar软式飞镖主题鸡尾酒酒吧', 'Longitude': 121.466592, 'Latitude': 31.227413, 'Address': '茂名南路56号，56食尚谷内1楼'}, {'Name': '零听酒吧', 'Longitude': 121.408202, 'Latitude': 31.139357, 'Address': '上海闵行区古方路76号南方休闲广场5楼(近南方商城)'}, {'Name': 'fumo', 'Longitude': 121.458991, 'Latitude': 31.223272, 'Address': '新乐路218号3楼(靠近东湖路)'}, {'Name': '拉丝维加斯', 'Longitude': 121.456255, 'Latitude': 30.910584, 'Address': '奉贤南桥育秀西路1333号'}, {'Name': 'Wood PZaradise bar木制天堂酒吧', 'Longitude': 121.450723, 'Latitude': 31.216882, 'Address': '上海市徐汇区复兴西路67号'}, {'Name': 'JZ Lounge', 'Longitude': 121.494549, 'Latitude': 31.233265, 'Address': '上海黄浦区河南南路159号豫园万丽大酒店22楼(近福佑路)'}, {'Name': '贝尼酒吧', 'Longitude': 121.452369, 'Latitude': 31.209769, 'Address': '上海徐汇区永嘉路705号'}, {'Name': 'SHANGHAIBREWERY', 'Longitude': 121.394728, 'Latitude': 31.196935, 'Address': '上海市闵行区虹梅休闲街3338弄21C号'}, {'Name': '开巴(武定路店)', 'Longitude': 121.457534, 'Latitude': 31.240257, 'Address': '上海市静安区武定路479号(近陕西北路)'}, {'Name': 'CAS BAR', 'Longitude': 121.448567, 'Latitude': 31.236072, 'Address': '静安区武定路1089号(近延平路)'}, {'Name': 'Closless', 'Longitude': 121.465894, 'Latitude': 31.227635, 'Address': '进贤路169号'}, {'Name': '开巴(定西路店)', 'Longitude': 121.430304, 'Latitude': 31.213895, 'Address': '上海市长宁区定西路739号'}, {'Name': 'Bar Aphrodite', 'Longitude': 121.447491, 'Latitude': 31.19069, 'Address': '斜土路2905号1F花园内(零陵路)'}, {'Name': 'Park91Pub', 'Longitude': 121.472303, 'Latitude': 31.231448, 'Address': '上海静安区大沽路433号(近石门一路)'}, {'Name': '杰.意大利餐厅/酒吧', 'Longitude': 121.462278, 'Latitude': 31.223446, 'Address': '襄阳北路100号襄阳坊2楼(淮海中路襄阳公园)'}, {'Name': 'LA MODA·LOUNGE', 'Longitude': 121.454617, 'Latitude': 31.224582, 'Address': '上海市静安区巨鹿路895号'}, {'Name': '九重天酒吧', 'Longitude': 121.512418, 'Latitude': 31.240675, 'Address': '上海浦东新区世纪大道88号金茂君悦大酒店87楼(近二号线陆家嘴站)'}, {'Name': '典尚红酒吧', 'Longitude': 121.40693, 'Latitude': 31.200942, 'Address': '上海市长宁区黄金城道701号1层、717弄12号103室'}, {'Name': 'ROLLING WHEELS酒吧', 'Longitude': 121.545658, 'Latitude': 31.239849, 'Address': '上海市浦东新区张杨路500弄40号'}, {'Name': 'smile民谣酒吧(万达广场松江店)', 'Longitude': 121.248787, 'Latitude': 31.064529, 'Address': '广富林路658弄万达广场金街113号'}, {'Name': '凯博西餐酒吧(静安嘉里店)', 'Longitude': 121.456, 'Latitude': 31.229357, 'Address': '上海市静安区南京西路1515号静安嘉里中心F2'}, {'Name': 'Bar Constellation', 'Longitude': 121.469662, 'Latitude': 31.233991, 'Address': '上海市静安区石门一路288号兴业太古汇香港兴业中心1座1层L161(靠近威海路)'}, {'Name': 'Bit Bar', 'Longitude': 121.495905, 'Latitude': 31.260866, 'Address': '上海市虹口区哈尔滨路133'}, {'Name': '飘逸酒吧', 'Longitude': 121.470872, 'Latitude': 31.231635, 'Address': '上海市静安区大沽路488号'}, {'Name': 'BigBamboo(虹梅路店)', 'Longitude': 121.394477, 'Latitude': 31.196894, 'Address': '闵行区虹梅路3338弄2号虹梅休闲街（老外街）内(近延安西路)'}, {'Name': '旮旯酒吧', 'Longitude': 121.496806, 'Latitude': 31.260174, 'Address': '溧阳路649号(1933老场坊西侧200米)'}, {'Name': 'The Shelter', 'Longitude': 121.450453, 'Latitude': 31.218045, 'Address': '永福路5号（近复兴西路）'}, {'Name': '109酒吧', 'Longitude': 121.461634, 'Latitude': 31.269993, 'Address': '中山北路柳营路777号盛源生活广场'}, {'Name': '恰餐厅及酒吧', 'Longitude': 121.506694, 'Latitude': 31.231758, 'Address': '中山东二路585号上海外滩英迪格酒店30层'}, {'Name': 'The Roof', 'Longitude': 121.457367, 'Latitude': 31.212417, 'Address': '永嘉路570号永嘉庭5号楼4楼541'}, {'Name': 's3酒吧', 'Longitude': 121.258076, 'Latitude': 31.379493, 'Address': '城中路2号1-2层'}, {'Name': '音味爱现场音乐酒吧', 'Longitude': 121.449077, 'Latitude': 31.230419, 'Address': '上海市静安区北京西路1825号B座'}, {'Name': '海獭酒吧', 'Longitude': 121.458202, 'Latitude': 31.214428, 'Address': '岳阳路28号（近东平路）'}, {'Name': '夜色酒吧(赵重公路)', 'Longitude': 121.192157, 'Latitude': 31.200935, 'Address': '赵重公路2778弄115号2楼'}, {'Name': 'Wave Lounge', 'Longitude': 121.424677, 'Latitude': 31.21931, 'Address': '凯旋路606号(近武夷路口)'}, {'Name': 'Bm102酒吧', 'Longitude': 121.561909, 'Latitude': 31.18901, 'Address': '上海市浦东新区沪南路967号51生活时区4/5层'}, {'Name': 'Mesh红酒吧', 'Longitude': 121.588102, 'Latitude': 31.140973, 'Address': '上海市浦东新区秀沿路1166弄19号(近盛高假日酒店)'}, {'Name': 'Fat Cow', 'Longitude': 121.392444, 'Latitude': 31.196802, 'Address': '上海市长宁区虹梅路3338弄7号'}, {'Name': 'Spicy girl酒吧', 'Longitude': 121.527489, 'Latitude': 31.247696, 'Address': '昌邑路547号'}, {'Name': '时尚之夜酒吧网聚(衡山路店)', 'Longitude': 121.45501, 'Latitude': 31.213246, 'Address': '上海市徐汇区衡山路41号'}, {'Name': 'KOALA BAR', 'Longitude': 121.435549, 'Latitude': 31.206381, 'Address': '长宁区淮海西路280号(近番禺路)'}, {'Name': 'Feeling酒吧', 'Longitude': 121.471422, 'Latitude': 30.934768, 'Address': '环城东路883弄39号'}, {'Name': '酒池星座(新乐路店)', 'Longitude': 121.461519, 'Latitude': 31.223987, 'Address': '上海市徐汇区新乐路与襄阳北路交叉口西50米'}, {'Name': 'Anteroom', 'Longitude': 121.448649, 'Latitude': 31.221622, 'Address': '长乐路1222号104(近乌鲁木齐路/华山路)'}, {'Name': 'DENO298', 'Longitude': 121.508183, 'Latitude': 31.105535, 'Address': '上海市闵行区浦晓路68号晶采坊4楼'}, {'Name': \"Ricky's西餐酒吧\", 'Longitude': 121.53782, 'Latitude': 31.246779, 'Address': '浦东新区浦东大道930号(近源深路中信五牛城酒店公寓对面)'}, {'Name': 'D.BAR', 'Longitude': 121.382091, 'Latitude': 31.177044, 'Address': '银亭路66号1楼'}, {'Name': 'Walkers', 'Longitude': 121.475342, 'Latitude': 31.214117, 'Address': '上海市黄浦区泰康路248弄12号'}, {'Name': 'bell cafe&bar', 'Longitude': 121.475282, 'Latitude': 31.214136, 'Address': '黄浦区泰康路248弄11号后门(近瑞金二路)'}, {'Name': 'Pino Jazz Club', 'Longitude': 121.438157, 'Latitude': 31.190842, 'Address': '徐汇区文定路219号B1楼'}, {'Name': '上海柏悦酒店-大堂酒吧', 'Longitude': 121.513412, 'Latitude': 31.240628, 'Address': '上海市浦东新区世纪大道100号上海环球金融中心上海柏悦酒店87楼'}, {'Name': '后院', 'Longitude': 121.473308, 'Latitude': 31.225162, 'Address': '上海市黄浦区南昌路166弄8号'}, {'Name': 'Lucky Bar(漕溪北路)', 'Longitude': 121.442352, 'Latitude': 31.189225, 'Address': '漕溪北路930号（近零陵路）'}, {'Name': '红苹果酒吧会所', 'Longitude': 121.702826, 'Latitude': 31.198701, 'Address': '上海浦东新区新川路519(川沙路口)'}, {'Name': 'scorpio天蝎座酒吧', 'Longitude': 121.364204, 'Latitude': 31.406432, 'Address': '罗芬路689弄80号一楼(近国际会议中心香巴拉龙虾向前20米)'}, {'Name': 'THE TIPSY FIDDLER', 'Longitude': 121.437469, 'Latitude': 31.209857, 'Address': '长宁区法华镇路135号-6(在幸福路上)'}, {'Name': '米罗酒吧', 'Longitude': 121.44046, 'Latitude': 31.20866, 'Address': '法华镇路17号（淮海西路口）'}, {'Name': 'LA CLUB', 'Longitude': 121.449998, 'Latitude': 31.243388, 'Address': '海防路537号（近西康路）'}, {'Name': 'Tap House(永康路店)', 'Longitude': 121.464424, 'Latitude': 31.217213, 'Address': '上海市徐汇区永康路74号(近襄阳南路)'}, {'Name': 'Lola', 'Longitude': 121.458279, 'Latitude': 31.213723, 'Address': '岳阳路46号（靠近东平路）(教育会堂酒店)'}, {'Name': 'Ladyrose玫瑰夫人酒吧(佳林路店)', 'Longitude': 121.613596, 'Latitude': 31.274757, 'Address': '上海市浦东新区杨高北路佳林路84号'}, {'Name': 'The Roosevelt Club', 'Longitude': 121.49688, 'Latitude': 31.243606, 'Address': '中山东一路27号罗斯福3楼(近北京东路)'}, {'Name': '寻找SEEK LiveClub', 'Longitude': 121.463107, 'Latitude': 31.251801, 'Address': '上海市静安区天目西路218号太平洋百货F1'}, {'Name': 'OH Cafe欧巧西餐酒吧', 'Longitude': 121.452645, 'Latitude': 31.230289, 'Address': '南京西路久光百货二楼珠宝区S207-208'}, {'Name': 'I love shanghai(新闸路店)', 'Longitude': 121.45009, 'Latitude': 31.234569, 'Address': '新闸路1788号3层'}, {'Name': '派娜演艺酒吧', 'Longitude': 121.377886, 'Latitude': 31.182048, 'Address': '虹井路288号燎申虹桥国际中心南6楼（近地铁10号线龙柏新村站）'}, {'Name': '上海大厦-大堂酒廊', 'Longitude': 121.496465, 'Latitude': 31.24996, 'Address': '北苏州路20号上海大厦1层'}, {'Name': '永寿风情酒吧', 'Longitude': 121.488374, 'Latitude': 31.234092, 'Address': '永寿路88号新黄浦酒店公寓1楼(近金陵东路)'}, {'Name': 'NEO BAR', 'Longitude': 121.515666, 'Latitude': 31.302371, 'Address': '杨浦区国定路333号三号湾广场1层'}, {'Name': 'SHEN', 'Longitude': 121.497953, 'Latitude': 31.238204, 'Address': '延安东路7号7楼'}, {'Name': '大堂酒吧(长乐路)', 'Longitude': 121.469545, 'Latitude': 31.226964, 'Address': '长乐路161号新锦江大酒店1层'}, {'Name': '铭人吧(西藏北路店)', 'Longitude': 121.476569, 'Latitude': 31.257061, 'Address': '西藏北路558号上海铭德大酒店2楼'}, {'Name': '香格里拉大堂酒廊', 'Longitude': 121.505932, 'Latitude': 31.24119, 'Address': '浦东新区富城路33号香格里拉大酒店浦江楼1楼(近名商路)'}, {'Name': 'RT Jazz Bar', 'Longitude': 121.392836, 'Latitude': 31.212586, 'Address': '仙霞路691号2楼'}, {'Name': 'Bottoms up', 'Longitude': 121.448219, 'Latitude': 31.236176, 'Address': '上海市静安区武定路1088号'}, {'Name': 'Red fish Bar', 'Longitude': 121.169213, 'Latitude': 31.296194, 'Address': '上海市嘉定区安亭镇墨玉路28号4楼(汽车站对面)'}, {'Name': 'iParty轰趴馆(大学路店)', 'Longitude': 121.514371, 'Latitude': 31.30862, 'Address': '上海市杨浦区大学路307号3层301室'}, {'Name': 'Hilda制服酒吧', 'Longitude': 121.396244, 'Latitude': 31.197636, 'Address': '长宁区虹许路809号(近延安西路)'}, {'Name': 'DE REFTER比利时餐厅啤酒吧', 'Longitude': 121.465537, 'Latitude': 31.227532, 'Address': '黄浦区进贤路181号'}, {'Name': '700Beer(虹泉路店)', 'Longitude': 121.379717, 'Latitude': 31.174345, 'Address': '虹泉路1101弄46号'}, {'Name': '羿庭', 'Longitude': 121.497653, 'Latitude': 31.2395, 'Address': '中山东一路2号上海外滩华尔道夫酒店1层'}, {'Name': '猛犸意大利餐厅酒吧', 'Longitude': 121.114858, 'Latitude': 31.153993, 'Address': '支家路200弄3-7号'}, {'Name': '爱尔兰酒吧(向城路)', 'Longitude': 121.535173, 'Latitude': 31.229019, 'Address': '上海浦东新区东方路899号浦东假日酒店内(近向城路)'}, {'Name': '70年代酒吧', 'Longitude': 121.711301, 'Latitude': 31.20112, 'Address': '川沙老街南市街76号（近南市街）'}, {'Name': 'COCO酒吧', 'Longitude': 121.442957, 'Latitude': 31.243871, 'Address': '胶州路941号长久大厦3楼'}, {'Name': 'Mars火星烧烤酒吧', 'Longitude': 121.342836, 'Latitude': 30.760786, 'Address': '万达广场海汇街47号261室(一点点奶茶楼上)'}, {'Name': 'Burdigala Wine Bistrot', 'Longitude': 121.466766, 'Latitude': 31.212926, 'Address': '徐汇区嘉善路301号2楼'}, {'Name': '505酒吧', 'Longitude': 121.48738, 'Latitude': 31.241321, 'Address': '南京东路505号(九江路福建中路口)'}, {'Name': 'eleven酒吧', 'Longitude': 121.520955, 'Latitude': 31.311991, 'Address': '创智天地3号楼江湾体育场内1号看台环廊121'}, {'Name': 'CATERING TOWN(外烩服务活动餐饮定制)', 'Longitude': 121.479732, 'Latitude': 31.258232, 'Address': '上海市静安区虬江路1011号'}, {'Name': '101酒吧', 'Longitude': 121.478413, 'Latitude': 30.924277, 'Address': '南桥镇解放东路绿地翡翠国际广场1号楼(解放东路靠环城东路)'}, {'Name': '上海酒吧(淮海一号ONE PUB)', 'Longitude': 121.486306, 'Latitude': 31.231598, 'Address': '上海市黄浦区柳林路65号柳林大厦6楼'}, {'Name': '皇家艾美酒店-行政酒廊', 'Longitude': 121.482798, 'Latitude': 31.240249, 'Address': '上海黄浦区南京东路789号世茂皇家艾美酒店44楼(近西藏中路)'}, {'Name': '葡道', 'Longitude': 121.445686, 'Latitude': 31.212878, 'Address': '上海市徐汇区武康路376号武康庭102室（近泰安路）'}, {'Name': '啡你啡思无国界餐厅&酒吧', 'Longitude': 121.607557, 'Latitude': 31.21197, 'Address': '祖冲之路1239弄长泰广场10号楼1W38室'}, {'Name': '漫步者酒吧餐厅', 'Longitude': 121.474821, 'Latitude': 31.214351, 'Address': '建国中路155弄38号(泰康路田子坊内)'}, {'Name': 'sky line地平线', 'Longitude': 121.432993, 'Latitude': 31.210768, 'Address': '长宁区法华镇路455-4号(近番禺路)'}, {'Name': '上海浦东喜来登由由酒店-行政酒廊', 'Longitude': 121.524574, 'Latitude': 31.215057, 'Address': '浦建路38号上海浦东喜来登由由酒店37层'}, {'Name': 'FLYDREAM女仆国际会馆', 'Longitude': 121.42095, 'Latitude': 31.198026, 'Address': '长宁区宋园路58号领尚国际会馆20楼'}, {'Name': '芭萨', 'Longitude': 121.585315, 'Latitude': 31.122904, 'Address': '周浦镇康沈路1611弄59号小上海文化旅游城4楼'}, {'Name': '向日葵日式酒吧', 'Longitude': 121.414506, 'Latitude': 31.209471, 'Address': '延安西路2073号M101-M102室'}, {'Name': 'Zpark Bar(长宁路店)', 'Longitude': 121.423542, 'Latitude': 31.2251, 'Address': '上海长宁区长宁路1018号龙之梦万丽酒店25楼(近凯旋路)'}, {'Name': '柒酒廊', 'Longitude': 121.528408, 'Latitude': 31.235122, 'Address': '浦东新区张杨路777号锦江汤臣洲际大酒店1楼(近崂山路)'}, {'Name': '亚世都勾引酒吧', 'Longitude': 121.392005, 'Latitude': 31.182115, 'Address': '吴中路1155号亚世都酒店1楼（近万源路）'}, {'Name': 'CBC越野精酿啤酒俱乐部', 'Longitude': 121.377702, 'Latitude': 31.148863, 'Address': '上海市闵行区新镇路288号'}, {'Name': '晴天酒吧', 'Longitude': 121.47251, 'Latitude': 31.22916, 'Address': '上海市黄浦区巨鹿路158号地下广场5189室(近延安西路)'}, {'Name': '茉莉酒廊', 'Longitude': 121.495686, 'Latitude': 31.244639, 'Address': '南京东路20号和平饭店1层(近中山东一路)'}, {'Name': 'TownBar古镇酒吧', 'Longitude': 121.659754, 'Latitude': 31.032854, 'Address': '上海市浦东新区汇友路67号'}, {'Name': 'LABELLA WINE HOUSE', 'Longitude': 121.445386, 'Latitude': 31.217096, 'Address': '徐汇区复兴西路271号(近高邮路)'}, {'Name': 'Maia&#039;s西餐酒吧', 'Longitude': 121.490549, 'Latitude': 31.281675, 'Address': '上海市虹口区东体育会路318号'}, {'Name': '卡纳酒吧', 'Longitude': 121.376213, 'Latitude': 31.188174, 'Address': '虹井路588'}, {'Name': 'Vista Bar(雪野路店)', 'Longitude': 121.5115, 'Latitude': 31.204737, 'Address': '雪野路1188号上海世博洲际酒店1层'}, {'Name': '江南风格酒吧', 'Longitude': 121.379498, 'Latitude': 31.174326, 'Address': '虹泉路1078号东2楼'}, {'Name': 'Ilnido', 'Longitude': 121.425377, 'Latitude': 31.225078, 'Address': '上海长宁区长宁路890号玫瑰坊1楼50室'}, {'Name': '德国餐厅&奥地利音乐酒吧', 'Longitude': 121.165583, 'Latitude': 31.295387, 'Address': '上海市嘉定区新源路55弄4号'}, {'Name': '梧桐汇酒吧', 'Longitude': 121.321176, 'Latitude': 31.266369, 'Address': '上海嘉定区金园四路258号近曹安公路'}, {'Name': '101Bar', 'Longitude': 121.697713, 'Latitude': 31.201124, 'Address': '上海浦东新区城西路275号'}, {'Name': '妃思酒吧', 'Longitude': 121.602966, 'Latitude': 31.232096, 'Address': '上海浦东新区金科路1800号东郊宾馆内近龙东大道'}, {'Name': '99会馆酒吧', 'Longitude': 121.241657, 'Latitude': 31.012188, 'Address': '中山中路83号上海松江假日酒店5层'}, {'Name': 'Lune Bar(新乐路店)', 'Longitude': 121.459, 'Latitude': 31.223277, 'Address': '新乐路218号4楼'}, {'Name': '苏州河畔SOHO BAR', 'Longitude': 121.471562, 'Latitude': 31.246817, 'Address': '上海市黄浦区南苏州路1307号苏州河畔国际青年旅舍内(近成都北路)'}, {'Name': 'ARCADE', 'Longitude': 121.451189, 'Latitude': 31.216836, 'Address': '复兴西路57号2楼'}, {'Name': 'LUNA BAR', 'Longitude': 121.366321, 'Latitude': 31.247697, 'Address': '金沙江路2890弄21号丰庄路口金沙丽晶苑步行街21号'}, {'Name': '星座Constellation Wine', 'Longitude': 121.444169, 'Latitude': 31.20976, 'Address': '天平路34号'}, {'Name': 'cd酒吧(CD1)', 'Longitude': 121.459466, 'Latitude': 31.241397, 'Address': '静安区江宁路428号静安体育中心2楼(近南京西路)'}, {'Name': '金铭舞厅', 'Longitude': 121.556548, 'Latitude': 31.178063, 'Address': '博华路989号绿川假日广场3楼'}, {'Name': 'Jam76 SPORTS BAR', 'Longitude': 121.592771, 'Latitude': 31.252503, 'Address': '上海市浦东新区枣庄路963号枣庄路休闲街1层'}, {'Name': 'MRMONEY(大学店)', 'Longitude': 121.209251, 'Latitude': 31.055949, 'Address': '文汇路818号二楼'}, {'Name': '酒吧一条街', 'Longitude': 121.463524, 'Latitude': 31.216944, 'Address': '上海市徐汇区永康路102号'}, {'Name': '赢吧Bliss', 'Longitude': 121.486988, 'Latitude': 31.277118, 'Address': '虹口足球场二层平台22号看台旁（地铁3号线虹口足球场站2号出口对面）'}, {'Name': '斑马酒吧(1店)', 'Longitude': 121.512375, 'Latitude': 31.224462, 'Address': '新码头街106-108号老码头12号楼(中山南路)'}, {'Name': 'The MAX Pub(福建中路店)', 'Longitude': 121.488332, 'Latitude': 31.239725, 'Address': '福建中路180号（近福州路）'}, {'Name': '冠军酒吧', 'Longitude': 121.486762, 'Latitude': 31.278943, 'Address': '虹口区东体育会支路17号(近虹口足球场)'}, {'Name': '西玛酒吧', 'Longitude': 121.452422, 'Latitude': 31.209801, 'Address': '徐汇区衡山路703号（永嘉路口）'}, {'Name': '李香园', 'Longitude': 121.456675, 'Latitude': 31.216821, 'Address': '上海徐汇区复兴中路1377号'}, {'Name': 'Project Wine', 'Longitude': 121.461165, 'Latitude': 31.226245, 'Address': '上海静安区襄阳北路17号(近巨鹿路)'}, {'Name': 'MT酒吧', 'Longitude': 121.60063, 'Latitude': 31.118097, 'Address': '上海市浦东新区年家浜路238号绿地·缤纷广场F1'}, {'Name': 'Wings Sports Bar', 'Longitude': 121.407042, 'Latitude': 31.195116, 'Address': '上海市闵行区红松东路620号胡椒花园2楼(近古北南路)'}, {'Name': 'The Room', 'Longitude': 121.460648, 'Latitude': 31.227412, 'Address': '襄阳北路1号2楼'}, {'Name': 'Lucky2 Bar', 'Longitude': 121.45389, 'Latitude': 31.219506, 'Address': '上海徐汇区五原路88号(长熟路、乌鲁木齐路之间)'}, {'Name': '夜魅酒吧(胶州路)', 'Longitude': 121.442471, 'Latitude': 31.243957, 'Address': '上海市普陀区胶州路941号长久大厦3楼（长寿路口）'}, {'Name': 'Linx(淮海路店)', 'Longitude': 121.45594, 'Latitude': 31.218203, 'Address': '淮海路1329号云海大厦3楼'}, {'Name': '动感风暴88', 'Longitude': 121.640165, 'Latitude': 31.312746, 'Address': '上海市浦东新区赵高路1119号'}, {'Name': '赞啤精酿鲜啤(宝山万达店)', 'Longitude': 121.455795, 'Latitude': 31.332111, 'Address': '一二八纪念路819号-1'}, {'Name': 'Enoterra红酒吧(武定路店)', 'Longitude': 121.448934, 'Latitude': 31.236112, 'Address': '静安区武定路1075号（近胶州路）'}, {'Name': '醉邦酒仓主题酒吧', 'Longitude': 121.270755, 'Latitude': 31.111557, 'Address': '古楼公路416号（靠近横港路，临近金港花园、润江花苑）'}, {'Name': 'GooseIsland', 'Longitude': 121.466005, 'Latitude': 31.233509, 'Address': '上海市静安区茂名北路209号'}, {'Name': 'KABB(上海新天地北里)', 'Longitude': 121.481482, 'Latitude': 31.22702, 'Address': '太仓路181弄上海新天地北里F1层'}, {'Name': '茂悦大酒店-嘉宾轩', 'Longitude': 121.499828, 'Latitude': 31.251209, 'Address': '上海市虹口区黄浦路199号茂悦大酒店内'}, {'Name': 'Monkey champagne lounge', 'Longitude': 121.46062, 'Latitude': 31.2227, 'Address': '上海市徐汇区东湖路38号'}, {'Name': '利都桌球酒吧(本溪路店)', 'Longitude': 121.519968, 'Latitude': 31.280758, 'Address': '本溪路197号永乐家电3楼'}, {'Name': '淳大万丽酒店大堂酒吧', 'Longitude': 121.559055, 'Latitude': 31.230138, 'Address': '浦东新区长柳路100号淳大万丽酒店1楼(近迎春路)'}, {'Name': '壹号公馆', 'Longitude': 121.37877, 'Latitude': 31.254352, 'Address': '上海市嘉定区梅川路1796号'}, {'Name': '2003culb酒吧', 'Longitude': 121.361307, 'Latitude': 31.165487, 'Address': '上海市闵行区新龙路'}, {'Name': '青岛原醇(万科店)', 'Longitude': 121.351947, 'Latitude': 31.165539, 'Address': '上海市闵行区七莘路3333弄3区444号101青岛原醇小站'}, {'Name': '咏萄', 'Longitude': 121.344789, 'Latitude': 31.169466, 'Address': '沪星路289弄2号顺恒国际商业广场B座西102室'}, {'Name': '炫酒吧', 'Longitude': 121.482281, 'Latitude': 31.228032, 'Address': '嵩山路88号上海安达仕酒店1层'}, {'Name': 'Old Manhattan', 'Longitude': 121.452512, 'Latitude': 31.22636, 'Address': '上海静安区华山路231号1楼希尔顿酒店对面近延安路高架'}, {'Name': '上海威斯汀大饭店-行政楼层酒廊', 'Longitude': 121.493451, 'Latitude': 31.238114, 'Address': '河南中路88号上海威斯汀大饭店5层'}, {'Name': 'Humming Bird蜂鸟酒吧', 'Longitude': 121.43861, 'Latitude': 31.253069, 'Address': '镇坪路270号'}, {'Name': 'PERRYS酒吧', 'Longitude': 121.444797, 'Latitude': 31.237551, 'Address': '曹家渡街道康定路978号'}, {'Name': 'LOKAL', 'Longitude': 121.485636, 'Latitude': 31.226555, 'Address': '上海市黄浦区湖滨路150号湖滨道购物中心F1'}, {'Name': '灵动吧', 'Longitude': 121.452657, 'Latitude': 31.211555, 'Address': '衡山路12号豪华精选酒店1层'}, {'Name': 'vue bar(hyatt on the bund)', 'Longitude': 121.499791, 'Latitude': 31.251012, 'Address': '上海市虹口区黄浦路199号外滩茂悦大酒店'}, {'Name': 'Hilda Bar(华山路店)', 'Longitude': 121.452724, 'Latitude': 31.225759, 'Address': '上海市静安区华山路263弄-7号'}, {'Name': '十字路酒吧', 'Longitude': 121.276762, 'Latitude': 31.171381, 'Address': '上海市青浦区沪青平公路2000号虹桥西郊假日酒店竞衡大厦1楼'}, {'Name': '宝龙丽笙酒店大堂酒吧', 'Longitude': 121.6579, 'Latitude': 31.2714, 'Address': '金海路2449弄2号宝龙城市广场'}, {'Name': '思酷巴潜水主题酒吧', 'Longitude': 121.472509, 'Latitude': 31.22916, 'Address': '上海市黄浦区巨鹿路158号大同坊5148室(近成都南路)'}, {'Name': '上海菲芘酒吧', 'Longitude': 121.452991, 'Latitude': 31.211962, 'Address': '衡山路10-2号欧登大厦1层'}, {'Name': '上海吧', 'Longitude': 121.558972, 'Latitude': 31.230222, 'Address': '浦东新区长柳路100号淳大万丽酒店1楼(近迎春路)'}, {'Name': '天鹅酒吧', 'Longitude': 121.488581, 'Latitude': 31.273893, 'Address': '上海市虹口区四川北路2211号天鹅宾馆3楼(鲁迅公园正门对面)'}, {'Name': '托斯卡纳意大利餐厅酒吧(新场店)', 'Longitude': 121.652925, 'Latitude': 31.031647, 'Address': '上海市浦东新区新场大街418号'}, {'Name': '丽晶大堂酒廊', 'Longitude': 121.436927, 'Latitude': 31.217594, 'Address': '延安西路1116号上海龙之梦大酒店1楼'}, {'Name': '600 club', 'Longitude': 121.464549, 'Latitude': 30.945675, 'Address': '上海市奉贤区韩村路600号(近环城东路)'}, {'Name': 'Palace Club', 'Longitude': 121.472856, 'Latitude': 31.229202, 'Address': '黄浦区巨鹿路158号大同坊B1楼5165室(近成都南路)'}, {'Name': '路易酒吧', 'Longitude': 121.133593, 'Latitude': 31.145377, 'Address': '上海市青浦区青浦建材市场6969弄'}, {'Name': '繁华舞厅', 'Longitude': 121.545313, 'Latitude': 31.32163, 'Address': '包头路378号3楼'}, {'Name': 'The Public', 'Longitude': 121.46353, 'Latitude': 31.219489, 'Address': '襄阳南路174号2楼'}, {'Name': 'British Bar(北苏州路店)', 'Longitude': 121.496465, 'Latitude': 31.250039, 'Address': '上海虹口区北苏州路20号上海大厦1楼(近吴淞路)'}, {'Name': '青年汇', 'Longitude': 121.330265, 'Latitude': 31.246218, 'Address': '上海嘉定区江桥镇华江路850弄50一52号2楼(近地铁13号线)'}, {'Name': 'I AM意美 西餐酒吧', 'Longitude': 121.465291, 'Latitude': 31.304701, 'Address': '上海市静安区江场路1228弄协信星光广场F1'}, {'Name': '首善财富会酒吧', 'Longitude': 121.568604, 'Latitude': 31.220767, 'Address': '上海市浦东新区花木路1883弄96号1层'}, {'Name': 'happiness42', 'Longitude': 121.437579, 'Latitude': 31.210152, 'Address': '上海市长宁区法华镇路135-7'}, {'Name': '赫伯吧', 'Longitude': 121.826091, 'Latitude': 30.878043, 'Address': '上海浦东新区新元南路555号临港豪生国际酒店1号楼1楼近江山路'}, {'Name': 'MT Club(浦东店)', 'Longitude': 121.524669, 'Latitude': 31.21646, 'Address': '上海市浦东新区浦建路15号新塘桥生活广场地下1楼'}, {'Name': '达利哈瓦那吧', 'Longitude': 121.197594, 'Latitude': 31.278723, 'Address': '博园路6555号上海颖奕高尔夫皇冠假日酒店1层'}, {'Name': '佘山59', 'Longitude': 121.198199, 'Latitude': 31.097807, 'Address': '佘山镇西佘山环山路259号'}, {'Name': '那时花开英嘉花饰(江桥店)', 'Longitude': 121.350924, 'Latitude': 31.262106, 'Address': '上海市嘉定区华江路43号'}, {'Name': 'BAR', 'Longitude': 121.225957, 'Latitude': 31.043743, 'Address': '上海市松江区新松江路927弄开元地中海商业广场F3'}, {'Name': 'TZ House弹指之间音乐酒吧(茅台店)', 'Longitude': 121.409738, 'Latitude': 31.214932, 'Address': '上海市长宁区茅台路179号金虹桥商场2层L222号'}, {'Name': '静安香格里拉大酒店-大堂酒廊', 'Longitude': 121.456845, 'Latitude': 31.229167, 'Address': '延安中路1218号静安香格里拉大酒店1层'}, {'Name': '好久不见酒吧', 'Longitude': 121.697623, 'Latitude': 31.201058, 'Address': '川沙新镇海上凤凰主题酒店(浦东机场川沙1店)海上凤凰宾馆隔壁城西路283号'}, {'Name': '老第坊', 'Longitude': 121.475292, 'Latitude': 31.221369, 'Address': '上海市黄浦区太仓路181号新天地北里内(近马当路)'}, {'Name': 'one more', 'Longitude': 121.906064, 'Latitude': 30.886039, 'Address': '上海市浦东新区沪城环路699弄172号204渔情未了隔壁'}, {'Name': '斑马道艺术酒吧', 'Longitude': 121.652958, 'Latitude': 31.030528, 'Address': '新场镇新场大街375-379号(近牌楼东路)'}, {'Name': '蓝蚂酒吧', 'Longitude': 121.513987, 'Latitude': 31.287127, 'Address': '彰武路20号同济联合广场E座2层216室'}, {'Name': 'Lounge Bar', 'Longitude': 121.451959, 'Latitude': 31.21537, 'Address': '淮海中路1502号2层'}, {'Name': '新兴啤酒屋', 'Longitude': 121.844441, 'Latitude': 31.045408, 'Address': '上海市浦东新区鑫盛路35号'}, {'Name': '饮酒思维(武东路店)', 'Longitude': 121.506119, 'Latitude': 31.307505, 'Address': '五角场街道武东路38号(靠近政民路)'}, {'Name': 'LC CLUB', 'Longitude': 121.478459, 'Latitude': 31.215775, 'Address': '重庆南路308号3楼'}, {'Name': '神田酒吧(水城路)', 'Longitude': 121.397634, 'Latitude': 31.216505, 'Address': '水城路555号瑞泰酒店5楼'}, {'Name': '新发展亚太万豪酒店-云景吧', 'Longitude': 121.402789, 'Latitude': 31.227253, 'Address': '大渡河路158号新发展亚太万豪酒店33楼云景吧（近长风公园）'}, {'Name': '干杯吧', 'Longitude': 121.401126, 'Latitude': 31.23024, 'Address': '上海普陀区大渡河路388号国盛中心1号座1楼(近云岭东路)'}, {'Name': 'Cloud9', 'Longitude': 121.431236, 'Latitude': 31.210168, 'Address': '新华路406号-1室'}, {'Name': '宝隆美爵蓝逸雪茄吧', 'Longitude': 121.494253, 'Latitude': 31.302438, 'Address': '上海市虹口区逸仙路180号上海宝隆美爵酒店2层'}, {'Name': 'NEW YORK BAR', 'Longitude': 121.452877, 'Latitude': 31.225426, 'Address': '华山路293号'}, {'Name': 'whisky cocktail', 'Longitude': 121.448397, 'Latitude': 31.236076, 'Address': '上海市静安区武定路1093'}, {'Name': '丽笙星空酒吧', 'Longitude': 121.479714, 'Latitude': 31.240424, 'Address': '上海黄浦区南京西路88号新世界丽笙大酒店47楼(近西藏中路)'}, {'Name': 'peng you‘s bar&grill', 'Longitude': 121.571897, 'Latitude': 31.140971, 'Address': '上海市浦东新区'}, {'Name': '绯闻酒吧(总部)', 'Longitude': 121.313465, 'Latitude': 31.067495, 'Address': '卖新公路2058号亚繁财富广场1层'}, {'Name': 'El Cóctel', 'Longitude': 121.45041, 'Latitude': 31.217729, 'Address': '永福路47号2楼（近复兴西路）'}, {'Name': 'bistro & bar', 'Longitude': 121.481499, 'Latitude': 31.22389, 'Address': '马当路245号新天地时尚1层'}, {'Name': '双子酒吧', 'Longitude': 121.413862, 'Latitude': 31.197106, 'Address': '古羊路529-2号'}, {'Name': 'V LIVE House', 'Longitude': 121.487265, 'Latitude': 31.231416, 'Address': '淮海东路99号新尚数码广场4楼'}, {'Name': 'RED DOOR', 'Longitude': 121.500653, 'Latitude': 31.236457, 'Address': '黄浦区中山东二路外滩22号5楼(近新开河路)'}, {'Name': 'JW万豪大堂酒廊', 'Longitude': 121.476208, 'Latitude': 31.236461, 'Address': '上海黄浦区南京西路399号明天广场JW万豪酒店38楼(近黄陂北路)'}, {'Name': 'PARTENR合伙人俱乐部', 'Longitude': 121.378543, 'Latitude': 31.182361, 'Address': '闵行区虹井路288号燎申虹桥国际中心6楼(近青杉路)'}, {'Name': 'Simba辛巴', 'Longitude': 121.45463, 'Latitude': 31.224588, 'Address': '巨鹿路897号（近常熟路）'}, {'Name': '犀·东南亚餐厅酒吧', 'Longitude': 121.426413, 'Latitude': 31.262472, 'Address': '铜川路58弄23号一层'}, {'Name': '炫吧', 'Longitude': 121.231058, 'Latitude': 31.120075, 'Address': '上海松江区泗陈公路3388弄东方佘山索菲特大酒店2楼'}, {'Name': '宏泉丽笙酒店-红酒廊', 'Longitude': 121.404235, 'Latitude': 31.26669, 'Address': '普陀区桃浦路210号宏泉丽笙酒店27楼(近大渡河路)'}, {'Name': 'cotton pan', 'Longitude': 121.430362, 'Latitude': 31.225089, 'Address': '上海市长宁区愚园路1322号'}, {'Name': 'Craft', 'Longitude': 121.460755, 'Latitude': 31.222207, 'Address': '东湖路7号东湖宾馆2楼'}, {'Name': 'Club 15', 'Longitude': 121.457168, 'Latitude': 31.205045, 'Address': '东安路15号1楼（近肇嘉浜路）'}, {'Name': 'SALMOS', 'Longitude': 121.450026, 'Latitude': 31.228411, 'Address': '南京西路1818号1788广场6楼之3号'}, {'Name': '葡洞酒吧', 'Longitude': 121.545313, 'Latitude': 31.222706, 'Address': '上海浦东新区锦延路140号2楼'}, {'Name': 'Route66', 'Longitude': 121.452898, 'Latitude': 31.225377, 'Address': '上海市静安区华山路293-1'}, {'Name': '西界大学路店', 'Longitude': 121.515024, 'Latitude': 31.309456, 'Address': '上海市杨浦区大学路246号'}, {'Name': 'V Bar', 'Longitude': 121.425378, 'Latitude': 31.213882, 'Address': '法华镇路901号(延安西路)'}, {'Name': 'Alley(田子坊店)', 'Longitude': 121.474845, 'Latitude': 31.21451, 'Address': '上海市黄浦区泰康路248弄33号后门'}, {'Name': 'ON STAGE飞马旅', 'Longitude': 121.429961, 'Latitude': 31.297908, 'Address': '上海市静安区沪太支路538号飞马旅园区'}, {'Name': '灵怡酒吧', 'Longitude': 121.511871, 'Latitude': 31.295003, 'Address': '上海杨浦区国权后路11-1号(国权后路政熙路)'}, {'Name': '旗袍静吧', 'Longitude': 121.479057, 'Latitude': 31.240269, 'Address': '上海黄浦区南京西路108号金门大酒店2楼(近新世界)'}, {'Name': '大众空港宾馆-空中酒吧', 'Longitude': 121.812371, 'Latitude': 31.156974, 'Address': '迎宾大道6001号大众空港宾馆北楼8层'}, {'Name': '游廊阁餐厅酒吧', 'Longitude': 121.508774, 'Latitude': 31.300545, 'Address': '上海市杨浦区邯郸路199号上海复旦皇冠假日酒店2楼(近复旦大学)'}, {'Name': 'Rhumerie Bounty(永福路店)', 'Longitude': 121.450457, 'Latitude': 31.217837, 'Address': '永福路47号1楼'}, {'Name': '上海外高桥喜来登酒店大堂酒廊', 'Longitude': 121.594729, 'Latitude': 31.356762, 'Address': '基隆路28号上海外高桥喜来登酒店1层'}, {'Name': '长廊酒吧', 'Longitude': 121.479959, 'Latitude': 31.242345, 'Address': '上海市黄浦区西藏中路555号雅居乐万豪1楼（近凤阳路）'}, {'Name': '缘2号店', 'Longitude': 121.393605, 'Latitude': 31.210499, 'Address': '上海市长宁区安龙路479号'}, {'Name': 'bm102酒吧(BM108酒吧)', 'Longitude': 121.358305, 'Latitude': 30.7354, 'Address': '山阳镇杭州湾大道海鸥大厦'}, {'Name': '酒爐啤酒屋', 'Longitude': 121.753907, 'Latitude': 31.059316, 'Address': '浦东惠南镇拱极路3898号'}, {'Name': '海吧(新城路店)', 'Longitude': 121.350076, 'Latitude': 30.714279, 'Address': '石化新城路69号1层'}, {'Name': 'Blu Bar(打浦路店)', 'Longitude': 121.477512, 'Latitude': 31.21026, 'Address': '上海黄浦区打浦路15号斯格威铂尔曼大酒店50楼(近徐家汇路)'}, {'Name': '皇冠俱乐部酒廊', 'Longitude': 121.436291, 'Latitude': 31.209395, 'Address': '番禺路400号上海银星皇冠假日酒店23层'}, {'Name': '上海金桥红枫万豪酒店-行政酒廊', 'Longitude': 121.597912, 'Latitude': 31.250143, 'Address': '上海市浦东新区新金桥路15号上海金桥红枫万豪酒店21层'}, {'Name': 'GX Live House古溪音乐酒吧', 'Longitude': 121.326797, 'Latitude': 31.297566, 'Address': '上海市嘉定区南翔镇槎溪路888弄2号世盟壹天地店101、102室'}, {'Name': '中星铂尔曼酒店-行政酒廊', 'Longitude': 121.436193, 'Latitude': 31.16577, 'Address': '浦北路1号上海中星铂尔曼大酒店26层'}, {'Name': '悠廊', 'Longitude': 121.561256, 'Latitude': 31.259823, 'Address': '浦东大道2288号上海兴荣温德姆至尊豪廷酒店1楼'}, {'Name': 'Haven Shanghai', 'Longitude': 121.511769, 'Latitude': 31.217021, 'Address': '上海市中山南路1029号幸福码头3号楼(近多稼路)'}, {'Name': 'BORDELAIS', 'Longitude': 121.466698, 'Latitude': 31.213001, 'Address': '上海市徐汇区嘉善路301号'}, {'Name': 'lollipop', 'Longitude': 121.440595, 'Latitude': 31.211235, 'Address': '长宁区泰安路141号(近华山路)'}, {'Name': 'CROSSROADS BAR酒吧', 'Longitude': 121.452701, 'Latitude': 31.22584, 'Address': '华山路267号'}, {'Name': 'Bar 777', 'Longitude': 121.398703, 'Latitude': 31.219093, 'Address': '天山路471-2'}, {'Name': '萨帕塔上海', 'Longitude': 121.455702, 'Latitude': 31.214472, 'Address': '上海市徐汇区衡山路5号'}, {'Name': 'Y-in Lounge', 'Longitude': 121.472118, 'Latitude': 31.231681, 'Address': '大沽路392号(近中凯城市之光)'}, {'Name': '红缇wineshop&lounge', 'Longitude': 121.451935, 'Latitude': 31.184944, 'Address': '天钥桥路909号D1国际创意空间3号楼106室(中山南二路)'}, {'Name': 'Prive Shanghai酒吧', 'Longitude': 121.497231, 'Latitude': 31.240484, 'Address': '上海黄浦区中山东一路6号外滩六号4楼近广东路'}, {'Name': '城吧', 'Longitude': 121.46361, 'Latitude': 31.228961, 'Address': '陕西南路5～7号城市酒店4层'}, {'Name': '夜王', 'Longitude': 121.410331, 'Latitude': 31.196932, 'Address': '伊犁南路111号钱江广场8楼（近古羊路）'}, {'Name': '蓝堡啤酒屋(龙阳路店)', 'Longitude': 121.571506, 'Latitude': 31.211286, 'Address': '龙阳路2345号新国际博览中心E2馆1楼'}, {'Name': 'Only休闲酒吧', 'Longitude': 121.472856, 'Latitude': 31.229202, 'Address': '上海市黄浦区巨鹿路158号大同坊5176-5178室(近成都南路)'}, {'Name': '貔貅酒吧我爱上海', 'Longitude': 121.50068, 'Latitude': 31.237202, 'Address': '中山东二路155号'}, {'Name': 'THE HUSTLERS LOUNGE', 'Longitude': 121.461843, 'Latitude': 31.227917, 'Address': '巨鹿路568号四方新城2楼（近陕西南路）'}, {'Name': 'Manbo Club', 'Longitude': 121.496476, 'Latitude': 31.260858, 'Address': '哈尔滨路160号1913老洋行A113'}, {'Name': 'Spring Bar', 'Longitude': 121.413397, 'Latitude': 31.197325, 'Address': '古羊路541号'}, {'Name': 'MODU酒吧淮海路店', 'Longitude': 121.467577, 'Latitude': 31.223547, 'Address': '上海市黄浦区淮海中路887号'}, {'Name': '红盈廷', 'Longitude': 121.474697, 'Latitude': 31.278845, 'Address': '同丰路667弄45号紫金公馆1楼'}, {'Name': '利都啤酒屋', 'Longitude': 121.254581, 'Latitude': 31.389634, 'Address': '城中路149号2楼（嘉定商城对面弄堂）'}, {'Name': '尊邸', 'Longitude': 121.47567, 'Latitude': 31.221349, 'Address': '上海市黄浦区复兴中路523号思南公馆1层'}, {'Name': 'YK CLUB酒吧', 'Longitude': 121.206952, 'Latitude': 31.031211, 'Address': '思贤路1855弄7号'}, {'Name': '证大丽笙酒店-大堂酒廊', 'Longitude': 121.566945, 'Latitude': 31.232689, 'Address': '迎春路1199号上海证大丽笙酒店1层'}, {'Name': '引航酒吧', 'Longitude': 121.495598, 'Latitude': 31.247068, 'Address': '上海市黄浦区中山东一路32号上海半岛酒店1层'}, {'Name': '绅酒廊', 'Longitude': 121.439512, 'Latitude': 31.217313, 'Address': '长宁区华山路1220弄6号绅公馆1楼(近江苏路)'}, {'Name': 'FABRIClub SHANGHAI', 'Longitude': 121.460769, 'Latitude': 31.227201, 'Address': '上海市静安区襄阳北路1号2楼'}, {'Name': 'casa cafe咖萨(永康路店)', 'Longitude': 121.464616, 'Latitude': 31.217205, 'Address': '永康路62-63号(近襄阳南路)'}, {'Name': '蓝蛙(国金中心店)', 'Longitude': 121.504401, 'Latitude': 31.241782, 'Address': '浦东新区陆家嘴西路168号正大广场1楼(近东方明珠)'}, {'Name': '787梦酒吧', 'Longitude': 121.79339, 'Latitude': 31.18508, 'Address': '江镇路1909号航空酒店1楼（近浦东机场）'}, {'Name': '大堂酒廊', 'Longitude': 121.4414, 'Latitude': 31.216874, 'Address': '上海市长宁区兴国路78号兴国宾馆4楼近华山路'}, {'Name': 'Wine+ Enoteca', 'Longitude': 121.454413, 'Latitude': 31.214965, 'Address': '乌鲁木齐南路甲1号2层'}, {'Name': '米洛大堂吧', 'Longitude': 121.560756, 'Latitude': 31.18909, 'Address': '沪南路938号茂业华美达广场酒店1层'}, {'Name': '筑山', 'Longitude': 121.426254, 'Latitude': 31.20689, 'Address': '凯旋路1415号108室'}, {'Name': '凯博西餐酒吧(环贸iapm)', 'Longitude': 121.464484, 'Latitude': 31.22182, 'Address': '上海市徐汇区环海中路999号上海环贸广场B1层LG1-142号'}, {'Name': 'Vini Bar', 'Longitude': 121.400746, 'Latitude': 31.211682, 'Address': '上海长宁区仙霞路427号(近古北路)'}, {'Name': 'MD CLUB', 'Longitude': 121.281509, 'Latitude': 31.333411, 'Address': '上海市嘉定区宝安公路3635号百金汉商业广场F1'}, {'Name': '沫的酒吧', 'Longitude': 121.056203, 'Latitude': 31.118977, 'Address': '上海市青浦区朱家角镇课植园路599弄18号106室'}, {'Name': '安德姆酒吧', 'Longitude': 121.529983, 'Latitude': 30.843342, 'Address': '上海市奉贤区奉炮公路408号'}, {'Name': '行政酒廊(昌邑路)', 'Longitude': 121.526846, 'Latitude': 31.246719, 'Address': '上海浦东新区浦东大道535号裕景大饭店38楼(近昌邑路)'}, {'Name': 'MAO(LIVEHOUSE店)', 'Longitude': 121.478484, 'Latitude': 31.215865, 'Address': '上海市黄浦区重庆南路308号白玉兰剧场3楼'}, {'Name': '库雪茄吧', 'Longitude': 121.412375, 'Latitude': 31.208855, 'Address': '长宁区延安西路2099号扬子江万丽酒店1楼(近延安西路遵义南路)'}, {'Name': '上海贝尔特酒店-大堂吧', 'Longitude': 121.427993, 'Latitude': 31.224381, 'Address': '定西路1525号贝尔特酒店内(近愚园路)'}, {'Name': '悦隆酒店大堂吧', 'Longitude': 121.356434, 'Latitude': 31.138921, 'Address': '中春路6699号上海悦隆酒店1楼'}, {'Name': '周浦学唱歌', 'Longitude': 121.584223, 'Latitude': 31.120543, 'Address': '上海市浦东新区康沈路1726弄4号'}, {'Name': '太有花园', 'Longitude': 121.452773, 'Latitude': 31.225455, 'Address': '静安区华山路285弄31号1楼(西尔顿宾馆对面)'}, {'Name': '上海新园华美达广场酒店-大堂吧', 'Longitude': 121.412163, 'Latitude': 31.169703, 'Address': '上海市徐汇区漕宝路509号上海华美达兴园酒店A座1层'}, {'Name': 'The Beer Shelf', 'Longitude': 121.479695, 'Latitude': 31.223101, 'Address': '淡水路232号'}, {'Name': '8 balance', 'Longitude': 121.408396, 'Latitude': 31.21331, 'Address': '上海长宁区古北路555弄虹桥华庭5号楼103室(近仙霞路)'}, {'Name': '汇吧', 'Longitude': 121.514237, 'Latitude': 31.249266, 'Address': '浦东南路111号文华东方酒店1层'}, {'Name': 'BB运动酒吧', 'Longitude': 121.523449, 'Latitude': 31.21538, 'Address': '浦东南路2111号福朋喜来登由由酒店4层'}, {'Name': '吧三十九', 'Longitude': 121.451877, 'Latitude': 31.225633, 'Address': '华山路250号静安昆仑大酒店39楼（近延安西路）'}, {'Name': '春之韵酒吧', 'Longitude': 121.479161, 'Latitude': 31.203939, 'Address': '打浦路437号3层'}, {'Name': '外滩浦华大酒店大堂吧', 'Longitude': 121.50932, 'Latitude': 31.25705, 'Address': '高阳路168号上海外滩浦华大酒店1层'}, {'Name': '好时光酒吧', 'Longitude': 121.454619, 'Latitude': 31.224783, 'Address': '静安区巨鹿路876号(近常熟路)'}, {'Name': 'EDM cafebar', 'Longitude': 121.446274, 'Latitude': 31.222072, 'Address': '上海市静安区华山路710号'}, {'Name': '杰克丹尼威士忌', 'Longitude': 121.424742, 'Latitude': 31.200444, 'Address': '上海长宁区中山西路1243号三湘大厦3楼'}, {'Name': 'dji', 'Longitude': 121.480802, 'Latitude': 31.224446, 'Address': '上海市黄浦区自忠路386'}, {'Name': 'lucky pub', 'Longitude': 121.497629, 'Latitude': 31.250786, 'Address': '上海市虹口区大名路66号-、68号'}, {'Name': '百乐门(同乐坊店)', 'Longitude': 121.450226, 'Latitude': 31.242832, 'Address': '余姚路74号同乐坊内'}, {'Name': '裕景大堂酒廊', 'Longitude': 121.526862, 'Latitude': 31.246787, 'Address': '浦东大道535号裕景大饭店1层'}, {'Name': '酒吧皇后', 'Longitude': 121.224196, 'Latitude': 31.039678, 'Address': '上海市松江区文诚路358号嘉和休闲广场F1'}, {'Name': 'Verdant Pub', 'Longitude': 121.379751, 'Latitude': 31.183908, 'Address': '金汇路463弄金石广场28号D栋2楼（近红松路）'}, {'Name': '富豪环球东亚酒店-行政酒廊', 'Longitude': 121.45024, 'Latitude': 31.208036, 'Address': '上海徐汇区衡山路516号富豪环球东亚酒店18楼(衡山路吴兴路)'}, {'Name': 'Wood lounge', 'Longitude': 121.472549, 'Latitude': 31.224789, 'Address': '思南路30号4楼'}, {'Name': '蓝伯特酒品', 'Longitude': 121.391856, 'Latitude': 31.149118, 'Address': '龙茗路1300弄古美生活购物广场2楼'}, {'Name': 'Les Club_QueenBar上海', 'Longitude': 121.496026, 'Latitude': 31.252777, 'Address': '上海虹口区吴淞路205号27楼顶层(武昌路)'}, {'Name': 'Snack Bar酒吧', 'Longitude': 121.563762, 'Latitude': 31.209222, 'Address': '上海市浦东新区龙阳路2000号龙阳广场F5层'}, {'Name': 'Champion', 'Longitude': 121.383228, 'Latitude': 31.197383, 'Address': '上海市长宁区虹桥路2270号上海万豪虹桥大酒店1层'}, {'Name': 'M BAR', 'Longitude': 121.406955, 'Latitude': 31.216106, 'Address': '长宁区古北路444号(近天山路)'}, {'Name': 'Hop Elysian', 'Longitude': 121.608156, 'Latitude': 31.212059, 'Address': '金科路2889弄12号'}, {'Name': '七宝潮人夜店(旗舰店)', 'Longitude': 121.368706, 'Latitude': 31.140875, 'Address': '七莘路华中路路口财富108广场'}, {'Name': 'Adada bar音乐酒吧', 'Longitude': 121.361837, 'Latitude': 31.163845, 'Address': '漕宝路3299弄19号宝龙广场100A'}, {'Name': 'BrewBear精酿啤酒屋', 'Longitude': 121.466083, 'Latitude': 31.21082, 'Address': '建国西路283号尚街LOFT1号楼109室'}, {'Name': 'Road15', 'Longitude': 121.26382, 'Latitude': 31.374268, 'Address': '民乐路15号'}, {'Name': '马天尼', 'Longitude': 121.480425, 'Latitude': 31.22763, 'Address': '马当路99号新天地朗廷酒店内'}, {'Name': '源吧', 'Longitude': 121.557804, 'Latitude': 31.229813, 'Address': '上海市浦东新区民生路1433号世纪皇冠假日酒店1楼（民生路迎春路）'}, {'Name': 'NaNa Bar', 'Longitude': 121.486535, 'Latitude': 31.413108, 'Address': '盘古路465号(牡丹江路与盘古路交口西北角)'}, {'Name': '酒花天堂', 'Longitude': 121.608185, 'Latitude': 31.212216, 'Address': '金科路2889号长泰广场1层'}, {'Name': '上海国丰酒店-大堂酒廊', 'Longitude': 121.401106, 'Latitude': 31.23017, 'Address': '上海市普陀区大渡河路388号国盛中心1号座1楼(近云岭东路)'}, {'Name': '上海世茂佘山艾美酒店-酒吧', 'Longitude': 121.211824, 'Latitude': 31.101492, 'Address': '佘山林荫新路1288号'}, {'Name': 'JUPITER', 'Longitude': 121.43969, 'Latitude': 31.201735, 'Address': '徐家汇广元西路301'}, {'Name': '斑马餐厅酒吧', 'Longitude': 121.616104, 'Latitude': 31.184629, 'Address': '上海市浦东新区荣科路与百业路交叉口万科翡翠公园1楼'}, {'Name': 'Les', 'Longitude': 121.425226, 'Latitude': 31.214073, 'Address': '上海市长宁区法华镇路901号2层(近延安西路)'}, {'Name': '上海豫园万丽酒店-行政酒廊', 'Longitude': 121.494575, 'Latitude': 31.23321, 'Address': '黄浦区河南南路159号豫园万丽酒店17楼(近福佑路)'}, {'Name': '雨颂西餐厅葡萄酒吧', 'Longitude': 121.500671, 'Latitude': 31.236319, 'Address': '中山东二路外滩22号2楼(近新永安路、下延安高架后右转)'}, {'Name': 'fam酒吧', 'Longitude': 121.408015, 'Latitude': 31.213266, 'Address': '上海市长宁区古北路555弄-6号-102室'}, {'Name': '无·极·熊精酿鲜啤', 'Longitude': 121.619376, 'Latitude': 31.207867, 'Address': '上海市浦东新区建中路256号张江商业广场F1'}, {'Name': '夜时尚酒吧(天钥桥路店)', 'Longitude': 121.448256, 'Latitude': 31.186554, 'Address': '上海徐汇区天钥桥路666号'}, {'Name': 'Miss Boss', 'Longitude': 121.480514, 'Latitude': 31.199176, 'Address': '上海市黄浦区龙华东路810号海外滩F1'}, {'Name': 'ZEBRA BAR', 'Longitude': 121.51243, 'Latitude': 31.22445, 'Address': '上海市黄浦区中山南路505号老码头12号楼106/108'}, {'Name': '雅居乐万豪行政酒廊', 'Longitude': 121.480211, 'Latitude': 31.242442, 'Address': '西藏中路555号上海雅居乐万豪酒店37层'}, {'Name': 'KAGI CLUB', 'Longitude': 121.40765, 'Latitude': 31.213347, 'Address': '上海长宁区古北路555弄8号金虹桥商务楼B1楼105室'}, {'Name': 'BAR', 'Longitude': 121.59479, 'Latitude': 31.318537, 'Address': '上海市浦东新区张杨北路3181号阳光天地F3'}, {'Name': '巴黎春天新世界酒店-悠吧', 'Longitude': 121.427893, 'Latitude': 31.22466, 'Address': '上海市长宁区定西路1555号上海巴黎春天新世界酒店1层'}, {'Name': 'hv club', 'Longitude': 121.441152, 'Latitude': 31.335138, 'Address': '长江西路2335'}, {'Name': '皇后酒吧', 'Longitude': 121.92048, 'Latitude': 30.8872, 'Address': '古棕路438弄7号'}, {'Name': 'lucca cafe & lounge', 'Longitude': 121.436286, 'Latitude': 31.210486, 'Address': '上海市长宁区番禺路390号'}, {'Name': 'DEEP酒吧', 'Longitude': 121.225093, 'Latitude': 31.040053, 'Address': '上海市松江区文诚路358号嘉和休闲广场F1'}, {'Name': '本色酒吧(复兴广场)', 'Longitude': 121.47664, 'Latitude': 31.223772, 'Address': '雁荡路109号复兴广场1楼'}, {'Name': 'o2花园酒吧', 'Longitude': 121.391524, 'Latitude': 31.2522, 'Address': '上海市普陀区真光路1288号百联中环购物广场F1'}, {'Name': '66 Shanghai bar', 'Longitude': 121.393577, 'Latitude': 31.197111, 'Address': '长宁区虹梅路3338弄老外街12号虹梅休闲街（老外街）内(近延安西路)'}, {'Name': 'Rodicoco罗帝可可轻吧', 'Longitude': 121.327096, 'Latitude': 31.296695, 'Address': '上海市嘉定区南翔镇槎溪路808号'}, {'Name': '葡轩红酒(绣川路店)', 'Longitude': 121.715422, 'Latitude': 31.191818, 'Address': '上海浦东新区绣川路1077号'}, {'Name': 'fox bar', 'Longitude': 121.225092, 'Latitude': 31.04, 'Address': '上海市松江区文诚路358号嘉和休闲广场F1'}, {'Name': 'X-Club镭战酒吧', 'Longitude': 121.464554, 'Latitude': 31.208756, 'Address': '肇嘉浜路366号地下1楼B1室'}, {'Name': '开巴(长泰广场店)', 'Longitude': 121.607846, 'Latitude': 31.212187, 'Address': '金科路2889弄长泰广场东区1层酒吧街'}, {'Name': '黄埔滩酒吧', 'Longitude': 121.49774, 'Latitude': 31.249991, 'Address': '金山路19号（近外白渡桥）'}, {'Name': '米尔谷', 'Longitude': 121.214423, 'Latitude': 31.056165, 'Address': '文汇路656弄103室'}, {'Name': '凯博西餐酒吧(上海嘉里中心)', 'Longitude': 121.456009, 'Latitude': 31.229261, 'Address': '延安中路1238号静安嘉里中心1层S1-04号单元、2层S2-04单元'}, {'Name': '引领时尚潮流酒吧', 'Longitude': 121.260323, 'Latitude': 31.379657, 'Address': '沪宜公路裙裕路路口'}, {'Name': '夜魅酒吧(闸北店)', 'Longitude': 121.453123, 'Latitude': 31.269966, 'Address': '上海市静安区'}, {'Name': '学苑宾馆-大堂吧', 'Longitude': 121.194974, 'Latitude': 31.059786, 'Address': '广富林路3499号学苑宾馆2层'}, {'Name': '顺利建机', 'Longitude': 121.233996, 'Latitude': 31.321682, 'Address': '方德路100弄58号'}, {'Name': '登巴精酿啤酒吧', 'Longitude': 121.441836, 'Latitude': 31.22301, 'Address': '延安西路576号'}, {'Name': 'K2派对', 'Longitude': 121.157111, 'Latitude': 31.30649, 'Address': '安亭街938-1'}, {'Name': 'leeloo酒吧', 'Longitude': 121.499804, 'Latitude': 31.267285, 'Address': '上海市虹口区物华路218号'}, {'Name': '辰之酒吧', 'Longitude': 121.212496, 'Latitude': 31.056035, 'Address': '文汇路716号樱花广场1层'}, {'Name': '惠顺Bar', 'Longitude': 121.52291, 'Latitude': 31.214652, 'Address': '上海市浦东新区浦东南路2129-2临'}, {'Name': '皇冠行政酒廊', 'Longitude': 121.557692, 'Latitude': 31.229765, 'Address': '上海市浦东新区民生路1433号上海世纪皇冠假日酒店大堂25层'}, {'Name': 'SONG酒吧', 'Longitude': 121.250652, 'Latitude': 31.061323, 'Address': '岳阳街道广富林路699弄嘉鸿大厦一楼'}, {'Name': 'studio78', 'Longitude': 121.45767, 'Latitude': 31.229917, 'Address': '静安区铜仁路78-80号2楼(近延安中路)'}, {'Name': 'New Bee Bar', 'Longitude': 121.616347, 'Latitude': 31.107968, 'Address': '上海市浦东新区周浦镇周祝公路268号绿地乐和城F2'}, {'Name': 'Hacienda', 'Longitude': 121.455773, 'Latitude': 31.214576, 'Address': '徐汇区衡山路5号Zapata’s2楼(近东平路)'}, {'Name': '花庭第五间', 'Longitude': 121.608005, 'Latitude': 31.212198, 'Address': '上海市浦东新区金科路2889弄长泰广场F1'}, {'Name': '三度音乐酒吧', 'Longitude': 121.497466, 'Latitude': 31.239882, 'Address': '上海黄浦区中山东一路3号，上海总会大厦7楼'}, {'Name': 'Long Bar(常德路)', 'Longitude': 121.454799, 'Latitude': 31.228626, 'Address': '常德路1号璞丽酒店1层'}, {'Name': '百乐门(浦东2店)', 'Longitude': 121.52488, 'Latitude': 31.21636, 'Address': '浦建路15号新塘桥生活广场地下一楼'}, {'Name': '上海日航饭店-大堂酒廊', 'Longitude': 121.443703, 'Latitude': 31.223924, 'Address': '延安西路488号上海日航饭店1层'}, {'Name': 'E吧', 'Longitude': 121.526862, 'Latitude': 31.246786, 'Address': '浦东大道535号裕景大饭店4楼'}, {'Name': '恋空', 'Longitude': 121.119019, 'Latitude': 31.155272, 'Address': '上海市青浦区三元路253号'}, {'Name': '铁晶metglass', 'Longitude': 121.607183, 'Latitude': 31.212159, 'Address': '金科路2889号长泰广场1层'}, {'Name': '上海绿城玫瑰园度假酒店-大堂吧', 'Longitude': 121.353711, 'Latitude': 31.043717, 'Address': '元江路6600号上海绿城玫瑰园度假酒店1层'}, {'Name': '阁乐葡(建国西路)', 'Longitude': 121.465979, 'Latitude': 31.211657, 'Address': '徐汇区建国西路283号LOFT5101-5103室(近嘉善路)'}, {'Name': 'Shanghai 66 Bar', 'Longitude': 121.393577, 'Latitude': 31.197111, 'Address': '上海市长宁区虹梅路3338弄-15号'}, {'Name': '78 Bar', 'Longitude': 121.711422, 'Latitude': 31.202064, 'Address': '川沙新镇中市街55号'}, {'Name': 'CruItaly意大利中心-葡萄酒', 'Longitude': 121.321674, 'Latitude': 31.201361, 'Address': '上海市闵行区申长路888弄虹桥天地1号102室'}, {'Name': 'MT', 'Longitude': 121.461881, 'Latitude': 31.270574, 'Address': '上海市静安区柳营路763-789号盛源生活广场F4'}, {'Name': '52Bar', 'Longitude': 121.699624, 'Latitude': 31.202007, 'Address': '民贤路52'}, {'Name': '非洲主题餐厅酒吧', 'Longitude': 121.481488, 'Latitude': 31.189439, 'Address': '上钢路与世博大道交叉口南50米'}, {'Name': 'XINLE', 'Longitude': 121.460069, 'Latitude': 31.223564, 'Address': '新乐路178号'}, {'Name': 'Marinerspub', 'Longitude': 121.497938, 'Latitude': 31.238195, 'Address': '黄浦区延安东路7号船长酒店4楼(近中山东一路)'}, {'Name': '东锦江希尔顿逸林酒店-大堂酒廊', 'Longitude': 121.540674, 'Latitude': 31.216998, 'Address': '上海市浦东新区杨高南路889号上海东锦江希尔顿逸林酒店1层'}, {'Name': '虹梅嘉延酒店-活力酒廊', 'Longitude': 121.398529, 'Latitude': 31.186821, 'Address': '虹梅路2975号'}, {'Name': '梦苑酒吧', 'Longitude': 121.46373, 'Latitude': 31.218173, 'Address': '襄阳南路222号(复兴中路（湖南派出所对面)'}, {'Name': 'taekiug', 'Longitude': 121.763185, 'Latitude': 31.150403, 'Address': '施镇路396弄1号'}, {'Name': '七九吧', 'Longitude': 121.351059, 'Latitude': 31.216751, 'Address': '绥宁路239号'}, {'Name': '夜魅顶级酒吧(淮海路2号店)', 'Longitude': 121.486526, 'Latitude': 31.231128, 'Address': '淮海中路8号兰生大厦7楼'}, {'Name': 'benni’s bar', 'Longitude': 121.170699, 'Latitude': 31.295946, 'Address': '墨玉路29号新词商务酒店1层'}, {'Name': 'GB', 'Longitude': 121.426334, 'Latitude': 31.206621, 'Address': '上海长宁区凯旋路1415号凯旋商务中心103室(近安顺路)'}, {'Name': '上海浦东机场华美达大酒店-行政酒廊', 'Longitude': 121.80585, 'Latitude': 31.166811, 'Address': '启航路1100号浦东机场'}, {'Name': 'archie b’s', 'Longitude': 121.505731, 'Latitude': 31.24296, 'Address': '陆家嘴西路168号正大广场1层gf30'}, {'Name': 'young club', 'Longitude': 121.449906, 'Latitude': 31.242553, 'Address': '余姚路55-1A铺'}, {'Name': 'Bbang House Bar&Restauran', 'Longitude': 121.486785, 'Latitude': 31.272769, 'Address': '虹口区东江湾路194号(近虹口足球场)'}, {'Name': 'NEW YORK PUB& DANCE', 'Longitude': 121.476079, 'Latitude': 31.236874, 'Address': '南京西路385号地下1楼'}, {'Name': 'WAY', 'Longitude': 121.473924, 'Latitude': 30.933041, 'Address': '环城东路883路39号'}, {'Name': '满酒吧', 'Longitude': 121.466361, 'Latitude': 30.910674, 'Address': '环城南路766'}, {'Name': '上海大酒店-大堂酒廊', 'Longitude': 121.488011, 'Latitude': 31.24102, 'Address': '上海黄浦区九江路505号上海大酒店1楼(近福建中路)'}, {'Name': '香格里拉紫金酒廊', 'Longitude': 121.506722, 'Latitude': 31.24182, 'Address': '富城路33号浦东香格里拉大酒店紫金楼1楼'}, {'Name': '开巴', 'Longitude': 121.478584, 'Latitude': 31.250049, 'Address': '上海市静安区西藏北路198号上海大悦城北座F8'}, {'Name': 'Bar', 'Longitude': 121.513987, 'Latitude': 31.287127, 'Address': '上海市杨浦区四平路1388号同济联合广场F2'}, {'Name': '自由', 'Longitude': 121.467022, 'Latitude': 30.948476, 'Address': '上海奉贤区环城东路455-465弄绿地智尊1层'}, {'Name': '沙虹弄堂酒吧', 'Longitude': 121.444685, 'Latitude': 31.231338, 'Address': '万航渡路382号（近武宁南路）'}, {'Name': 'My Bar', 'Longitude': 121.448966, 'Latitude': 31.195358, 'Address': '天钥桥路325号嘉汇国际广场A座1层'}, {'Name': '草莓酒吧', 'Longitude': 121.512217, 'Latitude': 31.323017, 'Address': '上海市杨浦区国霞路458弄2号202室'}, {'Name': 'Lola Club', 'Longitude': 121.457562, 'Latitude': 31.212162, 'Address': '永嘉路570号永嘉庭4号楼1层413'}, {'Name': '一芯一蔷', 'Longitude': 121.496657, 'Latitude': 30.92092, 'Address': '上海市奉贤区望园南路1588弄60号'}, {'Name': \"KIMI'S酒吧简餐\", 'Longitude': 121.456265, 'Latitude': 31.133477, 'Address': '上海市徐汇区华发路230号东阔生活广场F1'}, {'Name': 'Konomi Dining Bar', 'Longitude': 121.246288, 'Latitude': 31.010845, 'Address': '普照路43'}, {'Name': '夜色酒吧', 'Longitude': 121.547605, 'Latitude': 30.875436, 'Address': '钱桥社区振钱路33号'}, {'Name': 'VEDETT酒吧', 'Longitude': 121.448509, 'Latitude': 31.237003, 'Address': '胶州路486号附近'}, {'Name': 'VesPertine', 'Longitude': 121.511723, 'Latitude': 31.225333, 'Address': '中山南路505号3号楼1楼(老码头创意园区内)(近毛家园路)'}, {'Name': 'SWEET TALKER咖啡酒吧', 'Longitude': 121.472706, 'Latitude': 31.231647, 'Address': '上海市静安区大沽路378'}, {'Name': 'M-BOX BAR', 'Longitude': 121.166279, 'Latitude': 31.295689, 'Address': '上海嘉定区新源路66弄世昶生活广场1层'}, {'Name': '虹居酒吧俱乐部', 'Longitude': 121.495819, 'Latitude': 31.254735, 'Address': '吴淞路299号宝御酒店4层'}, {'Name': 'XJ PALACE酒吧', 'Longitude': 121.190644, 'Latitude': 31.029296, 'Address': '上海松江区思贤路2631号'}, {'Name': '简艾咖啡酒吧沙龙', 'Longitude': 121.251763, 'Latitude': 31.390389, 'Address': '上海市嘉定区嘉定镇城中路138号罗宾森购物广场6层637-639室'}, {'Name': 'THE GREEN DRAGON', 'Longitude': 121.437681, 'Latitude': 31.209589, 'Address': '上海市长宁区法华镇路135-2号'}, {'Name': 'Miss Beer', 'Longitude': 121.480428, 'Latitude': 31.199163, 'Address': '上海市黄浦区龙华东路810号海外滩·名品汇F1'}, {'Name': '维心延安西路店', 'Longitude': 121.390282, 'Latitude': 31.197037, 'Address': '上海市长宁区虹梅路3721号森晟世洋国际广场F1'}, {'Name': '汉斯西餐酒吧', 'Longitude': 121.781061, 'Latitude': 31.055015, 'Address': '惠南镇人民东路2513号'}, {'Name': '吉而喜酒吧', 'Longitude': 121.412055, 'Latitude': 31.209515, 'Address': '遵义南路5号虹桥喜来登上海太平洋大饭店1楼'}, {'Name': 'XOXO Club', 'Longitude': 121.451426, 'Latitude': 31.225156, 'Address': '华山路370号静安宾馆海阁楼3楼'}, {'Name': '明悦大酒店-行政酒廊', 'Longitude': 121.563143, 'Latitude': 31.249374, 'Address': '崮山路500号明悦大酒店16楼（崮山路建平路）'}, {'Name': 'CRU Wine gallery', 'Longitude': 121.464541, 'Latitude': 31.226884, 'Address': '长乐路462号E102'}, {'Name': 'S1俱乐部', 'Longitude': 121.430635, 'Latitude': 31.21391, 'Address': '定西路738号3层'}, {'Name': '大堂吧(崮山路)', 'Longitude': 121.563142, 'Latitude': 31.249373, 'Address': '崮山路500号上海明悦大酒店1层'}, {'Name': '晒湾阁', 'Longitude': 121.509311, 'Latitude': 31.257041, 'Address': '高阳路168号外滩浦华大酒店22楼（近地铁12号线提篮桥站3号出口）'}, {'Name': '奥林匹克俱乐部-花园吧', 'Longitude': 121.445254, 'Latitude': 31.185673, 'Address': '中山南二路1800号上海奥林匹克俱乐部1层'}, {'Name': '比萨酒吧', 'Longitude': 121.44955, 'Latitude': 31.185135, 'Address': '上海徐汇区中山南二路1089号徐汇苑大厦1层'}, {'Name': 'natural', 'Longitude': 121.399387, 'Latitude': 31.200431, 'Address': '荣华西道99弄金马公寓2号101室(近水城南路)'}, {'Name': 'ARK coffee pub', 'Longitude': 121.516391, 'Latitude': 31.260115, 'Address': '长阳路舟山路62号'}, {'Name': '驿动大堂吧', 'Longitude': 121.401498, 'Latitude': 31.193264, 'Address': '红松东路1116号上海虹桥元一希尔顿酒店1层'}, {'Name': 'SHANGHAI CLUB', 'Longitude': 121.469814, 'Latitude': 31.234556, 'Address': '上海市静安区南京西路789号兴业太古汇F4'}, {'Name': 'BeerTogether', 'Longitude': 121.428596, 'Latitude': 31.20285, 'Address': '上海市长宁区淮海西路676-686号新淮海坊F1'}, {'Name': '2046酒吧(海湾路)', 'Longitude': 121.509521, 'Latitude': 30.845459, 'Address': '海湾旅游区海湾路1551号（海湾路与奉柘公路路口，华理北300米）'}, {'Name': 'Tian Di', 'Longitude': 121.497205, 'Latitude': 31.240613, 'Address': '中山东一路6号外滩6号3层'}, {'Name': 'TIME ZIPPING HOUSE', 'Longitude': 121.505785, 'Latitude': 31.270688, 'Address': '上海市虹口区瑞虹路188号瑞虹天地月亮湾F3'}, {'Name': '林肯Park', 'Longitude': 121.527026, 'Latitude': 31.301058, 'Address': '杨浦区国定东路319号'}, {'Name': '三伊酒吧', 'Longitude': 121.252661, 'Latitude': 31.062433, 'Address': '上海市松江区广富林路600弄三迪曼哈顿三号楼二层'}, {'Name': 'SPORTS MUSIC CLUB棒球俱乐部', 'Longitude': 121.46316, 'Latitude': 31.262765, 'Address': '上海市静安区芷江西路488号五月花生活广场西区三楼(普善路)'}, {'Name': 'TRAM BAR', 'Longitude': 121.201867, 'Latitude': 31.038915, 'Address': '上海市松江区三新北路900弄'}, {'Name': '魅酒(永康路店)', 'Longitude': 121.464942, 'Latitude': 31.217317, 'Address': '永康路48号(襄阳南路)'}, {'Name': '黄金壹号啤酒馆', 'Longitude': 121.430323, 'Latitude': 31.202762, 'Address': '上海市徐汇区虹桥路777号汇京国际广场B1'}, {'Name': '星河湾酒店闵行店-大堂吧', 'Longitude': 121.415166, 'Latitude': 31.093891, 'Address': '上海市闵行区都会路3799号星河湾酒店闵行店1层'}, {'Name': '虹桥锦江大酒店大堂酒廊', 'Longitude': 121.412225, 'Latitude': 31.209607, 'Address': '上海市长宁区遵义南路5号虹桥锦江大酒店1楼(兴义路与遵义南路交叉口)'}, {'Name': '德国手工啤酒', 'Longitude': 121.386941, 'Latitude': 31.178066, 'Address': '合川路2909号亲水花街3期E13-E14(合川路)'}, {'Name': '海鸥大厦-大堂酒廊', 'Longitude': 121.358217, 'Latitude': 30.73539, 'Address': '龙胜路58号海鸥大厦1层'}, {'Name': '首席公馆-大堂酒廊', 'Longitude': 121.461681, 'Latitude': 31.224178, 'Address': '上海市徐汇区新乐路82号首席公馆酒店1层'}, {'Name': 'LOUNGE', 'Longitude': 121.528316, 'Latitude': 31.235137, 'Address': '东方路899号上海浦东假日酒店1层'}, {'Name': '横浜1699餐厅酒吧', 'Longitude': 121.489281, 'Latitude': 31.263957, 'Address': '上海虹口区四川北路1699号2F近海伦西路巴黎春天对面'}, {'Name': 'Armanni Club', 'Longitude': 121.435694, 'Latitude': 31.208684, 'Address': '新华路160号上海影城B1楼'}, {'Name': '韦栗士', 'Longitude': 121.450151, 'Latitude': 31.22026, 'Address': '安福路195号3层'}, {'Name': '知会馆', 'Longitude': 121.47899, 'Latitude': 31.242818, 'Address': '北京西路61乙新金桥广场5层'}, {'Name': '上海浦东嘉里大酒店', 'Longitude': 121.569999, 'Latitude': 31.219253, 'Address': '上海市浦东新区花木路1388号'}, {'Name': '乐石生活会馆(塔城路店)', 'Longitude': 121.261262, 'Latitude': 31.388188, 'Address': '塔城路297-19幢5号'}, {'Name': '银狐酒吧', 'Longitude': 121.532521, 'Latitude': 31.331042, 'Address': '上海杨浦区世界路230号'}, {'Name': '凌睿酒吧', 'Longitude': 121.515487, 'Latitude': 31.208753, 'Address': '世博大道138号凌睿试驾体验中心院内(近南浦大桥)'}, {'Name': '月亮酒吧', 'Longitude': 121.771976, 'Latitude': 31.061586, 'Address': '文益路与文良街交叉口西50米'}, {'Name': 'coco酒吧(淮海中路店)', 'Longitude': 121.486355, 'Latitude': 31.231594, 'Address': '淮海中路8号（兰生大厦7楼）'}, {'Name': '外滩奥斯卡partyroom(静安店)', 'Longitude': 121.442956, 'Latitude': 31.243973, 'Address': '上海市普陀区胶州路941号3楼'}, {'Name': '大叔啤酒屋', 'Longitude': 121.102999, 'Latitude': 31.15129, 'Address': '上海市青浦区淀山湖大道218号新城吾悦广场F1'}, {'Name': 'PHEBE(新大陆广场店)', 'Longitude': 121.52545, 'Latitude': 31.235601, 'Address': '南泉北路528号新大陆广场3楼'}, {'Name': '蕴德诗', 'Longitude': 121.45317, 'Latitude': 31.229976, 'Address': '南京西路1618号久百城市广场2层'}, {'Name': 'Landmark', 'Longitude': 121.410208, 'Latitude': 31.210135, 'Address': '上海长宁区兴义路48号新世纪广场1楼'}, {'Name': '惟亚西餐厅音乐酒吧', 'Longitude': 121.480759, 'Latitude': 31.220544, 'Address': '马当路388号新天地SOHO复兴广场B栋102(近复兴中路)'}, {'Name': '星轨 STARTRAILS BAR', 'Longitude': 121.449137, 'Latitude': 31.195388, 'Address': '天钥桥路325号嘉汇国际广场A栋1楼'}, {'Name': 'The Lobby Lounge', 'Longitude': 121.451266, 'Latitude': 31.226537, 'Address': '延安西路65号上海国际贵都大饭店1层'}, {'Name': '非常周末', 'Longitude': 121.46025, 'Latitude': 30.921981, 'Address': '南桥镇南桥路333号(南桥电影院后面)'}, {'Name': '新词大酒店-大堂吧', 'Longitude': 121.170609, 'Latitude': 31.295723, 'Address': '墨玉路29号新词大酒店1楼'}, {'Name': '延安饭店-大堂吧', 'Longitude': 121.454692, 'Latitude': 31.227053, 'Address': '延安中路1111号延安饭店1层'}, {'Name': 'Keep in touch', 'Longitude': 121.564617, 'Latitude': 31.216765, 'Address': '梅花路999弄(近银宵路)'}, {'Name': 'Nova(香港广场店)', 'Longitude': 121.481467, 'Latitude': 31.229731, 'Address': '淮海中路282号香港广场北座3层07铺'}, {'Name': '梦香园酒吧', 'Longitude': 121.58555, 'Latitude': 31.25801, 'Address': '枣庄路627号(近张杨路)'}, {'Name': '橘子圈(新闸路店)', 'Longitude': 121.473703, 'Latitude': 31.245417, 'Address': '新闸路356号102室'}, {'Name': 'juice bar(来福士广场店)', 'Longitude': 121.488415, 'Latitude': 31.23444, 'Address': '上海市黄浦区西藏中路268号上海来福士广场6层'}, {'Name': 'RICH GATE', 'Longitude': 121.480843, 'Latitude': 31.225068, 'Address': '马当路222弄1-6号1地下一层105单元(华府天地)靠近兴业路号105'}, {'Name': '上海金桥红枫万豪酒店-大堂酒廊', 'Longitude': 121.598193, 'Latitude': 31.250072, 'Address': '上海市浦东新区新金桥路15号上海金桥红枫万豪酒店1层'}, {'Name': '上海天鹅宾馆-酒吧', 'Longitude': 121.488507, 'Latitude': 31.273996, 'Address': '四川北路2211号上海天鹅宾馆2层'}, {'Name': 'PLAY BOY CLUB', 'Longitude': 121.459758, 'Latitude': 31.241833, 'Address': '江宁路428号静安体育中心内1楼（近武安路）'}, {'Name': '8391CLUB', 'Longitude': 121.43174, 'Latitude': 31.192823, 'Address': '古宜路150号'}, {'Name': 'Drm Ple Bar', 'Longitude': 121.224546, 'Latitude': 31.040117, 'Address': '上海市松江区文诚路358号嘉和休闲广场F1'}, {'Name': '上海大华虹桥假日酒店-大堂酒廊', 'Longitude': 121.349268, 'Latitude': 31.168348, 'Address': '七莘路3555号上海大华虹桥假日酒店1层'}, {'Name': '萨贝客欧风餐厅酒吧', 'Longitude': 121.510931, 'Latitude': 31.216017, 'Address': '多稼路220号(近南仓街)'}, {'Name': '协通大酒店-大堂吧', 'Longitude': 121.22438, 'Latitude': 31.28244, 'Address': '曹安公路4671号协通大酒店1层'}, {'Name': '麦斯Club', 'Longitude': 121.426461, 'Latitude': 31.214644, 'Address': '上海市长宁区延安西路1590号2楼'}, {'Name': '虹港大酒店-大堂吧', 'Longitude': 121.354596, 'Latitude': 31.201045, 'Address': '迎宾一路688号虹港大酒店1层'}, {'Name': 'BEER BAR', 'Longitude': 121.344204, 'Latitude': 31.170397, 'Address': '上海市闵行区沪星路289弄28号顺恒国际商业广场F2'}, {'Name': '麦秸酒保', 'Longitude': 121.240558, 'Latitude': 31.038476, 'Address': '谷阳北路1425弄32号3层'}, {'Name': 'Hongdae Bear', 'Longitude': 121.480734, 'Latitude': 31.224177, 'Address': '上海市黄浦区自忠路388-、390号'}, {'Name': '安琪瑞纳酒吧', 'Longitude': 121.484142, 'Latitude': 31.282495, 'Address': '中山南2路999弄19号中信中山大厦18楼B座'}, {'Name': '101国际酒吧', 'Longitude': 121.424166, 'Latitude': 31.252826, 'Address': '石泉路475号汇泉大厦16楼'}, {'Name': '缤谷bingo', 'Longitude': 121.608481, 'Latitude': 31.211998, 'Address': '上海市浦东新区祖冲之路1239弄长泰广场B1'}, {'Name': 'Peng You&#039;s Bar', 'Longitude': 121.571916, 'Latitude': 31.140986, 'Address': '秀沿路789号'}, {'Name': '空中酒廊', 'Longitude': 121.466379, 'Latitude': 31.225998, 'Address': '茂名南路58号上海花园饭店33层'}, {'Name': '上海波特曼丽思卡尔顿酒店丽嘉阁', 'Longitude': 121.458203, 'Latitude': 31.233421, 'Address': '南京西路1376号上海波特曼丽思卡尔顿酒店1层'}, {'Name': '瑞金宾馆-大堂吧', 'Longitude': 121.470012, 'Latitude': 31.220084, 'Address': '上海市黄浦区瑞金二路118号上海瑞金洲际酒店主楼1层'}, {'Name': 'ASHA红酒吧', 'Longitude': 121.471241, 'Latitude': 31.229074, 'Address': '巨鹿路158号大同坊5162室(近成都南路)'}, {'Name': 'Mywine Bar', 'Longitude': 121.390874, 'Latitude': 31.196759, 'Address': '上海市长宁区虹梅路3721号森晟世洋国际广场F1'}, {'Name': '上海齐鲁万怡大酒店-大堂酒廊', 'Longitude': 121.532379, 'Latitude': 31.231824, 'Address': '东方路838临上海齐鲁万怡大酒店G层'}, {'Name': '玖合女仆(环龙路店)', 'Longitude': 121.536476, 'Latitude': 31.211741, 'Address': '环龙路65弄111号(近丽晟假日酒店)'}, {'Name': 'Mr Male Man Restaurant & Bar', 'Longitude': 121.345279, 'Latitude': 30.721581, 'Address': '卫零路159附近'}, {'Name': '玖合女仆(东体育会支路店)', 'Longitude': 121.486564, 'Latitude': 31.279019, 'Address': '虹口区东体育会支路17号(东江湾路)'}, {'Name': 'Moon Bar休闲吧', 'Longitude': 121.224499, 'Latitude': 31.03921, 'Address': '上海市松江区文诚路358号嘉和休闲广场F1'}, {'Name': '上海世茂皇家艾美酒店-酒吧', 'Longitude': 121.482719, 'Latitude': 31.240351, 'Address': '南京东路789号'}, {'Name': 'Puzzles Club', 'Longitude': 121.064118, 'Latitude': 31.091723, 'Address': '朱家角镇康园路399弄270号'}, {'Name': '集装箱酒吧', 'Longitude': 121.429732, 'Latitude': 31.209459, 'Address': '定西路432号B1层'}, {'Name': '620 wine', 'Longitude': 121.455453, 'Latitude': 31.211178, 'Address': '永嘉路620号(乌鲁木齐南路永嘉路路口)'}, {'Name': '玖合女仆(绍兴路店)', 'Longitude': 121.470611, 'Latitude': 31.215652, 'Address': '绍兴路15号-1'}, {'Name': 'CAS酒吧', 'Longitude': 121.448751, 'Latitude': 31.236224, 'Address': '武定路1089号'}, {'Name': '接受全上海酒吧KTV订位：您的朋友小唐', 'Longitude': 121.45011, 'Latitude': 31.242883, 'Address': '余姚路34号(海防路)'}, {'Name': '外高桥喜来登酒店', 'Longitude': 121.595447, 'Latitude': 31.356675, 'Address': '浦东新区中国(上海)自由贸易试验区基隆路28号(二号门内)'}, {'Name': '燃', 'Longitude': 121.437009, 'Latitude': 31.207943, 'Address': '上海市长宁区新华路83-1号-临'}, {'Name': '逸天廊', 'Longitude': 121.805934, 'Latitude': 31.166899, 'Address': '上海市浦东新区浦东机场启航路1100号1层'}, {'Name': '上海南翔假日酒店-行政酒廊', 'Longitude': 121.326647, 'Latitude': 31.296069, 'Address': '上海市嘉定区槎溪路789号上海南翔假日酒店18层'}, {'Name': 'THE B BAR', 'Longitude': 121.514023, 'Latitude': 31.223385, 'Address': '外马路601号老码头沃弗3号库1楼113'}, {'Name': 'Coconut', 'Longitude': 121.566456, 'Latitude': 31.23377, 'Address': '上海市浦东新区芳甸路199弄证大·大拇指广场F1'}, {'Name': 'Louge True Eyes', 'Longitude': 121.408526, 'Latitude': 31.213333, 'Address': '长宁区古北路555弄5号--101'}, {'Name': 'U.likeMarket(百盛天山店A楼)', 'Longitude': 121.410128, 'Latitude': 31.216502, 'Address': '天山路789、889号F5层'}, {'Name': 'BED餐厅酒吧', 'Longitude': 121.47465, 'Latitude': 31.23712, 'Address': '南京西路456号科勒大楼4楼（近成都北路）'}, {'Name': 'O2 ENT BAR', 'Longitude': 121.428824, 'Latitude': 31.20504, 'Address': '长宁区淮海西路570号(近虹桥路)'}, {'Name': 'Models club', 'Longitude': 121.449879, 'Latitude': 31.224499, 'Address': '乌鲁木齐北路480号万泰大厦3楼'}, {'Name': 'Natural Bar(红松路店)', 'Longitude': 121.37869, 'Latitude': 31.187562, 'Address': '闵行区红松路159号(近金汇路)'}, {'Name': 'N度5 Club', 'Longitude': 121.399759, 'Latitude': 31.215848, 'Address': '茅台路478号2层'}, {'Name': 'Porterhouse爱尔兰酒吧', 'Longitude': 121.484898, 'Latitude': 31.18719, 'Address': '浦东世博园C片区博成路(近比利时-欧盟馆)'}, {'Name': '霞酒吧', 'Longitude': 121.418424, 'Latitude': 31.197205, 'Address': '古羊路433号3楼(张虹路口)'}, {'Name': '夜上海时尚酒吧', 'Longitude': 121.459511, 'Latitude': 31.241502, 'Address': '上海市静安区江宁路428号1楼'}, {'Name': '酒香', 'Longitude': 121.378136, 'Latitude': 31.18243, 'Address': '上海市闵行区虹井路288号乐虹坊精致生活广场F4'}, {'Name': 'theflamingo shanghai', 'Longitude': 121.467138, 'Latitude': 31.219337, 'Address': '徐汇区 陕西南路390号，近复兴东路(淮海路)'}, {'Name': '富庭芳钢琴酒吧', 'Longitude': 121.460469, 'Latitude': 31.233324, 'Address': '南京西路1225号上海锦沧文华大酒店地下1层'}, {'Name': 'Super Exciting Club', 'Longitude': 121.393189, 'Latitude': 31.179705, 'Address': '上海闵行区万源路2800号虹桥文化中心3楼'}, {'Name': '卡尔代制服酒吧', 'Longitude': 121.477365, 'Latitude': 31.238314, 'Address': '南京西路258号世贸商都4楼(人民广场地铁站10号、11号口)'}, {'Name': 'M CLUB BAR', 'Longitude': 121.390988, 'Latitude': 31.212737, 'Address': '仙霞路792号'}, {'Name': 'SIOWSIOW', 'Longitude': 121.482106, 'Latitude': 31.23749, 'Address': '上海市黄浦区人民大道100号1930风情街·名品坊1层'}, {'Name': 'CYKCLUB', 'Longitude': 121.514113, 'Latitude': 31.223547, 'Address': '外马路601号老码头沃弗3号库1楼113室'}, {'Name': '么么哒Juice Bar', 'Longitude': 121.36167, 'Latitude': 31.191211, 'Address': '迎宾三路54附近'}, {'Name': 'German Corner Bar', 'Longitude': 121.379865, 'Latitude': 31.174376, 'Address': '闵行区虹泉路1101弄38号'}, {'Name': 'D19国际空中BAR', 'Longitude': 121.492412, 'Latitude': 31.25645, 'Address': '海宁路350-358号国际商厦商务楼19层'}, {'Name': 'LA FARFALLA(试营业店)', 'Longitude': 121.450255, 'Latitude': 31.233094, 'Address': '胶州路149弄2-2号2楼近北京西路'}, {'Name': 'Bar Constellation', 'Longitude': 121.457795, 'Latitude': 31.232895, 'Address': '上海市静安区南京西路1376号上海商城F2'}, {'Name': '五月May photo studio', 'Longitude': 121.202297, 'Latitude': 31.039502, 'Address': '上海市松江区三新北路900弄847'}, {'Name': 'Neigo(柳林路店)', 'Longitude': 121.486586, 'Latitude': 31.23086, 'Address': '柳林路1号柳林大厦6F'}, {'Name': '上海广场长城假日酒店长城楼(大堂酒吧)', 'Longitude': 121.459961, 'Latitude': 31.253209, 'Address': '恒丰路585号上海广场长城假日酒店长城楼1层'}, {'Name': 'U Way佑未味觉栈', 'Longitude': 121.492058, 'Latitude': 31.216258, 'Address': '上海市黄浦区西藏南路1108弄黄浦新苑商务5号楼318号(近西民立路'}, {'Name': '明酒廊', 'Longitude': 121.531026, 'Latitude': 31.23175, 'Address': '崂山路600号明城大酒店1层'}, {'Name': '黑莓', 'Longitude': 121.224499, 'Latitude': 31.03921, 'Address': '上海市松江区文诚路358号嘉和休闲广场F1'}, {'Name': '上海宝隆美爵酒店-贵宾行政酒廊', 'Longitude': 121.494207, 'Latitude': 31.302425, 'Address': '逸仙路180号上海宝隆美爵酒店10层'}, {'Name': '卓美亚喜玛拉雅酒店-行政酒廊', 'Longitude': 121.568056, 'Latitude': 31.216246, 'Address': '梅花路1108号卓美亚喜玛拉雅酒店21层'}, {'Name': 'STAR CLUB', 'Longitude': 121.51734, 'Latitude': 31.286901, 'Address': '彰武路67-1临附近'}, {'Name': 'PUYI CELLAR', 'Longitude': 121.496313, 'Latitude': 31.260861, 'Address': '哈尔滨路160号1913老洋行A102室近辽宁路'}, {'Name': 'MT12', 'Longitude': 121.472321, 'Latitude': 31.23711, 'Address': '静安区南京西路588号淘宝城附近(近凤阳路)'}, {'Name': 'Seven 7Floor', 'Longitude': 121.486285, 'Latitude': 31.231605, 'Address': '淮海中路8号兰生大厦7楼（近柳林路）'}, {'Name': '青青艺术酒吧', 'Longitude': 121.470158, 'Latitude': 31.215201, 'Address': '黄浦区绍兴路19号(近瑞金二路)'}, {'Name': '燃Bar', 'Longitude': 121.44178, 'Latitude': 31.232864, 'Address': '武定西路1188-2号'}, {'Name': 'Kiss Culb', 'Longitude': 121.442957, 'Latitude': 31.243973, 'Address': '胶州路941号近新会路路口长久大厦3楼'}, {'Name': '辰世', 'Longitude': 121.45106, 'Latitude': 31.223175, 'Address': '上海静安区华山路439号潮汕大楼商务楼3楼'}, {'Name': 'vino酒关', 'Longitude': 121.435223, 'Latitude': 31.217753, 'Address': '上海长宁区延安西路1155号1楼(近番禺路)'}, {'Name': 'CHICK', 'Longitude': 121.408074, 'Latitude': 31.213279, 'Address': '上海市长宁区古北路555弄-6号-102室'}, {'Name': '树里饮品店', 'Longitude': 121.399328, 'Latitude': 31.209664, 'Address': '上海长宁区虹古路280-1号'}, {'Name': 'level7', 'Longitude': 121.407261, 'Latitude': 31.216314, 'Address': '上海市长宁区古北路451号'}, {'Name': '杰盛俱乐部', 'Longitude': 121.473005, 'Latitude': 31.303061, 'Address': '车站北路709号(近广粤路)'}, {'Name': 'La Vista', 'Longitude': 121.514192, 'Latitude': 31.22244, 'Address': '外马路653号老码头4库1层'}, {'Name': 'Rodan Club', 'Longitude': 121.474354, 'Latitude': 31.210771, 'Address': '瑞金南路1-3临海兴广场4层'}, {'Name': 'OVERNIGHT BAR', 'Longitude': 121.447001, 'Latitude': 31.222748, 'Address': '华山路643号1楼'}, {'Name': '钢琴吧', 'Longitude': 121.454692, 'Latitude': 31.227054, 'Address': '延安中路1111号延安饭店1层'}, {'Name': 'spanish bar(伽顿广场店)', 'Longitude': 121.414433, 'Latitude': 31.208347, 'Address': '上海市长宁区延安西路2088号伽顿广场F3'}, {'Name': '诺亚美食街俱乐部', 'Longitude': 121.383712, 'Latitude': 31.237909, 'Address': '上海市普陀区金沙江路1734号'}, {'Name': '红酒俱乐部', 'Longitude': 121.563132, 'Latitude': 31.26185, 'Address': '浦东大道2392号2楼'}, {'Name': '上海帝盛酒店-大堂酒廊', 'Longitude': 121.556548, 'Latitude': 31.21642, 'Address': '花木路800号上海帝盛酒店1层'}, {'Name': 'One Way Street Bar', 'Longitude': 121.523017, 'Latitude': 31.228422, 'Address': '潍坊西路98号(浦东南路)'}, {'Name': 'Isola意索娜酒吧及扒房', 'Longitude': 121.509019, 'Latitude': 31.241969, 'Address': '上海市浦东新区世纪大道8号上海国金中心L4楼17号铺'}, {'Name': 'CLUB DKD', 'Longitude': 121.477463, 'Latitude': 31.227943, 'Address': '黄浦区淮海中路438号(近老重庆中路)'}, {'Name': '餐厅咖啡酒吧', 'Longitude': 121.470524, 'Latitude': 31.240452, 'Address': '升平街与茂名北路交叉口西北50米'}, {'Name': 'jl精灵酒吧', 'Longitude': 121.436173, 'Latitude': 31.21909, 'Address': '昭华路43弄1号'}, {'Name': 'Vi Ni', 'Longitude': 121.400876, 'Latitude': 31.211709, 'Address': '仙霞路425附近'}, {'Name': '圣诺亚皇冠假日酒店-大堂酒廊', 'Longitude': 121.384042, 'Latitude': 31.238174, 'Address': '金沙江路1699号圣诺亚皇冠假日酒店1层'}, {'Name': 'Damond俱乐部店(钻石俱乐部店)', 'Longitude': 121.415267, 'Latitude': 31.210283, 'Address': '仙霞路8号仲盛金融中心2楼钻石俱乐部DiamondClub延安西路2067号'}, {'Name': 'WOLF BAR', 'Longitude': 121.38999, 'Latitude': 31.196898, 'Address': '上海市长宁区虹梅路3721号森晟世洋国际广场F1'}, {'Name': 'Back Bar', 'Longitude': 121.224545, 'Latitude': 31.04001, 'Address': '上海市松江区文诚路358号嘉和休闲广场F1'}, {'Name': '苏活酒吧', 'Longitude': 121.417457, 'Latitude': 31.182514, 'Address': '钦江路99号海悦酒店1楼'}, {'Name': '浦东假日酒店-大堂酒廊', 'Longitude': 121.535623, 'Latitude': 31.229146, 'Address': '上海浦东新区东方路899号浦东假日酒店1楼(近向城路)'}, {'Name': 'MAO LIVEHOUSE SHANGHAI', 'Longitude': 121.478449, 'Latitude': 31.215929, 'Address': '黄浦区重庆南路308号（近建国中路）'}, {'Name': '百特酒吧', 'Longitude': 121.567205, 'Latitude': 31.232677, 'Address': '上海市浦东新区芳甸路199弄证大·大拇指广场F1'}, {'Name': '育音堂', 'Longitude': 121.423257, 'Latitude': 31.215241, 'Address': '长宁区凯旋路851号(凯旋路延安西路)'}, {'Name': 'TheShed', 'Longitude': 121.45663, 'Latitude': 31.240826, 'Address': '上海市静安区陕西北路698号'}, {'Name': 'Tokyo Night', 'Longitude': 121.399871, 'Latitude': 31.215835, 'Address': '茅台路478号1楼(近芙蓉江路)'}, {'Name': '壹号会馆', 'Longitude': 121.460798, 'Latitude': 31.227188, 'Address': '上海市静安区襄阳北路1号'}, {'Name': '长吧', 'Longitude': 121.454552, 'Latitude': 31.228605, 'Address': '常德路1号璞丽酒店1楼（常德路延安中路）'}, {'Name': 'The Office Live Music Bar', 'Longitude': 121.47505, 'Latitude': 31.212938, 'Address': '徐家汇路618号日月光中心广场1楼F09号铺'}, {'Name': 'Harley’sBar', 'Longitude': 121.44477, 'Latitude': 31.19568, 'Address': '上海市徐汇区南丹东路265号地下室(近漕溪北路)'}, {'Name': \"Cotton's(新华路店)\", 'Longitude': 121.433577, 'Latitude': 31.209531, 'Address': '上海市长宁区新华路294弄1'}, {'Name': '夏丽酒廊', 'Longitude': 121.227161, 'Latitude': 31.043505, 'Address': '人民北路1799号开元名都大酒店2楼（近新松江路）'}, {'Name': '上海MOOK酒吧', 'Longitude': 121.469208, 'Latitude': 31.237417, 'Address': '南京西路758号汇银大厦5层'}, {'Name': 'I Am Here', 'Longitude': 121.477285, 'Latitude': 30.93246, 'Address': '奉贤区运河北路96号(美都大酒店东侧)'}, {'Name': 'Seven PUB', 'Longitude': 121.38475, 'Latitude': 31.251345, 'Address': '梅川路1508号(近步行街)'}, {'Name': '酒池星座(自忠路店)', 'Longitude': 121.480061, 'Latitude': 31.224199, 'Address': '上海市黄浦区自忠路398号(近淡水路)'}, {'Name': '夜魅酒吧(乌鲁木齐路店)', 'Longitude': 121.452964, 'Latitude': 31.211928, 'Address': '衡山路欧登大厦1层'}, {'Name': 'Cat Eyes猫咪咖啡屋(静安店)', 'Longitude': 121.470471, 'Latitude': 31.23914, 'Address': '大田路129弄A幢17楼A室'}, {'Name': '洲海花园酒店-大堂酒吧', 'Longitude': 121.636455, 'Latitude': 31.326555, 'Address': '洲海路2777号洲海花园酒店1层'}, {'Name': 'Bar(淮海中路店)', 'Longitude': 121.444172, 'Latitude': 31.209896, 'Address': '上海徐汇区淮海中路1877号近天平路'}, {'Name': '威斯汀丽心吧', 'Longitude': 121.493381, 'Latitude': 31.238125, 'Address': '上海黄浦区河南中路88号上海威斯汀大饭店2楼(近广东路)'}, {'Name': 'Enoterra红酒吧(安福路店)', 'Longitude': 121.453334, 'Latitude': 31.221025, 'Address': '安福路55号（近常熟路）'}, {'Name': 'HOWFUN', 'Longitude': 121.45781, 'Latitude': 31.233308, 'Address': '上海市静安区南京西路1376号上海商城F2'}, {'Name': 'MODU酒吧 最嗨的酒吧', 'Longitude': 121.475538, 'Latitude': 31.226642, 'Address': '黄浦区淮海中路527号锦江国际购物中心内5-6楼(近雁荡路)'}, {'Name': '美丽时光酒吧(芳草路店)', 'Longitude': 121.566456, 'Latitude': 31.23377, 'Address': '上海市浦东新区芳甸路199弄证大·大拇指广场F1'}, {'Name': '花之林人文茶馆(华敏店)', 'Longitude': 121.439523, 'Latitude': 31.22103, 'Address': '上海市长宁区江苏路601号'}, {'Name': '夜魅顶级酒吧(衡山路1号店)', 'Longitude': 121.454437, 'Latitude': 31.213284, 'Address': '衡山路4号'}, {'Name': 'CJW爵士酒吧', 'Longitude': 121.48168, 'Latitude': 31.22555, 'Address': '上海市黄浦区兴业路123号新天地时尚1层'}, {'Name': '紫金山大酒店大堂酒吧(大堂吧)', 'Longitude': 121.53012, 'Latitude': 31.233664, 'Address': '东方路778号国信紫金山大酒店1层'}, {'Name': '无二PUB', 'Longitude': 121.659962, 'Latitude': 31.273355, 'Address': '上海市浦东新区金海路2505弄12号103室'}, {'Name': 'Bohemia coffee&bar(大学路店)', 'Longitude': 121.514649, 'Latitude': 31.308846, 'Address': '大学路297号（近国定路复旦大学）'}, {'Name': '蓝堡(锦延路店)', 'Longitude': 121.548697, 'Latitude': 31.22201, 'Address': '锦延路305号(近锦绣路)'}, {'Name': 'Richy(普安路店)', 'Longitude': 121.483684, 'Latitude': 31.230687, 'Address': '上海市黄浦区淮海中路138号无限度广场(近普安路)'}, {'Name': 'LIVEBAR', 'Longitude': 121.532041, 'Latitude': 31.300119, 'Address': '国顺东路800艺术园区西一楼(近双阳北路)'}, {'Name': 'Kens Bar', 'Longitude': 121.414482, 'Latitude': 31.208262, 'Address': '延安西路2088号嘉顿商业广场1层A-129号'}, {'Name': '勃比吧(大堂吧)', 'Longitude': 121.412166, 'Latitude': 31.169587, 'Address': '上海徐汇区漕宝路509号华美达兴园酒店2楼(近桂平路)'}, {'Name': '外滩全景酒吧', 'Longitude': 121.500066, 'Latitude': 31.250433, 'Address': '虹口区黄浦路118号(外滩茂悦对面)'}, {'Name': '1989 BAR', 'Longitude': 121.30973, 'Latitude': 31.206101, 'Address': '华翔路1989号上海虹桥金古源豪生大酒店2楼近兴虹路'}, {'Name': 'V-Gear', 'Longitude': 121.496209, 'Latitude': 31.244142, 'Address': '中山东一路18号4楼'}, {'Name': 'BMT酒吧', 'Longitude': 121.388434, 'Latitude': 31.179312, 'Address': '合川路2928号新乐坊A栋2楼'}, {'Name': '丽嘉酒吧', 'Longitude': 121.458203, 'Latitude': 31.233421, 'Address': '上海静安区南京西路1357号波特曼大酒店2楼(近西康路)'}, {'Name': 'Sugary咖啡厅酒吧', 'Longitude': 121.484733, 'Latitude': 31.213663, 'Address': '蒙自东路29号地下115-118室'}, {'Name': 'Rose Bar(新北路店)', 'Longitude': 121.202937, 'Latitude': 31.039134, 'Address': '上海市松江区三新北路900弄泰晤士小镇817号(近泰晤士小镇)'}, {'Name': 'MAXMO CLUB', 'Longitude': 121.455623, 'Latitude': 31.234232, 'Address': '上海静安区铜仁路333号2楼(近北京西路)'}, {'Name': 'Wine & Dinning Chateau Bacchus', 'Longitude': 121.426126, 'Latitude': 31.213668, 'Address': '上海长宁区法华镇路877号2楼(近延安西路站)'}, {'Name': '乐凯迪酒吧', 'Longitude': 121.497653, 'Latitude': 31.285369, 'Address': '曲阳路566号家乐福6楼'}, {'Name': '堂屋', 'Longitude': 121.424467, 'Latitude': 31.225625, 'Address': '上海市长宁区长宁路890号玫瑰坊M'}, {'Name': '金钟咖啡酒吧', 'Longitude': 121.486765, 'Latitude': 31.24148, 'Address': '上海市黄浦区九江路518号(南京东路福建中路路口)'}, {'Name': 'Blue moon bar酒吧', 'Longitude': 121.467295, 'Latitude': 31.227116, 'Address': '长乐路398号3楼'}, {'Name': '白银1553PUB', 'Longitude': 121.247361, 'Latitude': 31.350043, 'Address': '上海嘉定区白银路1553号(近地铁站)'}, {'Name': '花之林人文茶馆(昭化店)', 'Longitude': 121.428716, 'Latitude': 31.217481, 'Address': '昭化路512号（近定西路）'}, {'Name': '无ye酒吧', 'Longitude': 121.442493, 'Latitude': 31.271126, 'Address': '宜川路420-1号2楼'}, {'Name': 'Riverdeck ON THE BUND', 'Longitude': 121.503836, 'Latitude': 31.234257, 'Address': '上海黄浦区中山东二路505号(近新开河路)'}, {'Name': '雪茄客(1933老场坊店)', 'Longitude': 121.49843, 'Latitude': 31.260221, 'Address': '上海市虹口区沙泾路10号'}, {'Name': '悦台三号酒吧', 'Longitude': 121.487579, 'Latitude': 31.278341, 'Address': '东江湾路444号3区127室'}, {'Name': '凡醒坊', 'Longitude': 121.427431, 'Latitude': 31.204537, 'Address': '上海长宁区凯旋路1498号6号楼1楼近虹桥路'}, {'Name': '上海市金山区栖隐咖啡酒吧', 'Longitude': 121.174106, 'Latitude': 30.8923, 'Address': '上海市金山区金龙新街528弄2107-2110号'}, {'Name': '依诺田珑', 'Longitude': 121.506837, 'Latitude': 31.240977, 'Address': '上海浦东新区陆家嘴环路166号未来资产大厦裙楼2楼近花园石桥路'}, {'Name': 'Mr&Ms Beer', 'Longitude': 121.435337, 'Latitude': 31.217441, 'Address': '上海长宁区延安西路1155号绿地豪生酒店1楼(番愚路)'}, {'Name': 'Galaxy酒吧', 'Longitude': 121.418121, 'Latitude': 31.210076, 'Address': '上海长宁区中山西路888号银河宾馆中心2楼近新华路口'}, {'Name': \"The Martini's Bar\", 'Longitude': 121.500705, 'Latitude': 31.236315, 'Address': '中山东二路22号3楼'}, {'Name': 'Honey Bar(淮海中路店)', 'Longitude': 121.462858, 'Latitude': 31.221687, 'Address': '上海徐汇区淮海中路1045号裙楼2楼近汾阳路'}, {'Name': 'THAMES BAR', 'Longitude': 121.20211, 'Latitude': 31.040632, 'Address': '上海市松江区三新北路900弄泰晤士小镇1042号(近教堂)'}, {'Name': 'Cabaret by Tian Di酒吧', 'Longitude': 121.497231, 'Latitude': 31.240484, 'Address': '黄浦区外滩6号3楼(近广东路)'}, {'Name': '空中花园酒廊', 'Longitude': 121.443497, 'Latitude': 31.237065, 'Address': '康定路1018号逸阁大楼5楼'}, {'Name': 'MT Club(万体店)', 'Longitude': 121.449765, 'Latitude': 31.188208, 'Address': '徐汇区漕溪北路1111号上海体育馆四号门(近中山南二路)'}, {'Name': '玉餐厅酒吧', 'Longitude': 121.479403, 'Latitude': 31.197793, 'Address': '上海市黄浦区江滨路99号绿地万豪大酒店28-29楼'}, {'Name': \"JW's酒廊\", 'Longitude': 121.476539, 'Latitude': 31.236384, 'Address': '上海黄浦区南京西路399号JW万豪酒店40楼(近黄陂北路)'}, {'Name': '星巴克(锦延店)', 'Longitude': 121.546984, 'Latitude': 31.222604, 'Address': '上海浦东新区锦延路219号(近上海科技馆)'}, {'Name': 'zoo coffee(嘉定白银路店)', 'Longitude': 121.261074, 'Latitude': 31.356232, 'Address': '嘉定新城白银路556号(永盛路)'}, {'Name': '星巴克(碧云路店)', 'Longitude': 121.595265, 'Latitude': 31.248408, 'Address': '上海市浦东新区碧云路1156-1160号'}, {'Name': '绿洲大堂酒吧', 'Longitude': 121.466379, 'Latitude': 31.225998, 'Address': '上海市黄浦区茂名南路58号花园饭店1楼(近淮海中路)'}, {'Name': '星巴克(上海南站店)', 'Longitude': 121.437812, 'Latitude': 31.158377, 'Address': '上海市徐汇区盛泰奥特莱斯南广场1层B区南1-B25号'}, {'Name': '金古源豪生大酒店-池畔大堂吧', 'Longitude': 121.309732, 'Latitude': 31.206099, 'Address': '上海市闵行区华翔路1989号上海虹桥金古源豪生大酒店1楼近兴虹路'}, {'Name': '冠雅咖啡餐厅酒吧', 'Longitude': 121.452963, 'Latitude': 31.241429, 'Address': '西康路608号一楼'}, {'Name': 'MALABAR', 'Longitude': 121.448588, 'Latitude': 31.236145, 'Address': '上海市静安区武定路1081号'}, {'Name': 'M· C BAR酒吧', 'Longitude': 121.46458, 'Latitude': 30.911958, 'Address': '奉贤区轿行路968号(近悦华大酒店)'}, {'Name': '碳匠音乐餐厅酒吧', 'Longitude': 121.355341, 'Latitude': 31.098288, 'Address': '上海市松江区新南路560号'}, {'Name': 'Living Room咖啡店', 'Longitude': 121.513946, 'Latitude': 31.240025, 'Address': '上海浦东新区世纪大道100号环球金融中心上海柏悦酒店87楼(近东泰路)'}, {'Name': 'FLAMINGO CLUB(GAGA酒吧店)', 'Longitude': 121.441827, 'Latitude': 31.187628, 'Address': '漕溪北路1200号华亭宾馆3楼'}, {'Name': 'Shandy', 'Longitude': 121.211819, 'Latitude': 31.10143, 'Address': '佘山林荫新路1288号世茂佘山艾美酒店内'}, {'Name': '上岛咖啡(中山公园店)', 'Longitude': 121.423343, 'Latitude': 31.223091, 'Address': '长宁区汇川路99号新时空国际商务广场2楼(近长宁路)'}, {'Name': '漕河泾万丽酒店怡廊', 'Longitude': 121.403737, 'Latitude': 31.170996, 'Address': '上海市徐汇区田林路397号上海漕河泾万丽酒店1层'}, {'Name': '煌佳钢琴咖啡酒吧', 'Longitude': 121.438948, 'Latitude': 31.181288, 'Address': '田林东路120号2层'}, {'Name': '荣君酒吧KTV', 'Longitude': 121.50031, 'Latitude': 31.41104, 'Address': '东林路251号'}, {'Name': '“新”吧', 'Longitude': 121.480607, 'Latitude': 31.227647, 'Address': '马当路99号上海新天地朗廷酒5层'}, {'Name': '圣弗兰咖啡红酒吧', 'Longitude': 121.419114, 'Latitude': 31.191927, 'Address': '吴中路369号美恒大厦1层（近锦江之星）'}, {'Name': '上岛咖啡(平凉店)', 'Longitude': 121.538491, 'Latitude': 31.266693, 'Address': '上海市杨浦区平凉路1055号(近兰州路)'}, {'Name': '星巴克(外高桥店)', 'Longitude': 121.612231, 'Latitude': 31.319642, 'Address': '上海市浦东新区外高桥保税区加枫路24号'}, {'Name': '阿普斯咖啡餐厅酒吧', 'Longitude': 121.521842, 'Latitude': 31.307098, 'Address': '杨浦区凇沪路8号百联又一城购物中心1楼(翔殷路口)'}, {'Name': '星巴克(定西路店)', 'Longitude': 121.428942, 'Latitude': 31.223055, 'Address': '上海市长宁区定西路1328号巴黎春天F1'}, {'Name': '上岛咖啡(阳曲店)', 'Longitude': 121.466607, 'Latitude': 31.319927, 'Address': '阳曲路432号(近汾西路)'}, {'Name': '星巴克(丽园路店)', 'Longitude': 121.484149, 'Latitude': 31.212414, 'Address': '黄浦区蒙自路169号智造局内(近丽园路)'}, {'Name': '星巴克(嘉汇店)', 'Longitude': 121.448737, 'Latitude': 31.194735, 'Address': '上海市徐汇区天钥桥路323号腾飞广场1楼(南丹东路天钥桥路)'}, {'Name': '真锅咖啡馆(共和新路店)', 'Longitude': 121.465342, 'Latitude': 31.272827, 'Address': '共和新路1481号(近闸北公园)'}, {'Name': '滨果咖啡酒吧', 'Longitude': 121.509249, 'Latitude': 31.254105, 'Address': '高阳路77号3号登船平台'}, {'Name': '漫光阴咖啡', 'Longitude': 121.769036, 'Latitude': 31.11812, 'Address': '上海市浦东新区祝桥镇百熙路368弄2号楼11号'}, {'Name': '梦琴咖啡酒吧', 'Longitude': 121.400942, 'Latitude': 31.199772, 'Address': '上海长宁区水城南路28-1号2楼'}, {'Name': '彼岸咖啡酒吧', 'Longitude': 121.513858, 'Latitude': 31.206461, 'Address': '上海浦东新区南码头路101号海博大厦1层'}, {'Name': '泰努酒庄', 'Longitude': 121.224695, 'Latitude': 31.320673, 'Address': '上海嘉定区泰顺路133号(近花园浜路)'}, {'Name': '堡仕康(上海商城店)', 'Longitude': 121.458375, 'Latitude': 31.233055, 'Address': '上海静安区南京西路1376号商城1楼111室'}, {'Name': '上海国际贵都大饭店-大堂酒吧', 'Longitude': 121.451146, 'Latitude': 31.226456, 'Address': '上海市静安区延安西路65号国际贵都大饭店1楼'}, {'Name': '葡萄33号', 'Longitude': 121.464183, 'Latitude': 31.235073, 'Address': '南京西路1025弄静安别墅33号前门(近南汇路)'}, {'Name': '云间生活', 'Longitude': 121.521714, 'Latitude': 31.234031, 'Address': '陆家嘴街道中融大厦1088广场1楼(1088广场1F)'}, {'Name': 'nikai cafe&bar', 'Longitude': 121.399421, 'Latitude': 31.199994, 'Address': '荣华西道19弄11号2楼(近水城南路)'}, {'Name': '哈一顿国际大酒店-钢琴咖啡酒吧', 'Longitude': 121.403549, 'Latitude': 31.194107, 'Address': '上海市闵行区红松东路1000临哈一顿国际大酒店大堂1层'}, {'Name': '意诺餐厅酒吧', 'Longitude': 121.444864, 'Latitude': 31.268512, 'Address': '延长西路256号(近宜川路)'}, {'Name': '宛平宾馆-大堂酒吧', 'Longitude': 121.451207, 'Latitude': 31.204552, 'Address': '宛平路315号宛平宾馆2层'}, {'Name': 'jey cafe bar', 'Longitude': 121.514345, 'Latitude': 31.235134, 'Address': '浦明路99弄22号仁恒滨江园一期会所2层'}, {'Name': 'coffee bar 28k 烘焙咖啡', 'Longitude': 121.195241, 'Latitude': 31.206304, 'Address': '上海市青浦区重固虹桥万科红生活广场(福泉山路)'}] \n",
      "一共查询到759个酒吧\n"
     ]
    }
   ],
   "source": [
    "bars = open('bars.txt', 'r', encoding = 'utf8')\n",
    "print (bars.readline())\n",
    "bar = []\n",
    "n = 0\n",
    "for line in bars.readlines():\n",
    "    n += 1\n",
    "    str1 = line.split(':')\n",
    "    name= str1[0]\n",
    "    str2 = str1[1].split(',')\n",
    "    longitude = float(str2[0])\n",
    "    latitude = float(str2[1])\n",
    "    add = str2[2].strip()\n",
    "    bar.append({'Name':name, 'Longitude':longitude, 'Latitude':latitude, 'Address':add})\n",
    "\n",
    "print (bar, '\\n一共查询到%i个酒吧' % n)"
   ]
  },
  {
   "cell_type": "code",
   "execution_count": 88,
   "metadata": {},
   "outputs": [
    {
     "name": "stdout",
     "output_type": "stream",
     "text": [
      "{'Name': 'speak low', 'Longitude': 121.472243, 'Latitude': 31.220875, 'Address': '黄浦区复兴中路579号(近瑞金二路)'}\n"
     ]
    }
   ],
   "source": [
    "# 文件写入 - write\n",
    "\n",
    "path = '/Users/KevinTang/DataAnalysist/Python/'\n",
    "\n",
    "test_write = open(path + 'test_write.txt', 'w', encoding = 'utf8')\n",
    "\n",
    "test_write.write('The bars in Shanghai\\n')\n",
    "bar1 = str(bar[1])\n",
    "print (bar1)\n",
    "test_write.writelines(bar1)\n",
    "test_write.close()"
   ]
  },
  {
   "cell_type": "code",
   "execution_count": 103,
   "metadata": {},
   "outputs": [
    {
     "name": "stdout",
     "output_type": "stream",
     "text": [
      "[1, 2, 3, 4, 5, 6, 7, 8, 9, 10]\n",
      "['1,a\\n', '2,b\\n', '3,c\\n', '4,d\\n', '5,e\\n', '6,f\\n', '7,g\\n', '8,h\\n', '9,i\\n', '10,j\\n']\n"
     ]
    }
   ],
   "source": [
    "number = list(range(1,11))\n",
    "letter = ['a','b','c','d','e','f','g','h','i','j']\n",
    "print (number)\n",
    "\n",
    "data = []\n",
    "for i in range(len(letter)):\n",
    "    str1 = str(number[i]) + ',' + letter[i] + '\\n'\n",
    "    data.append(str1)\n",
    "print (data)\n",
    "\n",
    "path = \"/Users/KevinTang/DataAnalysist/Python/\"\n",
    "f = open (path + 'quiz2.txt', 'w', encoding = 'utf8')\n",
    "f.writelines(data)\n",
    "f.close()\n"
   ]
  },
  {
   "cell_type": "code",
   "execution_count": 104,
   "metadata": {},
   "outputs": [
    {
     "data": {
      "text/plain": [
       "'\\n【课程8.4】  pickle模块的运用\\n\\npickle提供了一个简单的持久化功能。可以将对象以文件的形式存放在磁盘上。\\n\\npython的pickle模块实现了基本的数据序列和反序列化\\n\\n通过pickle模块的序列化操作我们能够将程序中运行的对象信息保存到文件中去，永久存储\\n\\n通过pickle模块的反序列化操作，我们能够从文件中创建上一次程序保存的对象。\\n\\npickle.dump() / pickle.load()\\n\\n'"
      ]
     },
     "execution_count": 104,
     "metadata": {},
     "output_type": "execute_result"
    }
   ],
   "source": [
    "'''\n",
    "【课程8.4】  pickle模块的运用\n",
    "\n",
    "pickle提供了一个简单的持久化功能。可以将对象以文件的形式存放在磁盘上。\n",
    "\n",
    "python的pickle模块实现了基本的数据序列和反序列化\n",
    "\n",
    "通过pickle模块的序列化操作我们能够将程序中运行的对象信息保存到文件中去，永久存储\n",
    "\n",
    "通过pickle模块的反序列化操作，我们能够从文件中创建上一次程序保存的对象。\n",
    "\n",
    "pickle.dump() / pickle.load()\n",
    "\n",
    "'''"
   ]
  },
  {
   "cell_type": "code",
   "execution_count": 112,
   "metadata": {},
   "outputs": [
    {
     "name": "stdout",
     "output_type": "stream",
     "text": [
      "[1, 3, 4, 5]\n"
     ]
    }
   ],
   "source": [
    "# 将对象存到pkl文件中\n",
    "\n",
    "import pickle\n",
    "\n",
    "data1 = [1,3,4,5]\n",
    "data2 = {'a':[1,2,3,4], 'b':('string','abc'), 'c':'hello'}\n",
    "\n",
    "pic = open(path + 'pickletest.pkl','wb')  #wb：写入\n",
    "\n",
    "pickle.dump(data1,pic)\n",
    "pic.close()\n",
    "\n",
    "f = open(path + 'pickletest.pkl','rb') #rb：读取\n",
    "st = pickle.load(f)\n",
    "print (st)"
   ]
  }
 ],
 "metadata": {
  "kernelspec": {
   "display_name": "Python 3",
   "language": "python",
   "name": "python3"
  },
  "language_info": {
   "codemirror_mode": {
    "name": "ipython",
    "version": 3
   },
   "file_extension": ".py",
   "mimetype": "text/x-python",
   "name": "python",
   "nbconvert_exporter": "python",
   "pygments_lexer": "ipython3",
   "version": "3.6.4"
  }
 },
 "nbformat": 4,
 "nbformat_minor": 2
}
